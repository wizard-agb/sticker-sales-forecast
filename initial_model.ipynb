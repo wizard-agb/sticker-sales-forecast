{
 "cells": [
  {
   "cell_type": "code",
   "execution_count": 1,
   "metadata": {},
   "outputs": [],
   "source": [
    "import pandas as pd \n",
    "import numpy as np\n",
    "import matplotlib.pyplot as plt\n",
    "from tabulate import tabulate\n",
    "import plotly.express as px\n",
    "from statsmodels.tsa.seasonal import seasonal_decompose\n",
    "from pandas.plotting import autocorrelation_plot\n"
   ]
  },
  {
   "cell_type": "code",
   "execution_count": 2,
   "metadata": {},
   "outputs": [],
   "source": [
    "train = pd.read_csv('data/train.csv')\n",
    "test = pd.read_csv('data/test.csv')\n",
    "\n",
    "sub_file = pd.read_csv('data/sample_submission.csv')\n"
   ]
  },
  {
   "cell_type": "code",
   "execution_count": 6,
   "metadata": {},
   "outputs": [],
   "source": [
    "def transform_data(data):\n",
    "    if 'num_sold' in data.columns: \n",
    "        data.fillna({'num_sold':0}, inplace=True)\n",
    "\n",
    "    data['month'] = pd.to_datetime(data['date']).dt.month\n",
    "    data['year'] = pd.to_datetime(data['date']).dt.year\n",
    "    data['season'] = data['month'].map({1: 'Winter', 2: 'Winter', 3: 'Spring', 4: 'Spring', 5: 'Spring', 6: 'Summer', 7: 'Summer', 8: 'Summer', 9: 'Autumn', 10: 'Autumn', 11: 'Autumn', 12: 'Winter'})\n",
    "\n",
    "    # change season to categorical\n",
    "    data['season'] = data['season'].astype('category')\n",
    "    data['season'] = data['season'].cat.codes\n",
    "\n",
    "    # change product to categorical\n",
    "    data['product'] = data['product'].astype('category')\n",
    "    data['product'] = data['product'].cat.codes\n",
    "\n",
    "    # change country to categorical\n",
    "    data['country'] = data['country'].astype('category')\n",
    "    data['country'] = data['country'].cat.codes\n",
    "\n",
    "    # change store to categorical\n",
    "    data['store'] = data['store'].astype('category')\n",
    "    data['store'] = data['store'].cat.codes\n",
    "\n",
    "    return data\n",
    "\n",
    "train = transform_data(train)\n",
    "test = transform_data(test)"
   ]
  },
  {
   "cell_type": "code",
   "execution_count": null,
   "metadata": {},
   "outputs": [],
   "source": []
  }
 ],
 "metadata": {
  "kernelspec": {
   "display_name": ".venv",
   "language": "python",
   "name": "python3"
  },
  "language_info": {
   "codemirror_mode": {
    "name": "ipython",
    "version": 3
   },
   "file_extension": ".py",
   "mimetype": "text/x-python",
   "name": "python",
   "nbconvert_exporter": "python",
   "pygments_lexer": "ipython3",
   "version": "3.12.2"
  }
 },
 "nbformat": 4,
 "nbformat_minor": 2
}
