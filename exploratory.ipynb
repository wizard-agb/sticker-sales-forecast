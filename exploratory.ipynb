{
 "cells": [
  {
   "cell_type": "markdown",
   "metadata": {},
   "source": [
    "# Forecasting Sticker Sales\n",
    "\n",
    "### Dataset Description\n",
    "For this challenge, you will be predicting multiple years worth of sales for various Kaggle-branded stickers from different fictitious stores in different (real!) countries. This dataset is completely synthetic, but contains many effects you see in real-world data, e.g., weekend and holiday effect, seasonality, etc.\n",
    "\n",
    "Good luck!\n",
    "\n",
    "### Files\n",
    "- train.csv - the training set, which includes the sales data for each date-country-store-item combination.\n",
    "- test.csv - the test set; your task is to predict the corresponding item sales (num_sold) for each date-country-store-item combination. Note the Public leaderboard is scored on the first year of the data, and the Private on the remaining.\n",
    "- sample_submission.csv - a sample submission file in the correct format"
   ]
  },
  {
   "cell_type": "code",
   "execution_count": 105,
   "metadata": {},
   "outputs": [],
   "source": [
    "import pandas as pd \n",
    "import numpy as np\n",
    "import matplotlib.pyplot as plt\n",
    "from tabulate import tabulate\n",
    "import plotly.express as px\n",
    "from statsmodels.tsa.seasonal import seasonal_decompose\n",
    "from pandas.plotting import autocorrelation_plot\n"
   ]
  },
  {
   "cell_type": "code",
   "execution_count": 106,
   "metadata": {},
   "outputs": [],
   "source": [
    "# Function to highlight values above and below a threshold\n",
    "\n",
    "\n",
    "def highlight_values(val, threshold=0.5):\n",
    "    if val > threshold:\n",
    "        return 'background-color: yellow'  # Highlight values above 0.5"
   ]
  },
  {
   "cell_type": "code",
   "execution_count": 107,
   "metadata": {},
   "outputs": [],
   "source": [
    "train = pd.read_csv('data/train.csv')\n",
    "test = pd.read_csv('data/test.csv')\n",
    "\n",
    "sub_file = pd.read_csv('data/sample_submission.csv')\n"
   ]
  },
  {
   "cell_type": "code",
   "execution_count": 108,
   "metadata": {},
   "outputs": [
    {
     "data": {
      "text/html": [
       "<div>\n",
       "<style scoped>\n",
       "    .dataframe tbody tr th:only-of-type {\n",
       "        vertical-align: middle;\n",
       "    }\n",
       "\n",
       "    .dataframe tbody tr th {\n",
       "        vertical-align: top;\n",
       "    }\n",
       "\n",
       "    .dataframe thead th {\n",
       "        text-align: right;\n",
       "    }\n",
       "</style>\n",
       "<table border=\"1\" class=\"dataframe\">\n",
       "  <thead>\n",
       "    <tr style=\"text-align: right;\">\n",
       "      <th></th>\n",
       "      <th>id</th>\n",
       "      <th>date</th>\n",
       "      <th>country</th>\n",
       "      <th>store</th>\n",
       "      <th>product</th>\n",
       "      <th>num_sold</th>\n",
       "    </tr>\n",
       "  </thead>\n",
       "  <tbody>\n",
       "    <tr>\n",
       "      <th>0</th>\n",
       "      <td>0</td>\n",
       "      <td>2010-01-01</td>\n",
       "      <td>Canada</td>\n",
       "      <td>Discount Stickers</td>\n",
       "      <td>Holographic Goose</td>\n",
       "      <td>NaN</td>\n",
       "    </tr>\n",
       "    <tr>\n",
       "      <th>1</th>\n",
       "      <td>1</td>\n",
       "      <td>2010-01-01</td>\n",
       "      <td>Canada</td>\n",
       "      <td>Discount Stickers</td>\n",
       "      <td>Kaggle</td>\n",
       "      <td>973.0</td>\n",
       "    </tr>\n",
       "    <tr>\n",
       "      <th>2</th>\n",
       "      <td>2</td>\n",
       "      <td>2010-01-01</td>\n",
       "      <td>Canada</td>\n",
       "      <td>Discount Stickers</td>\n",
       "      <td>Kaggle Tiers</td>\n",
       "      <td>906.0</td>\n",
       "    </tr>\n",
       "    <tr>\n",
       "      <th>3</th>\n",
       "      <td>3</td>\n",
       "      <td>2010-01-01</td>\n",
       "      <td>Canada</td>\n",
       "      <td>Discount Stickers</td>\n",
       "      <td>Kerneler</td>\n",
       "      <td>423.0</td>\n",
       "    </tr>\n",
       "    <tr>\n",
       "      <th>4</th>\n",
       "      <td>4</td>\n",
       "      <td>2010-01-01</td>\n",
       "      <td>Canada</td>\n",
       "      <td>Discount Stickers</td>\n",
       "      <td>Kerneler Dark Mode</td>\n",
       "      <td>491.0</td>\n",
       "    </tr>\n",
       "  </tbody>\n",
       "</table>\n",
       "</div>"
      ],
      "text/plain": [
       "   id        date country              store             product  num_sold\n",
       "0   0  2010-01-01  Canada  Discount Stickers   Holographic Goose       NaN\n",
       "1   1  2010-01-01  Canada  Discount Stickers              Kaggle     973.0\n",
       "2   2  2010-01-01  Canada  Discount Stickers        Kaggle Tiers     906.0\n",
       "3   3  2010-01-01  Canada  Discount Stickers            Kerneler     423.0\n",
       "4   4  2010-01-01  Canada  Discount Stickers  Kerneler Dark Mode     491.0"
      ]
     },
     "execution_count": 108,
     "metadata": {},
     "output_type": "execute_result"
    }
   ],
   "source": [
    "train.head()"
   ]
  },
  {
   "cell_type": "markdown",
   "metadata": {},
   "source": [
    "# Missing Values"
   ]
  },
  {
   "cell_type": "code",
   "execution_count": 109,
   "metadata": {},
   "outputs": [
    {
     "data": {
      "text/plain": [
       "id             0\n",
       "date           0\n",
       "country        0\n",
       "store          0\n",
       "product        0\n",
       "num_sold    8871\n",
       "dtype: int64"
      ]
     },
     "execution_count": 109,
     "metadata": {},
     "output_type": "execute_result"
    }
   ],
   "source": [
    "# check for missing values\n",
    "\n",
    "train.isnull().sum()"
   ]
  },
  {
   "cell_type": "code",
   "execution_count": 110,
   "metadata": {},
   "outputs": [
    {
     "name": "stderr",
     "output_type": "stream",
     "text": [
      "/var/folders/d4/rcb0hfcs0bzgr7z0mw72lc_w0000gn/T/ipykernel_5630/3231347797.py:3: FutureWarning:\n",
      "\n",
      "A value is trying to be set on a copy of a DataFrame or Series through chained assignment using an inplace method.\n",
      "The behavior will change in pandas 3.0. This inplace method will never work because the intermediate object on which we are setting values always behaves as a copy.\n",
      "\n",
      "For example, when doing 'df[col].method(value, inplace=True)', try using 'df.method({col: value}, inplace=True)' or df[col] = df[col].method(value) instead, to perform the operation inplace on the original object.\n",
      "\n",
      "\n",
      "\n"
     ]
    }
   ],
   "source": [
    "# fill missing values with 0\n",
    "\n",
    "train['num_sold'].fillna(0, inplace=True)"
   ]
  },
  {
   "cell_type": "code",
   "execution_count": 111,
   "metadata": {},
   "outputs": [
    {
     "data": {
      "text/plain": [
       "country\n",
       "Canada       38355\n",
       "Finland      38355\n",
       "Italy        38355\n",
       "Kenya        38355\n",
       "Norway       38355\n",
       "Singapore    38355\n",
       "Name: count, dtype: int64"
      ]
     },
     "execution_count": 111,
     "metadata": {},
     "output_type": "execute_result"
    }
   ],
   "source": [
    "# value counts in pie graphs for store, country, product\n",
    "\n",
    "train['country'].value_counts()"
   ]
  },
  {
   "cell_type": "code",
   "execution_count": 112,
   "metadata": {},
   "outputs": [
    {
     "data": {
      "text/plain": [
       "store\n",
       "Discount Stickers       76710\n",
       "Stickers for Less       76710\n",
       "Premium Sticker Mart    76710\n",
       "Name: count, dtype: int64"
      ]
     },
     "execution_count": 112,
     "metadata": {},
     "output_type": "execute_result"
    }
   ],
   "source": [
    "train['store'].value_counts()"
   ]
  },
  {
   "cell_type": "code",
   "execution_count": 113,
   "metadata": {},
   "outputs": [
    {
     "data": {
      "text/plain": [
       "product\n",
       "Holographic Goose     46026\n",
       "Kaggle                46026\n",
       "Kaggle Tiers          46026\n",
       "Kerneler              46026\n",
       "Kerneler Dark Mode    46026\n",
       "Name: count, dtype: int64"
      ]
     },
     "execution_count": 113,
     "metadata": {},
     "output_type": "execute_result"
    }
   ],
   "source": [
    "train['product'].value_counts()"
   ]
  },
  {
   "cell_type": "code",
   "execution_count": 114,
   "metadata": {},
   "outputs": [
    {
     "name": "stdout",
     "output_type": "stream",
     "text": [
      "2016-12-31\n",
      "2010-01-01\n"
     ]
    }
   ],
   "source": [
    "print(train['date'].max())\n",
    "print(train['date'].min())"
   ]
  },
  {
   "cell_type": "code",
   "execution_count": 115,
   "metadata": {},
   "outputs": [
    {
     "name": "stdout",
     "output_type": "stream",
     "text": [
      "+----+-----------+----------------------+--------------------+------------+\n",
      "|    | Country   | Store                | Product            |   Num Sold |\n",
      "+====+===========+======================+====================+============+\n",
      "|  0 | Canada    | Discount Stickers    | Holographic Goose  |       2557 |\n",
      "+----+-----------+----------------------+--------------------+------------+\n",
      "|  1 | Canada    | Discount Stickers    | Kaggle             |       2557 |\n",
      "+----+-----------+----------------------+--------------------+------------+\n",
      "|  2 | Canada    | Discount Stickers    | Kaggle Tiers       |       2557 |\n",
      "+----+-----------+----------------------+--------------------+------------+\n",
      "|  3 | Canada    | Discount Stickers    | Kerneler           |       2557 |\n",
      "+----+-----------+----------------------+--------------------+------------+\n",
      "|  4 | Canada    | Discount Stickers    | Kerneler Dark Mode |       2557 |\n",
      "+----+-----------+----------------------+--------------------+------------+\n",
      "|  5 | Canada    | Premium Sticker Mart | Holographic Goose  |       2557 |\n",
      "+----+-----------+----------------------+--------------------+------------+\n",
      "|  6 | Canada    | Premium Sticker Mart | Kaggle             |       2557 |\n",
      "+----+-----------+----------------------+--------------------+------------+\n",
      "|  7 | Canada    | Premium Sticker Mart | Kaggle Tiers       |       2557 |\n",
      "+----+-----------+----------------------+--------------------+------------+\n",
      "|  8 | Canada    | Premium Sticker Mart | Kerneler           |       2557 |\n",
      "+----+-----------+----------------------+--------------------+------------+\n",
      "|  9 | Canada    | Premium Sticker Mart | Kerneler Dark Mode |       2557 |\n",
      "+----+-----------+----------------------+--------------------+------------+\n",
      "| 10 | Canada    | Stickers for Less    | Holographic Goose  |       2557 |\n",
      "+----+-----------+----------------------+--------------------+------------+\n",
      "| 11 | Canada    | Stickers for Less    | Kaggle             |       2557 |\n",
      "+----+-----------+----------------------+--------------------+------------+\n",
      "| 12 | Canada    | Stickers for Less    | Kaggle Tiers       |       2557 |\n",
      "+----+-----------+----------------------+--------------------+------------+\n",
      "| 13 | Canada    | Stickers for Less    | Kerneler           |       2557 |\n",
      "+----+-----------+----------------------+--------------------+------------+\n",
      "| 14 | Canada    | Stickers for Less    | Kerneler Dark Mode |       2557 |\n",
      "+----+-----------+----------------------+--------------------+------------+\n",
      "| 15 | Finland   | Discount Stickers    | Holographic Goose  |       2557 |\n",
      "+----+-----------+----------------------+--------------------+------------+\n",
      "| 16 | Finland   | Discount Stickers    | Kaggle             |       2557 |\n",
      "+----+-----------+----------------------+--------------------+------------+\n",
      "| 17 | Finland   | Discount Stickers    | Kaggle Tiers       |       2557 |\n",
      "+----+-----------+----------------------+--------------------+------------+\n",
      "| 18 | Finland   | Discount Stickers    | Kerneler           |       2557 |\n",
      "+----+-----------+----------------------+--------------------+------------+\n",
      "| 19 | Finland   | Discount Stickers    | Kerneler Dark Mode |       2557 |\n",
      "+----+-----------+----------------------+--------------------+------------+\n",
      "| 20 | Finland   | Premium Sticker Mart | Holographic Goose  |       2557 |\n",
      "+----+-----------+----------------------+--------------------+------------+\n",
      "| 21 | Finland   | Premium Sticker Mart | Kaggle             |       2557 |\n",
      "+----+-----------+----------------------+--------------------+------------+\n",
      "| 22 | Finland   | Premium Sticker Mart | Kaggle Tiers       |       2557 |\n",
      "+----+-----------+----------------------+--------------------+------------+\n",
      "| 23 | Finland   | Premium Sticker Mart | Kerneler           |       2557 |\n",
      "+----+-----------+----------------------+--------------------+------------+\n",
      "| 24 | Finland   | Premium Sticker Mart | Kerneler Dark Mode |       2557 |\n",
      "+----+-----------+----------------------+--------------------+------------+\n",
      "| 25 | Finland   | Stickers for Less    | Holographic Goose  |       2557 |\n",
      "+----+-----------+----------------------+--------------------+------------+\n",
      "| 26 | Finland   | Stickers for Less    | Kaggle             |       2557 |\n",
      "+----+-----------+----------------------+--------------------+------------+\n",
      "| 27 | Finland   | Stickers for Less    | Kaggle Tiers       |       2557 |\n",
      "+----+-----------+----------------------+--------------------+------------+\n",
      "| 28 | Finland   | Stickers for Less    | Kerneler           |       2557 |\n",
      "+----+-----------+----------------------+--------------------+------------+\n",
      "| 29 | Finland   | Stickers for Less    | Kerneler Dark Mode |       2557 |\n",
      "+----+-----------+----------------------+--------------------+------------+\n",
      "| 30 | Italy     | Discount Stickers    | Holographic Goose  |       2557 |\n",
      "+----+-----------+----------------------+--------------------+------------+\n",
      "| 31 | Italy     | Discount Stickers    | Kaggle             |       2557 |\n",
      "+----+-----------+----------------------+--------------------+------------+\n",
      "| 32 | Italy     | Discount Stickers    | Kaggle Tiers       |       2557 |\n",
      "+----+-----------+----------------------+--------------------+------------+\n",
      "| 33 | Italy     | Discount Stickers    | Kerneler           |       2557 |\n",
      "+----+-----------+----------------------+--------------------+------------+\n",
      "| 34 | Italy     | Discount Stickers    | Kerneler Dark Mode |       2557 |\n",
      "+----+-----------+----------------------+--------------------+------------+\n",
      "| 35 | Italy     | Premium Sticker Mart | Holographic Goose  |       2557 |\n",
      "+----+-----------+----------------------+--------------------+------------+\n",
      "| 36 | Italy     | Premium Sticker Mart | Kaggle             |       2557 |\n",
      "+----+-----------+----------------------+--------------------+------------+\n",
      "| 37 | Italy     | Premium Sticker Mart | Kaggle Tiers       |       2557 |\n",
      "+----+-----------+----------------------+--------------------+------------+\n",
      "| 38 | Italy     | Premium Sticker Mart | Kerneler           |       2557 |\n",
      "+----+-----------+----------------------+--------------------+------------+\n",
      "| 39 | Italy     | Premium Sticker Mart | Kerneler Dark Mode |       2557 |\n",
      "+----+-----------+----------------------+--------------------+------------+\n",
      "| 40 | Italy     | Stickers for Less    | Holographic Goose  |       2557 |\n",
      "+----+-----------+----------------------+--------------------+------------+\n",
      "| 41 | Italy     | Stickers for Less    | Kaggle             |       2557 |\n",
      "+----+-----------+----------------------+--------------------+------------+\n",
      "| 42 | Italy     | Stickers for Less    | Kaggle Tiers       |       2557 |\n",
      "+----+-----------+----------------------+--------------------+------------+\n",
      "| 43 | Italy     | Stickers for Less    | Kerneler           |       2557 |\n",
      "+----+-----------+----------------------+--------------------+------------+\n",
      "| 44 | Italy     | Stickers for Less    | Kerneler Dark Mode |       2557 |\n",
      "+----+-----------+----------------------+--------------------+------------+\n",
      "| 45 | Kenya     | Discount Stickers    | Holographic Goose  |       2557 |\n",
      "+----+-----------+----------------------+--------------------+------------+\n",
      "| 46 | Kenya     | Discount Stickers    | Kaggle             |       2557 |\n",
      "+----+-----------+----------------------+--------------------+------------+\n",
      "| 47 | Kenya     | Discount Stickers    | Kaggle Tiers       |       2557 |\n",
      "+----+-----------+----------------------+--------------------+------------+\n",
      "| 48 | Kenya     | Discount Stickers    | Kerneler           |       2557 |\n",
      "+----+-----------+----------------------+--------------------+------------+\n",
      "| 49 | Kenya     | Discount Stickers    | Kerneler Dark Mode |       2557 |\n",
      "+----+-----------+----------------------+--------------------+------------+\n",
      "| 50 | Kenya     | Premium Sticker Mart | Holographic Goose  |       2557 |\n",
      "+----+-----------+----------------------+--------------------+------------+\n",
      "| 51 | Kenya     | Premium Sticker Mart | Kaggle             |       2557 |\n",
      "+----+-----------+----------------------+--------------------+------------+\n",
      "| 52 | Kenya     | Premium Sticker Mart | Kaggle Tiers       |       2557 |\n",
      "+----+-----------+----------------------+--------------------+------------+\n",
      "| 53 | Kenya     | Premium Sticker Mart | Kerneler           |       2557 |\n",
      "+----+-----------+----------------------+--------------------+------------+\n",
      "| 54 | Kenya     | Premium Sticker Mart | Kerneler Dark Mode |       2557 |\n",
      "+----+-----------+----------------------+--------------------+------------+\n",
      "| 55 | Kenya     | Stickers for Less    | Holographic Goose  |       2557 |\n",
      "+----+-----------+----------------------+--------------------+------------+\n",
      "| 56 | Kenya     | Stickers for Less    | Kaggle             |       2557 |\n",
      "+----+-----------+----------------------+--------------------+------------+\n",
      "| 57 | Kenya     | Stickers for Less    | Kaggle Tiers       |       2557 |\n",
      "+----+-----------+----------------------+--------------------+------------+\n",
      "| 58 | Kenya     | Stickers for Less    | Kerneler           |       2557 |\n",
      "+----+-----------+----------------------+--------------------+------------+\n",
      "| 59 | Kenya     | Stickers for Less    | Kerneler Dark Mode |       2557 |\n",
      "+----+-----------+----------------------+--------------------+------------+\n",
      "| 60 | Norway    | Discount Stickers    | Holographic Goose  |       2557 |\n",
      "+----+-----------+----------------------+--------------------+------------+\n",
      "| 61 | Norway    | Discount Stickers    | Kaggle             |       2557 |\n",
      "+----+-----------+----------------------+--------------------+------------+\n",
      "| 62 | Norway    | Discount Stickers    | Kaggle Tiers       |       2557 |\n",
      "+----+-----------+----------------------+--------------------+------------+\n",
      "| 63 | Norway    | Discount Stickers    | Kerneler           |       2557 |\n",
      "+----+-----------+----------------------+--------------------+------------+\n",
      "| 64 | Norway    | Discount Stickers    | Kerneler Dark Mode |       2557 |\n",
      "+----+-----------+----------------------+--------------------+------------+\n",
      "| 65 | Norway    | Premium Sticker Mart | Holographic Goose  |       2557 |\n",
      "+----+-----------+----------------------+--------------------+------------+\n",
      "| 66 | Norway    | Premium Sticker Mart | Kaggle             |       2557 |\n",
      "+----+-----------+----------------------+--------------------+------------+\n",
      "| 67 | Norway    | Premium Sticker Mart | Kaggle Tiers       |       2557 |\n",
      "+----+-----------+----------------------+--------------------+------------+\n",
      "| 68 | Norway    | Premium Sticker Mart | Kerneler           |       2557 |\n",
      "+----+-----------+----------------------+--------------------+------------+\n",
      "| 69 | Norway    | Premium Sticker Mart | Kerneler Dark Mode |       2557 |\n",
      "+----+-----------+----------------------+--------------------+------------+\n",
      "| 70 | Norway    | Stickers for Less    | Holographic Goose  |       2557 |\n",
      "+----+-----------+----------------------+--------------------+------------+\n",
      "| 71 | Norway    | Stickers for Less    | Kaggle             |       2557 |\n",
      "+----+-----------+----------------------+--------------------+------------+\n",
      "| 72 | Norway    | Stickers for Less    | Kaggle Tiers       |       2557 |\n",
      "+----+-----------+----------------------+--------------------+------------+\n",
      "| 73 | Norway    | Stickers for Less    | Kerneler           |       2557 |\n",
      "+----+-----------+----------------------+--------------------+------------+\n",
      "| 74 | Norway    | Stickers for Less    | Kerneler Dark Mode |       2557 |\n",
      "+----+-----------+----------------------+--------------------+------------+\n",
      "| 75 | Singapore | Discount Stickers    | Holographic Goose  |       2557 |\n",
      "+----+-----------+----------------------+--------------------+------------+\n",
      "| 76 | Singapore | Discount Stickers    | Kaggle             |       2557 |\n",
      "+----+-----------+----------------------+--------------------+------------+\n",
      "| 77 | Singapore | Discount Stickers    | Kaggle Tiers       |       2557 |\n",
      "+----+-----------+----------------------+--------------------+------------+\n",
      "| 78 | Singapore | Discount Stickers    | Kerneler           |       2557 |\n",
      "+----+-----------+----------------------+--------------------+------------+\n",
      "| 79 | Singapore | Discount Stickers    | Kerneler Dark Mode |       2557 |\n",
      "+----+-----------+----------------------+--------------------+------------+\n",
      "| 80 | Singapore | Premium Sticker Mart | Holographic Goose  |       2557 |\n",
      "+----+-----------+----------------------+--------------------+------------+\n",
      "| 81 | Singapore | Premium Sticker Mart | Kaggle             |       2557 |\n",
      "+----+-----------+----------------------+--------------------+------------+\n",
      "| 82 | Singapore | Premium Sticker Mart | Kaggle Tiers       |       2557 |\n",
      "+----+-----------+----------------------+--------------------+------------+\n",
      "| 83 | Singapore | Premium Sticker Mart | Kerneler           |       2557 |\n",
      "+----+-----------+----------------------+--------------------+------------+\n",
      "| 84 | Singapore | Premium Sticker Mart | Kerneler Dark Mode |       2557 |\n",
      "+----+-----------+----------------------+--------------------+------------+\n",
      "| 85 | Singapore | Stickers for Less    | Holographic Goose  |       2557 |\n",
      "+----+-----------+----------------------+--------------------+------------+\n",
      "| 86 | Singapore | Stickers for Less    | Kaggle             |       2557 |\n",
      "+----+-----------+----------------------+--------------------+------------+\n",
      "| 87 | Singapore | Stickers for Less    | Kaggle Tiers       |       2557 |\n",
      "+----+-----------+----------------------+--------------------+------------+\n",
      "| 88 | Singapore | Stickers for Less    | Kerneler           |       2557 |\n",
      "+----+-----------+----------------------+--------------------+------------+\n",
      "| 89 | Singapore | Stickers for Less    | Kerneler Dark Mode |       2557 |\n",
      "+----+-----------+----------------------+--------------------+------------+\n"
     ]
    }
   ],
   "source": [
    "grouped_df = train.groupby(['country', 'store', 'product'])['num_sold'].count().reset_index()\n",
    "grouped_df.columns = ['Country', 'Store', 'Product', 'Num Sold']\n",
    "\n",
    "# Display as a pretty table\n",
    "print(tabulate(grouped_df, headers='keys', tablefmt='grid'))"
   ]
  },
  {
   "cell_type": "markdown",
   "metadata": {},
   "source": [
    "### From inspection it looks like Holographic Goose has a large amount of variance in the count of sales in Canada and Kenya for all of their stores."
   ]
  },
  {
   "cell_type": "code",
   "execution_count": 116,
   "metadata": {},
   "outputs": [
    {
     "data": {
      "text/html": [
       "<div>\n",
       "<style scoped>\n",
       "    .dataframe tbody tr th:only-of-type {\n",
       "        vertical-align: middle;\n",
       "    }\n",
       "\n",
       "    .dataframe tbody tr th {\n",
       "        vertical-align: top;\n",
       "    }\n",
       "\n",
       "    .dataframe thead th {\n",
       "        text-align: right;\n",
       "    }\n",
       "</style>\n",
       "<table border=\"1\" class=\"dataframe\">\n",
       "  <thead>\n",
       "    <tr style=\"text-align: right;\">\n",
       "      <th>product</th>\n",
       "      <th>Holographic Goose</th>\n",
       "      <th>Kaggle</th>\n",
       "      <th>Kaggle Tiers</th>\n",
       "      <th>Kerneler</th>\n",
       "      <th>Kerneler Dark Mode</th>\n",
       "    </tr>\n",
       "    <tr>\n",
       "      <th>country</th>\n",
       "      <th></th>\n",
       "      <th></th>\n",
       "      <th></th>\n",
       "      <th></th>\n",
       "      <th></th>\n",
       "    </tr>\n",
       "  </thead>\n",
       "  <tbody>\n",
       "    <tr>\n",
       "      <th>Canada</th>\n",
       "      <td>107.746057</td>\n",
       "      <td>1292.282753</td>\n",
       "      <td>1069.633034</td>\n",
       "      <td>583.778647</td>\n",
       "      <td>681.808500</td>\n",
       "    </tr>\n",
       "    <tr>\n",
       "      <th>Finland</th>\n",
       "      <td>177.405944</td>\n",
       "      <td>1270.898709</td>\n",
       "      <td>1048.214574</td>\n",
       "      <td>572.768609</td>\n",
       "      <td>671.928692</td>\n",
       "    </tr>\n",
       "    <tr>\n",
       "      <th>Italy</th>\n",
       "      <td>128.415852</td>\n",
       "      <td>920.549602</td>\n",
       "      <td>760.745535</td>\n",
       "      <td>415.487681</td>\n",
       "      <td>486.008343</td>\n",
       "    </tr>\n",
       "    <tr>\n",
       "      <th>Kenya</th>\n",
       "      <td>2.335289</td>\n",
       "      <td>31.393169</td>\n",
       "      <td>25.870291</td>\n",
       "      <td>13.884761</td>\n",
       "      <td>16.353670</td>\n",
       "    </tr>\n",
       "    <tr>\n",
       "      <th>Norway</th>\n",
       "      <td>337.579194</td>\n",
       "      <td>2414.199713</td>\n",
       "      <td>1994.730153</td>\n",
       "      <td>1089.705254</td>\n",
       "      <td>1276.587798</td>\n",
       "    </tr>\n",
       "    <tr>\n",
       "      <th>Singapore</th>\n",
       "      <td>204.719724</td>\n",
       "      <td>1464.983575</td>\n",
       "      <td>1210.871073</td>\n",
       "      <td>661.207274</td>\n",
       "      <td>773.480250</td>\n",
       "    </tr>\n",
       "  </tbody>\n",
       "</table>\n",
       "</div>"
      ],
      "text/plain": [
       "product    Holographic Goose       Kaggle  Kaggle Tiers     Kerneler  \\\n",
       "country                                                                \n",
       "Canada            107.746057  1292.282753   1069.633034   583.778647   \n",
       "Finland           177.405944  1270.898709   1048.214574   572.768609   \n",
       "Italy             128.415852   920.549602    760.745535   415.487681   \n",
       "Kenya               2.335289    31.393169     25.870291    13.884761   \n",
       "Norway            337.579194  2414.199713   1994.730153  1089.705254   \n",
       "Singapore         204.719724  1464.983575   1210.871073   661.207274   \n",
       "\n",
       "product    Kerneler Dark Mode  \n",
       "country                        \n",
       "Canada             681.808500  \n",
       "Finland            671.928692  \n",
       "Italy              486.008343  \n",
       "Kenya               16.353670  \n",
       "Norway            1276.587798  \n",
       "Singapore          773.480250  "
      ]
     },
     "execution_count": 116,
     "metadata": {},
     "output_type": "execute_result"
    }
   ],
   "source": [
    "summary_table = train.groupby(['country', 'product'])['num_sold'].rolling(7).mean().reset_index()\n",
    "summary_table = train.groupby(['country', 'product'])['num_sold'].mean().unstack()\n",
    "summary_table"
   ]
  },
  {
   "cell_type": "code",
   "execution_count": 117,
   "metadata": {},
   "outputs": [
    {
     "data": {
      "text/html": [
       "<div>\n",
       "<style scoped>\n",
       "    .dataframe tbody tr th:only-of-type {\n",
       "        vertical-align: middle;\n",
       "    }\n",
       "\n",
       "    .dataframe tbody tr th {\n",
       "        vertical-align: top;\n",
       "    }\n",
       "\n",
       "    .dataframe thead th {\n",
       "        text-align: right;\n",
       "    }\n",
       "</style>\n",
       "<table border=\"1\" class=\"dataframe\">\n",
       "  <thead>\n",
       "    <tr style=\"text-align: right;\">\n",
       "      <th>product</th>\n",
       "      <th>Holographic Goose</th>\n",
       "      <th>Kaggle</th>\n",
       "      <th>Kaggle Tiers</th>\n",
       "      <th>Kerneler</th>\n",
       "      <th>Kerneler Dark Mode</th>\n",
       "    </tr>\n",
       "    <tr>\n",
       "      <th>country</th>\n",
       "      <th></th>\n",
       "      <th></th>\n",
       "      <th></th>\n",
       "      <th></th>\n",
       "      <th></th>\n",
       "    </tr>\n",
       "  </thead>\n",
       "  <tbody>\n",
       "    <tr>\n",
       "      <th>Canada</th>\n",
       "      <td>0.028846</td>\n",
       "      <td>0.345970</td>\n",
       "      <td>0.286362</td>\n",
       "      <td>0.156289</td>\n",
       "      <td>0.182534</td>\n",
       "    </tr>\n",
       "    <tr>\n",
       "      <th>Finland</th>\n",
       "      <td>0.047419</td>\n",
       "      <td>0.339702</td>\n",
       "      <td>0.280180</td>\n",
       "      <td>0.153097</td>\n",
       "      <td>0.179602</td>\n",
       "    </tr>\n",
       "    <tr>\n",
       "      <th>Italy</th>\n",
       "      <td>0.047365</td>\n",
       "      <td>0.339535</td>\n",
       "      <td>0.280593</td>\n",
       "      <td>0.153248</td>\n",
       "      <td>0.179259</td>\n",
       "    </tr>\n",
       "    <tr>\n",
       "      <th>Kenya</th>\n",
       "      <td>0.025995</td>\n",
       "      <td>0.349445</td>\n",
       "      <td>0.287969</td>\n",
       "      <td>0.154555</td>\n",
       "      <td>0.182037</td>\n",
       "    </tr>\n",
       "    <tr>\n",
       "      <th>Norway</th>\n",
       "      <td>0.047461</td>\n",
       "      <td>0.339416</td>\n",
       "      <td>0.280442</td>\n",
       "      <td>0.153203</td>\n",
       "      <td>0.179477</td>\n",
       "    </tr>\n",
       "    <tr>\n",
       "      <th>Singapore</th>\n",
       "      <td>0.047441</td>\n",
       "      <td>0.339489</td>\n",
       "      <td>0.280602</td>\n",
       "      <td>0.153225</td>\n",
       "      <td>0.179243</td>\n",
       "    </tr>\n",
       "  </tbody>\n",
       "</table>\n",
       "</div>"
      ],
      "text/plain": [
       "product    Holographic Goose    Kaggle  Kaggle Tiers  Kerneler  \\\n",
       "country                                                          \n",
       "Canada              0.028846  0.345970      0.286362  0.156289   \n",
       "Finland             0.047419  0.339702      0.280180  0.153097   \n",
       "Italy               0.047365  0.339535      0.280593  0.153248   \n",
       "Kenya               0.025995  0.349445      0.287969  0.154555   \n",
       "Norway              0.047461  0.339416      0.280442  0.153203   \n",
       "Singapore           0.047441  0.339489      0.280602  0.153225   \n",
       "\n",
       "product    Kerneler Dark Mode  \n",
       "country                        \n",
       "Canada               0.182534  \n",
       "Finland              0.179602  \n",
       "Italy                0.179259  \n",
       "Kenya                0.182037  \n",
       "Norway               0.179477  \n",
       "Singapore            0.179243  "
      ]
     },
     "execution_count": 117,
     "metadata": {},
     "output_type": "execute_result"
    }
   ],
   "source": [
    "# calculate the % share for the summary_table by country\n",
    "sums = summary_table.sum(axis=1)\n",
    "summary_table = summary_table.div(sums, axis=0)\n",
    "summary_table"
   ]
  },
  {
   "cell_type": "code",
   "execution_count": 118,
   "metadata": {},
   "outputs": [
    {
     "data": {
      "text/html": [
       "<style type=\"text/css\">\n",
       "#T_43032_row0_col0 {\n",
       "  background-color: #dff2da;\n",
       "  color: #000000;\n",
       "}\n",
       "#T_43032_row0_col1 {\n",
       "  background-color: #46aace;\n",
       "  color: #f1f1f1;\n",
       "}\n",
       "#T_43032_row0_col2 {\n",
       "  background-color: #1e7fb7;\n",
       "  color: #f1f1f1;\n",
       "}\n",
       "#T_43032_row0_col3, #T_43032_row0_col4, #T_43032_row1_col0, #T_43032_row3_col1, #T_43032_row3_col2, #T_43032_row4_col0, #T_43032_row5_col0 {\n",
       "  background-color: #084081;\n",
       "  color: #f1f1f1;\n",
       "}\n",
       "#T_43032_row1_col1 {\n",
       "  background-color: #f2faeb;\n",
       "  color: #000000;\n",
       "}\n",
       "#T_43032_row1_col2, #T_43032_row1_col3, #T_43032_row3_col0, #T_43032_row4_col1, #T_43032_row5_col4 {\n",
       "  background-color: #f7fcf0;\n",
       "  color: #000000;\n",
       "}\n",
       "#T_43032_row1_col4 {\n",
       "  background-color: #e4f4de;\n",
       "  color: #000000;\n",
       "}\n",
       "#T_43032_row2_col0 {\n",
       "  background-color: #084182;\n",
       "  color: #f1f1f1;\n",
       "}\n",
       "#T_43032_row2_col1 {\n",
       "  background-color: #f5fbee;\n",
       "  color: #000000;\n",
       "}\n",
       "#T_43032_row2_col2, #T_43032_row5_col2 {\n",
       "  background-color: #eef8e7;\n",
       "  color: #000000;\n",
       "}\n",
       "#T_43032_row2_col3 {\n",
       "  background-color: #eef9e8;\n",
       "  color: #000000;\n",
       "}\n",
       "#T_43032_row2_col4, #T_43032_row5_col1 {\n",
       "  background-color: #f6fcef;\n",
       "  color: #000000;\n",
       "}\n",
       "#T_43032_row3_col3 {\n",
       "  background-color: #8bd2bf;\n",
       "  color: #000000;\n",
       "}\n",
       "#T_43032_row3_col4 {\n",
       "  background-color: #0f6faf;\n",
       "  color: #f1f1f1;\n",
       "}\n",
       "#T_43032_row4_col2, #T_43032_row4_col3 {\n",
       "  background-color: #f1faeb;\n",
       "  color: #000000;\n",
       "}\n",
       "#T_43032_row4_col4 {\n",
       "  background-color: #eaf7e4;\n",
       "  color: #000000;\n",
       "}\n",
       "#T_43032_row5_col3 {\n",
       "  background-color: #f0f9e9;\n",
       "  color: #000000;\n",
       "}\n",
       "</style>\n",
       "<table id=\"T_43032\">\n",
       "  <thead>\n",
       "    <tr>\n",
       "      <th class=\"index_name level0\" >product</th>\n",
       "      <th id=\"T_43032_level0_col0\" class=\"col_heading level0 col0\" >Holographic Goose</th>\n",
       "      <th id=\"T_43032_level0_col1\" class=\"col_heading level0 col1\" >Kaggle</th>\n",
       "      <th id=\"T_43032_level0_col2\" class=\"col_heading level0 col2\" >Kaggle Tiers</th>\n",
       "      <th id=\"T_43032_level0_col3\" class=\"col_heading level0 col3\" >Kerneler</th>\n",
       "      <th id=\"T_43032_level0_col4\" class=\"col_heading level0 col4\" >Kerneler Dark Mode</th>\n",
       "    </tr>\n",
       "    <tr>\n",
       "      <th class=\"index_name level0\" >country</th>\n",
       "      <th class=\"blank col0\" >&nbsp;</th>\n",
       "      <th class=\"blank col1\" >&nbsp;</th>\n",
       "      <th class=\"blank col2\" >&nbsp;</th>\n",
       "      <th class=\"blank col3\" >&nbsp;</th>\n",
       "      <th class=\"blank col4\" >&nbsp;</th>\n",
       "    </tr>\n",
       "  </thead>\n",
       "  <tbody>\n",
       "    <tr>\n",
       "      <th id=\"T_43032_level0_row0\" class=\"row_heading level0 row0\" >Canada</th>\n",
       "      <td id=\"T_43032_row0_col0\" class=\"data row0 col0\" >-0.011909</td>\n",
       "      <td id=\"T_43032_row0_col1\" class=\"data row0 col1\" >0.003710</td>\n",
       "      <td id=\"T_43032_row0_col2\" class=\"data row0 col2\" >0.003671</td>\n",
       "      <td id=\"T_43032_row0_col3\" class=\"data row0 col3\" >0.002353</td>\n",
       "      <td id=\"T_43032_row0_col4\" class=\"data row0 col4\" >0.002175</td>\n",
       "    </tr>\n",
       "    <tr>\n",
       "      <th id=\"T_43032_level0_row1\" class=\"row_heading level0 row1\" >Finland</th>\n",
       "      <td id=\"T_43032_row1_col0\" class=\"data row1 col0\" >0.006665</td>\n",
       "      <td id=\"T_43032_row1_col1\" class=\"data row1 col1\" >-0.002557</td>\n",
       "      <td id=\"T_43032_row1_col2\" class=\"data row1 col2\" >-0.002511</td>\n",
       "      <td id=\"T_43032_row1_col3\" class=\"data row1 col3\" >-0.000839</td>\n",
       "      <td id=\"T_43032_row1_col4\" class=\"data row1 col4\" >-0.000757</td>\n",
       "    </tr>\n",
       "    <tr>\n",
       "      <th id=\"T_43032_level0_row2\" class=\"row_heading level0 row2\" >Italy</th>\n",
       "      <td id=\"T_43032_row2_col0\" class=\"data row2 col0\" >0.006610</td>\n",
       "      <td id=\"T_43032_row2_col1\" class=\"data row2 col1\" >-0.002724</td>\n",
       "      <td id=\"T_43032_row2_col2\" class=\"data row2 col2\" >-0.002098</td>\n",
       "      <td id=\"T_43032_row2_col3\" class=\"data row2 col3\" >-0.000688</td>\n",
       "      <td id=\"T_43032_row2_col4\" class=\"data row2 col4\" >-0.001100</td>\n",
       "    </tr>\n",
       "    <tr>\n",
       "      <th id=\"T_43032_level0_row3\" class=\"row_heading level0 row3\" >Kenya</th>\n",
       "      <td id=\"T_43032_row3_col0\" class=\"data row3 col0\" >-0.014760</td>\n",
       "      <td id=\"T_43032_row3_col1\" class=\"data row3 col1\" >0.007186</td>\n",
       "      <td id=\"T_43032_row3_col2\" class=\"data row3 col2\" >0.005277</td>\n",
       "      <td id=\"T_43032_row3_col3\" class=\"data row3 col3\" >0.000618</td>\n",
       "      <td id=\"T_43032_row3_col4\" class=\"data row3 col4\" >0.001678</td>\n",
       "    </tr>\n",
       "    <tr>\n",
       "      <th id=\"T_43032_level0_row4\" class=\"row_heading level0 row4\" >Norway</th>\n",
       "      <td id=\"T_43032_row4_col0\" class=\"data row4 col0\" >0.006706</td>\n",
       "      <td id=\"T_43032_row4_col1\" class=\"data row4 col1\" >-0.002843</td>\n",
       "      <td id=\"T_43032_row4_col2\" class=\"data row4 col2\" >-0.002249</td>\n",
       "      <td id=\"T_43032_row4_col3\" class=\"data row4 col3\" >-0.000733</td>\n",
       "      <td id=\"T_43032_row4_col4\" class=\"data row4 col4\" >-0.000881</td>\n",
       "    </tr>\n",
       "    <tr>\n",
       "      <th id=\"T_43032_level0_row5\" class=\"row_heading level0 row5\" >Singapore</th>\n",
       "      <td id=\"T_43032_row5_col0\" class=\"data row5 col0\" >0.006686</td>\n",
       "      <td id=\"T_43032_row5_col1\" class=\"data row5 col1\" >-0.002771</td>\n",
       "      <td id=\"T_43032_row5_col2\" class=\"data row5 col2\" >-0.002089</td>\n",
       "      <td id=\"T_43032_row5_col3\" class=\"data row5 col3\" >-0.000711</td>\n",
       "      <td id=\"T_43032_row5_col4\" class=\"data row5 col4\" >-0.001116</td>\n",
       "    </tr>\n",
       "  </tbody>\n",
       "</table>\n"
      ],
      "text/plain": [
       "<pandas.io.formats.style.Styler at 0x287332e40>"
      ]
     },
     "execution_count": 118,
     "metadata": {},
     "output_type": "execute_result"
    }
   ],
   "source": [
    "summary_table = summary_table - summary_table.mean(axis=0)\n",
    "summary_table.style.background_gradient(axis=0,cmap=\"GnBu\")"
   ]
  },
  {
   "cell_type": "markdown",
   "metadata": {},
   "source": [
    "### Generally Product share by Country look relatively consistent with outliers for Holographic Goose and Kaggle Tiers that were previously flagged for Kenya and Canada"
   ]
  },
  {
   "cell_type": "code",
   "execution_count": 119,
   "metadata": {},
   "outputs": [
    {
     "data": {
      "text/html": [
       "<div>\n",
       "<style scoped>\n",
       "    .dataframe tbody tr th:only-of-type {\n",
       "        vertical-align: middle;\n",
       "    }\n",
       "\n",
       "    .dataframe tbody tr th {\n",
       "        vertical-align: top;\n",
       "    }\n",
       "\n",
       "    .dataframe thead th {\n",
       "        text-align: right;\n",
       "    }\n",
       "</style>\n",
       "<table border=\"1\" class=\"dataframe\">\n",
       "  <thead>\n",
       "    <tr style=\"text-align: right;\">\n",
       "      <th>product</th>\n",
       "      <th>Holographic Goose</th>\n",
       "      <th>Kaggle</th>\n",
       "      <th>Kaggle Tiers</th>\n",
       "      <th>Kerneler</th>\n",
       "      <th>Kerneler Dark Mode</th>\n",
       "    </tr>\n",
       "    <tr>\n",
       "      <th>store</th>\n",
       "      <th></th>\n",
       "      <th></th>\n",
       "      <th></th>\n",
       "      <th></th>\n",
       "      <th></th>\n",
       "    </tr>\n",
       "  </thead>\n",
       "  <tbody>\n",
       "    <tr>\n",
       "      <th>Discount Stickers</th>\n",
       "      <td>0.039167</td>\n",
       "      <td>0.342584</td>\n",
       "      <td>0.283006</td>\n",
       "      <td>0.154460</td>\n",
       "      <td>0.180783</td>\n",
       "    </tr>\n",
       "    <tr>\n",
       "      <th>Premium Sticker Mart</th>\n",
       "      <td>0.046497</td>\n",
       "      <td>0.339771</td>\n",
       "      <td>0.280857</td>\n",
       "      <td>0.153306</td>\n",
       "      <td>0.179569</td>\n",
       "    </tr>\n",
       "    <tr>\n",
       "      <th>Stickers for Less</th>\n",
       "      <td>0.043808</td>\n",
       "      <td>0.340778</td>\n",
       "      <td>0.281514</td>\n",
       "      <td>0.153877</td>\n",
       "      <td>0.180023</td>\n",
       "    </tr>\n",
       "  </tbody>\n",
       "</table>\n",
       "</div>"
      ],
      "text/plain": [
       "product               Holographic Goose    Kaggle  Kaggle Tiers  Kerneler  \\\n",
       "store                                                                       \n",
       "Discount Stickers              0.039167  0.342584      0.283006  0.154460   \n",
       "Premium Sticker Mart           0.046497  0.339771      0.280857  0.153306   \n",
       "Stickers for Less              0.043808  0.340778      0.281514  0.153877   \n",
       "\n",
       "product               Kerneler Dark Mode  \n",
       "store                                     \n",
       "Discount Stickers               0.180783  \n",
       "Premium Sticker Mart            0.179569  \n",
       "Stickers for Less               0.180023  "
      ]
     },
     "execution_count": 119,
     "metadata": {},
     "output_type": "execute_result"
    }
   ],
   "source": [
    "summary_table = train.groupby(['store', 'product'])['num_sold'].rolling(7).mean().reset_index()\n",
    "summary_table = train.groupby(['store', 'product'])['num_sold'].mean().unstack()\n",
    "sums = summary_table.sum(axis=1)\n",
    "summary_table = summary_table.div(sums, axis=0)\n",
    "summary_table"
   ]
  },
  {
   "cell_type": "markdown",
   "metadata": {},
   "source": [
    "### Premium Sticker Mart generally carries less of the Holographic Goose which could be due to the Canada + Kenya outlier influence"
   ]
  },
  {
   "cell_type": "code",
   "execution_count": 120,
   "metadata": {},
   "outputs": [
    {
     "data": {
      "text/html": [
       "<div>\n",
       "<style scoped>\n",
       "    .dataframe tbody tr th:only-of-type {\n",
       "        vertical-align: middle;\n",
       "    }\n",
       "\n",
       "    .dataframe tbody tr th {\n",
       "        vertical-align: top;\n",
       "    }\n",
       "\n",
       "    .dataframe thead th {\n",
       "        text-align: right;\n",
       "    }\n",
       "</style>\n",
       "<table border=\"1\" class=\"dataframe\">\n",
       "  <thead>\n",
       "    <tr style=\"text-align: right;\">\n",
       "      <th></th>\n",
       "      <th>product</th>\n",
       "      <th>num_sold</th>\n",
       "      <th>avg_num_sold</th>\n",
       "      <th>diff</th>\n",
       "    </tr>\n",
       "  </thead>\n",
       "  <tbody>\n",
       "    <tr>\n",
       "      <th>0</th>\n",
       "      <td>Holographic Goose</td>\n",
       "      <td>0.044145</td>\n",
       "      <td>0.044145</td>\n",
       "      <td>0.000000e+00</td>\n",
       "    </tr>\n",
       "    <tr>\n",
       "      <th>1</th>\n",
       "      <td>Kaggle</td>\n",
       "      <td>0.340664</td>\n",
       "      <td>0.340664</td>\n",
       "      <td>-5.551115e-17</td>\n",
       "    </tr>\n",
       "    <tr>\n",
       "      <th>2</th>\n",
       "      <td>Kaggle Tiers</td>\n",
       "      <td>0.281497</td>\n",
       "      <td>0.281497</td>\n",
       "      <td>0.000000e+00</td>\n",
       "    </tr>\n",
       "    <tr>\n",
       "      <th>3</th>\n",
       "      <td>Kerneler</td>\n",
       "      <td>0.153732</td>\n",
       "      <td>0.153732</td>\n",
       "      <td>0.000000e+00</td>\n",
       "    </tr>\n",
       "    <tr>\n",
       "      <th>4</th>\n",
       "      <td>Kerneler Dark Mode</td>\n",
       "      <td>0.179961</td>\n",
       "      <td>0.179961</td>\n",
       "      <td>-2.775558e-17</td>\n",
       "    </tr>\n",
       "  </tbody>\n",
       "</table>\n",
       "</div>"
      ],
      "text/plain": [
       "              product  num_sold  avg_num_sold          diff\n",
       "0   Holographic Goose  0.044145      0.044145  0.000000e+00\n",
       "1              Kaggle  0.340664      0.340664 -5.551115e-17\n",
       "2        Kaggle Tiers  0.281497      0.281497  0.000000e+00\n",
       "3            Kerneler  0.153732      0.153732  0.000000e+00\n",
       "4  Kerneler Dark Mode  0.179961      0.179961 -2.775558e-17"
      ]
     },
     "execution_count": 120,
     "metadata": {},
     "output_type": "execute_result"
    }
   ],
   "source": [
    "product_share_tot = train.groupby('product')['num_sold'].sum() / train.groupby('product')['num_sold'].sum().sum()\n",
    "product_share_tot = product_share_tot.reset_index()\n",
    "product_share_avg = train.groupby('product')['num_sold'].mean() / train.groupby('product')['num_sold'].mean().sum()\n",
    "product_share_avg = product_share_avg.reset_index()\n",
    "\n",
    "product_share = pd.concat([product_share_tot, product_share_avg], axis=1)\n",
    "\n",
    "# drop duplicate columns\n",
    "product_share.columns = ['product', 'num_sold', 'drop', 'avg_num_sold']\n",
    "product_share = product_share.drop(columns=['drop'])\n",
    "product_share['diff'] = product_share['num_sold'] - product_share['avg_num_sold']\n",
    "product_share"
   ]
  },
  {
   "cell_type": "markdown",
   "metadata": {},
   "source": [
    "### notable discrepancy in the Holographic Goose which could be due to the Canada and Kenya anomaly"
   ]
  },
  {
   "cell_type": "markdown",
   "metadata": {},
   "source": [
    "# Seasonality"
   ]
  },
  {
   "cell_type": "code",
   "execution_count": 121,
   "metadata": {},
   "outputs": [
    {
     "data": {
      "text/html": [
       "<div>\n",
       "<style scoped>\n",
       "    .dataframe tbody tr th:only-of-type {\n",
       "        vertical-align: middle;\n",
       "    }\n",
       "\n",
       "    .dataframe tbody tr th {\n",
       "        vertical-align: top;\n",
       "    }\n",
       "\n",
       "    .dataframe thead th {\n",
       "        text-align: right;\n",
       "    }\n",
       "</style>\n",
       "<table border=\"1\" class=\"dataframe\">\n",
       "  <thead>\n",
       "    <tr style=\"text-align: right;\">\n",
       "      <th></th>\n",
       "      <th>id</th>\n",
       "      <th>date</th>\n",
       "      <th>country</th>\n",
       "      <th>store</th>\n",
       "      <th>product</th>\n",
       "      <th>num_sold</th>\n",
       "      <th>month</th>\n",
       "      <th>year</th>\n",
       "      <th>season</th>\n",
       "    </tr>\n",
       "  </thead>\n",
       "  <tbody>\n",
       "    <tr>\n",
       "      <th>0</th>\n",
       "      <td>0</td>\n",
       "      <td>2010-01-01</td>\n",
       "      <td>Canada</td>\n",
       "      <td>Discount Stickers</td>\n",
       "      <td>Holographic Goose</td>\n",
       "      <td>0.0</td>\n",
       "      <td>1</td>\n",
       "      <td>2010</td>\n",
       "      <td>Winter</td>\n",
       "    </tr>\n",
       "    <tr>\n",
       "      <th>1</th>\n",
       "      <td>1</td>\n",
       "      <td>2010-01-01</td>\n",
       "      <td>Canada</td>\n",
       "      <td>Discount Stickers</td>\n",
       "      <td>Kaggle</td>\n",
       "      <td>973.0</td>\n",
       "      <td>1</td>\n",
       "      <td>2010</td>\n",
       "      <td>Winter</td>\n",
       "    </tr>\n",
       "    <tr>\n",
       "      <th>2</th>\n",
       "      <td>2</td>\n",
       "      <td>2010-01-01</td>\n",
       "      <td>Canada</td>\n",
       "      <td>Discount Stickers</td>\n",
       "      <td>Kaggle Tiers</td>\n",
       "      <td>906.0</td>\n",
       "      <td>1</td>\n",
       "      <td>2010</td>\n",
       "      <td>Winter</td>\n",
       "    </tr>\n",
       "    <tr>\n",
       "      <th>3</th>\n",
       "      <td>3</td>\n",
       "      <td>2010-01-01</td>\n",
       "      <td>Canada</td>\n",
       "      <td>Discount Stickers</td>\n",
       "      <td>Kerneler</td>\n",
       "      <td>423.0</td>\n",
       "      <td>1</td>\n",
       "      <td>2010</td>\n",
       "      <td>Winter</td>\n",
       "    </tr>\n",
       "    <tr>\n",
       "      <th>4</th>\n",
       "      <td>4</td>\n",
       "      <td>2010-01-01</td>\n",
       "      <td>Canada</td>\n",
       "      <td>Discount Stickers</td>\n",
       "      <td>Kerneler Dark Mode</td>\n",
       "      <td>491.0</td>\n",
       "      <td>1</td>\n",
       "      <td>2010</td>\n",
       "      <td>Winter</td>\n",
       "    </tr>\n",
       "    <tr>\n",
       "      <th>...</th>\n",
       "      <td>...</td>\n",
       "      <td>...</td>\n",
       "      <td>...</td>\n",
       "      <td>...</td>\n",
       "      <td>...</td>\n",
       "      <td>...</td>\n",
       "      <td>...</td>\n",
       "      <td>...</td>\n",
       "      <td>...</td>\n",
       "    </tr>\n",
       "    <tr>\n",
       "      <th>230125</th>\n",
       "      <td>230125</td>\n",
       "      <td>2016-12-31</td>\n",
       "      <td>Singapore</td>\n",
       "      <td>Premium Sticker Mart</td>\n",
       "      <td>Holographic Goose</td>\n",
       "      <td>466.0</td>\n",
       "      <td>12</td>\n",
       "      <td>2016</td>\n",
       "      <td>Winter</td>\n",
       "    </tr>\n",
       "    <tr>\n",
       "      <th>230126</th>\n",
       "      <td>230126</td>\n",
       "      <td>2016-12-31</td>\n",
       "      <td>Singapore</td>\n",
       "      <td>Premium Sticker Mart</td>\n",
       "      <td>Kaggle</td>\n",
       "      <td>2907.0</td>\n",
       "      <td>12</td>\n",
       "      <td>2016</td>\n",
       "      <td>Winter</td>\n",
       "    </tr>\n",
       "    <tr>\n",
       "      <th>230127</th>\n",
       "      <td>230127</td>\n",
       "      <td>2016-12-31</td>\n",
       "      <td>Singapore</td>\n",
       "      <td>Premium Sticker Mart</td>\n",
       "      <td>Kaggle Tiers</td>\n",
       "      <td>2299.0</td>\n",
       "      <td>12</td>\n",
       "      <td>2016</td>\n",
       "      <td>Winter</td>\n",
       "    </tr>\n",
       "    <tr>\n",
       "      <th>230128</th>\n",
       "      <td>230128</td>\n",
       "      <td>2016-12-31</td>\n",
       "      <td>Singapore</td>\n",
       "      <td>Premium Sticker Mart</td>\n",
       "      <td>Kerneler</td>\n",
       "      <td>1242.0</td>\n",
       "      <td>12</td>\n",
       "      <td>2016</td>\n",
       "      <td>Winter</td>\n",
       "    </tr>\n",
       "    <tr>\n",
       "      <th>230129</th>\n",
       "      <td>230129</td>\n",
       "      <td>2016-12-31</td>\n",
       "      <td>Singapore</td>\n",
       "      <td>Premium Sticker Mart</td>\n",
       "      <td>Kerneler Dark Mode</td>\n",
       "      <td>1622.0</td>\n",
       "      <td>12</td>\n",
       "      <td>2016</td>\n",
       "      <td>Winter</td>\n",
       "    </tr>\n",
       "  </tbody>\n",
       "</table>\n",
       "<p>230130 rows × 9 columns</p>\n",
       "</div>"
      ],
      "text/plain": [
       "            id        date    country                 store  \\\n",
       "0            0  2010-01-01     Canada     Discount Stickers   \n",
       "1            1  2010-01-01     Canada     Discount Stickers   \n",
       "2            2  2010-01-01     Canada     Discount Stickers   \n",
       "3            3  2010-01-01     Canada     Discount Stickers   \n",
       "4            4  2010-01-01     Canada     Discount Stickers   \n",
       "...        ...         ...        ...                   ...   \n",
       "230125  230125  2016-12-31  Singapore  Premium Sticker Mart   \n",
       "230126  230126  2016-12-31  Singapore  Premium Sticker Mart   \n",
       "230127  230127  2016-12-31  Singapore  Premium Sticker Mart   \n",
       "230128  230128  2016-12-31  Singapore  Premium Sticker Mart   \n",
       "230129  230129  2016-12-31  Singapore  Premium Sticker Mart   \n",
       "\n",
       "                   product  num_sold  month  year  season  \n",
       "0        Holographic Goose       0.0      1  2010  Winter  \n",
       "1                   Kaggle     973.0      1  2010  Winter  \n",
       "2             Kaggle Tiers     906.0      1  2010  Winter  \n",
       "3                 Kerneler     423.0      1  2010  Winter  \n",
       "4       Kerneler Dark Mode     491.0      1  2010  Winter  \n",
       "...                    ...       ...    ...   ...     ...  \n",
       "230125   Holographic Goose     466.0     12  2016  Winter  \n",
       "230126              Kaggle    2907.0     12  2016  Winter  \n",
       "230127        Kaggle Tiers    2299.0     12  2016  Winter  \n",
       "230128            Kerneler    1242.0     12  2016  Winter  \n",
       "230129  Kerneler Dark Mode    1622.0     12  2016  Winter  \n",
       "\n",
       "[230130 rows x 9 columns]"
      ]
     },
     "execution_count": 121,
     "metadata": {},
     "output_type": "execute_result"
    }
   ],
   "source": [
    "# add a column for month, year, and season \n",
    "train['month'] = pd.to_datetime(train['date']).dt.month\n",
    "train['year'] = pd.to_datetime(train['date']).dt.year\n",
    "train['season'] = train['month'].map({1: 'Winter', 2: 'Winter', 3: 'Spring', 4: 'Spring', 5: 'Spring', 6: 'Summer', 7: 'Summer', 8: 'Summer', 9: 'Autumn', 10: 'Autumn', 11: 'Autumn', 12: 'Winter'})\n",
    "train"
   ]
  },
  {
   "cell_type": "code",
   "execution_count": 122,
   "metadata": {},
   "outputs": [
    {
     "data": {
      "application/vnd.plotly.v1+json": {
       "config": {
        "plotlyServerURL": "https://plot.ly"
       },
       "data": [
        {
         "alignmentgroup": "True",
         "hovertemplate": "month=%{x}<br>y=%{y}<extra></extra>",
         "legendgroup": "",
         "marker": {
          "color": "#636efa",
          "pattern": {
           "shape": ""
          }
         },
         "name": "",
         "offsetgroup": "",
         "orientation": "v",
         "showlegend": false,
         "textposition": "auto",
         "type": "bar",
         "x": [
          1,
          2,
          3,
          4,
          5,
          6,
          7,
          8,
          9,
          10,
          11,
          12
         ],
         "xaxis": "x",
         "y": [
          741.4349206349207,
          724.1388327721661,
          723.2109575012801,
          738.6837037037037,
          738.1880184331798,
          717.48,
          709.221300563236,
          707.3298515104967,
          704.0440211640212,
          706.4187403993856,
          716.171746031746,
          755.3907834101383
         ],
         "yaxis": "y"
        }
       ],
       "layout": {
        "barmode": "relative",
        "legend": {
         "tracegroupgap": 0
        },
        "template": {
         "data": {
          "bar": [
           {
            "error_x": {
             "color": "#2a3f5f"
            },
            "error_y": {
             "color": "#2a3f5f"
            },
            "marker": {
             "line": {
              "color": "#E5ECF6",
              "width": 0.5
             },
             "pattern": {
              "fillmode": "overlay",
              "size": 10,
              "solidity": 0.2
             }
            },
            "type": "bar"
           }
          ],
          "barpolar": [
           {
            "marker": {
             "line": {
              "color": "#E5ECF6",
              "width": 0.5
             },
             "pattern": {
              "fillmode": "overlay",
              "size": 10,
              "solidity": 0.2
             }
            },
            "type": "barpolar"
           }
          ],
          "carpet": [
           {
            "aaxis": {
             "endlinecolor": "#2a3f5f",
             "gridcolor": "white",
             "linecolor": "white",
             "minorgridcolor": "white",
             "startlinecolor": "#2a3f5f"
            },
            "baxis": {
             "endlinecolor": "#2a3f5f",
             "gridcolor": "white",
             "linecolor": "white",
             "minorgridcolor": "white",
             "startlinecolor": "#2a3f5f"
            },
            "type": "carpet"
           }
          ],
          "choropleth": [
           {
            "colorbar": {
             "outlinewidth": 0,
             "ticks": ""
            },
            "type": "choropleth"
           }
          ],
          "contour": [
           {
            "colorbar": {
             "outlinewidth": 0,
             "ticks": ""
            },
            "colorscale": [
             [
              0,
              "#0d0887"
             ],
             [
              0.1111111111111111,
              "#46039f"
             ],
             [
              0.2222222222222222,
              "#7201a8"
             ],
             [
              0.3333333333333333,
              "#9c179e"
             ],
             [
              0.4444444444444444,
              "#bd3786"
             ],
             [
              0.5555555555555556,
              "#d8576b"
             ],
             [
              0.6666666666666666,
              "#ed7953"
             ],
             [
              0.7777777777777778,
              "#fb9f3a"
             ],
             [
              0.8888888888888888,
              "#fdca26"
             ],
             [
              1,
              "#f0f921"
             ]
            ],
            "type": "contour"
           }
          ],
          "contourcarpet": [
           {
            "colorbar": {
             "outlinewidth": 0,
             "ticks": ""
            },
            "type": "contourcarpet"
           }
          ],
          "heatmap": [
           {
            "colorbar": {
             "outlinewidth": 0,
             "ticks": ""
            },
            "colorscale": [
             [
              0,
              "#0d0887"
             ],
             [
              0.1111111111111111,
              "#46039f"
             ],
             [
              0.2222222222222222,
              "#7201a8"
             ],
             [
              0.3333333333333333,
              "#9c179e"
             ],
             [
              0.4444444444444444,
              "#bd3786"
             ],
             [
              0.5555555555555556,
              "#d8576b"
             ],
             [
              0.6666666666666666,
              "#ed7953"
             ],
             [
              0.7777777777777778,
              "#fb9f3a"
             ],
             [
              0.8888888888888888,
              "#fdca26"
             ],
             [
              1,
              "#f0f921"
             ]
            ],
            "type": "heatmap"
           }
          ],
          "heatmapgl": [
           {
            "colorbar": {
             "outlinewidth": 0,
             "ticks": ""
            },
            "colorscale": [
             [
              0,
              "#0d0887"
             ],
             [
              0.1111111111111111,
              "#46039f"
             ],
             [
              0.2222222222222222,
              "#7201a8"
             ],
             [
              0.3333333333333333,
              "#9c179e"
             ],
             [
              0.4444444444444444,
              "#bd3786"
             ],
             [
              0.5555555555555556,
              "#d8576b"
             ],
             [
              0.6666666666666666,
              "#ed7953"
             ],
             [
              0.7777777777777778,
              "#fb9f3a"
             ],
             [
              0.8888888888888888,
              "#fdca26"
             ],
             [
              1,
              "#f0f921"
             ]
            ],
            "type": "heatmapgl"
           }
          ],
          "histogram": [
           {
            "marker": {
             "pattern": {
              "fillmode": "overlay",
              "size": 10,
              "solidity": 0.2
             }
            },
            "type": "histogram"
           }
          ],
          "histogram2d": [
           {
            "colorbar": {
             "outlinewidth": 0,
             "ticks": ""
            },
            "colorscale": [
             [
              0,
              "#0d0887"
             ],
             [
              0.1111111111111111,
              "#46039f"
             ],
             [
              0.2222222222222222,
              "#7201a8"
             ],
             [
              0.3333333333333333,
              "#9c179e"
             ],
             [
              0.4444444444444444,
              "#bd3786"
             ],
             [
              0.5555555555555556,
              "#d8576b"
             ],
             [
              0.6666666666666666,
              "#ed7953"
             ],
             [
              0.7777777777777778,
              "#fb9f3a"
             ],
             [
              0.8888888888888888,
              "#fdca26"
             ],
             [
              1,
              "#f0f921"
             ]
            ],
            "type": "histogram2d"
           }
          ],
          "histogram2dcontour": [
           {
            "colorbar": {
             "outlinewidth": 0,
             "ticks": ""
            },
            "colorscale": [
             [
              0,
              "#0d0887"
             ],
             [
              0.1111111111111111,
              "#46039f"
             ],
             [
              0.2222222222222222,
              "#7201a8"
             ],
             [
              0.3333333333333333,
              "#9c179e"
             ],
             [
              0.4444444444444444,
              "#bd3786"
             ],
             [
              0.5555555555555556,
              "#d8576b"
             ],
             [
              0.6666666666666666,
              "#ed7953"
             ],
             [
              0.7777777777777778,
              "#fb9f3a"
             ],
             [
              0.8888888888888888,
              "#fdca26"
             ],
             [
              1,
              "#f0f921"
             ]
            ],
            "type": "histogram2dcontour"
           }
          ],
          "mesh3d": [
           {
            "colorbar": {
             "outlinewidth": 0,
             "ticks": ""
            },
            "type": "mesh3d"
           }
          ],
          "parcoords": [
           {
            "line": {
             "colorbar": {
              "outlinewidth": 0,
              "ticks": ""
             }
            },
            "type": "parcoords"
           }
          ],
          "pie": [
           {
            "automargin": true,
            "type": "pie"
           }
          ],
          "scatter": [
           {
            "fillpattern": {
             "fillmode": "overlay",
             "size": 10,
             "solidity": 0.2
            },
            "type": "scatter"
           }
          ],
          "scatter3d": [
           {
            "line": {
             "colorbar": {
              "outlinewidth": 0,
              "ticks": ""
             }
            },
            "marker": {
             "colorbar": {
              "outlinewidth": 0,
              "ticks": ""
             }
            },
            "type": "scatter3d"
           }
          ],
          "scattercarpet": [
           {
            "marker": {
             "colorbar": {
              "outlinewidth": 0,
              "ticks": ""
             }
            },
            "type": "scattercarpet"
           }
          ],
          "scattergeo": [
           {
            "marker": {
             "colorbar": {
              "outlinewidth": 0,
              "ticks": ""
             }
            },
            "type": "scattergeo"
           }
          ],
          "scattergl": [
           {
            "marker": {
             "colorbar": {
              "outlinewidth": 0,
              "ticks": ""
             }
            },
            "type": "scattergl"
           }
          ],
          "scattermapbox": [
           {
            "marker": {
             "colorbar": {
              "outlinewidth": 0,
              "ticks": ""
             }
            },
            "type": "scattermapbox"
           }
          ],
          "scatterpolar": [
           {
            "marker": {
             "colorbar": {
              "outlinewidth": 0,
              "ticks": ""
             }
            },
            "type": "scatterpolar"
           }
          ],
          "scatterpolargl": [
           {
            "marker": {
             "colorbar": {
              "outlinewidth": 0,
              "ticks": ""
             }
            },
            "type": "scatterpolargl"
           }
          ],
          "scatterternary": [
           {
            "marker": {
             "colorbar": {
              "outlinewidth": 0,
              "ticks": ""
             }
            },
            "type": "scatterternary"
           }
          ],
          "surface": [
           {
            "colorbar": {
             "outlinewidth": 0,
             "ticks": ""
            },
            "colorscale": [
             [
              0,
              "#0d0887"
             ],
             [
              0.1111111111111111,
              "#46039f"
             ],
             [
              0.2222222222222222,
              "#7201a8"
             ],
             [
              0.3333333333333333,
              "#9c179e"
             ],
             [
              0.4444444444444444,
              "#bd3786"
             ],
             [
              0.5555555555555556,
              "#d8576b"
             ],
             [
              0.6666666666666666,
              "#ed7953"
             ],
             [
              0.7777777777777778,
              "#fb9f3a"
             ],
             [
              0.8888888888888888,
              "#fdca26"
             ],
             [
              1,
              "#f0f921"
             ]
            ],
            "type": "surface"
           }
          ],
          "table": [
           {
            "cells": {
             "fill": {
              "color": "#EBF0F8"
             },
             "line": {
              "color": "white"
             }
            },
            "header": {
             "fill": {
              "color": "#C8D4E3"
             },
             "line": {
              "color": "white"
             }
            },
            "type": "table"
           }
          ]
         },
         "layout": {
          "annotationdefaults": {
           "arrowcolor": "#2a3f5f",
           "arrowhead": 0,
           "arrowwidth": 1
          },
          "autotypenumbers": "strict",
          "coloraxis": {
           "colorbar": {
            "outlinewidth": 0,
            "ticks": ""
           }
          },
          "colorscale": {
           "diverging": [
            [
             0,
             "#8e0152"
            ],
            [
             0.1,
             "#c51b7d"
            ],
            [
             0.2,
             "#de77ae"
            ],
            [
             0.3,
             "#f1b6da"
            ],
            [
             0.4,
             "#fde0ef"
            ],
            [
             0.5,
             "#f7f7f7"
            ],
            [
             0.6,
             "#e6f5d0"
            ],
            [
             0.7,
             "#b8e186"
            ],
            [
             0.8,
             "#7fbc41"
            ],
            [
             0.9,
             "#4d9221"
            ],
            [
             1,
             "#276419"
            ]
           ],
           "sequential": [
            [
             0,
             "#0d0887"
            ],
            [
             0.1111111111111111,
             "#46039f"
            ],
            [
             0.2222222222222222,
             "#7201a8"
            ],
            [
             0.3333333333333333,
             "#9c179e"
            ],
            [
             0.4444444444444444,
             "#bd3786"
            ],
            [
             0.5555555555555556,
             "#d8576b"
            ],
            [
             0.6666666666666666,
             "#ed7953"
            ],
            [
             0.7777777777777778,
             "#fb9f3a"
            ],
            [
             0.8888888888888888,
             "#fdca26"
            ],
            [
             1,
             "#f0f921"
            ]
           ],
           "sequentialminus": [
            [
             0,
             "#0d0887"
            ],
            [
             0.1111111111111111,
             "#46039f"
            ],
            [
             0.2222222222222222,
             "#7201a8"
            ],
            [
             0.3333333333333333,
             "#9c179e"
            ],
            [
             0.4444444444444444,
             "#bd3786"
            ],
            [
             0.5555555555555556,
             "#d8576b"
            ],
            [
             0.6666666666666666,
             "#ed7953"
            ],
            [
             0.7777777777777778,
             "#fb9f3a"
            ],
            [
             0.8888888888888888,
             "#fdca26"
            ],
            [
             1,
             "#f0f921"
            ]
           ]
          },
          "colorway": [
           "#636efa",
           "#EF553B",
           "#00cc96",
           "#ab63fa",
           "#FFA15A",
           "#19d3f3",
           "#FF6692",
           "#B6E880",
           "#FF97FF",
           "#FECB52"
          ],
          "font": {
           "color": "#2a3f5f"
          },
          "geo": {
           "bgcolor": "white",
           "lakecolor": "white",
           "landcolor": "#E5ECF6",
           "showlakes": true,
           "showland": true,
           "subunitcolor": "white"
          },
          "hoverlabel": {
           "align": "left"
          },
          "hovermode": "closest",
          "mapbox": {
           "style": "light"
          },
          "paper_bgcolor": "white",
          "plot_bgcolor": "#E5ECF6",
          "polar": {
           "angularaxis": {
            "gridcolor": "white",
            "linecolor": "white",
            "ticks": ""
           },
           "bgcolor": "#E5ECF6",
           "radialaxis": {
            "gridcolor": "white",
            "linecolor": "white",
            "ticks": ""
           }
          },
          "scene": {
           "xaxis": {
            "backgroundcolor": "#E5ECF6",
            "gridcolor": "white",
            "gridwidth": 2,
            "linecolor": "white",
            "showbackground": true,
            "ticks": "",
            "zerolinecolor": "white"
           },
           "yaxis": {
            "backgroundcolor": "#E5ECF6",
            "gridcolor": "white",
            "gridwidth": 2,
            "linecolor": "white",
            "showbackground": true,
            "ticks": "",
            "zerolinecolor": "white"
           },
           "zaxis": {
            "backgroundcolor": "#E5ECF6",
            "gridcolor": "white",
            "gridwidth": 2,
            "linecolor": "white",
            "showbackground": true,
            "ticks": "",
            "zerolinecolor": "white"
           }
          },
          "shapedefaults": {
           "line": {
            "color": "#2a3f5f"
           }
          },
          "ternary": {
           "aaxis": {
            "gridcolor": "white",
            "linecolor": "white",
            "ticks": ""
           },
           "baxis": {
            "gridcolor": "white",
            "linecolor": "white",
            "ticks": ""
           },
           "bgcolor": "#E5ECF6",
           "caxis": {
            "gridcolor": "white",
            "linecolor": "white",
            "ticks": ""
           }
          },
          "title": {
           "x": 0.05
          },
          "xaxis": {
           "automargin": true,
           "gridcolor": "white",
           "linecolor": "white",
           "ticks": "",
           "title": {
            "standoff": 15
           },
           "zerolinecolor": "white",
           "zerolinewidth": 2
          },
          "yaxis": {
           "automargin": true,
           "gridcolor": "white",
           "linecolor": "white",
           "ticks": "",
           "title": {
            "standoff": 15
           },
           "zerolinecolor": "white",
           "zerolinewidth": 2
          }
         }
        },
        "title": {
         "text": "Average Sales by Month"
        },
        "xaxis": {
         "anchor": "y",
         "domain": [
          0,
          1
         ],
         "title": {
          "text": "month"
         }
        },
        "yaxis": {
         "anchor": "x",
         "domain": [
          0,
          1
         ],
         "title": {
          "text": "y"
         }
        }
       }
      }
     },
     "metadata": {},
     "output_type": "display_data"
    }
   ],
   "source": [
    "# plot avg sales by month on a bar graph with plotly\n",
    "\n",
    "avg_sales_by_month = train.groupby('month')['num_sold'].mean()\n",
    "px.bar(avg_sales_by_month, x=avg_sales_by_month.index, y=avg_sales_by_month.values, title='Average Sales by Month')"
   ]
  },
  {
   "cell_type": "code",
   "execution_count": 123,
   "metadata": {},
   "outputs": [
    {
     "data": {
      "application/vnd.plotly.v1+json": {
       "config": {
        "plotlyServerURL": "https://plot.ly"
       },
       "data": [
        {
         "alignmentgroup": "True",
         "hovertemplate": "year=%{x}<br>y=%{y}<extra></extra>",
         "legendgroup": "",
         "marker": {
          "color": "#636efa",
          "pattern": {
           "shape": ""
          }
         },
         "name": "",
         "offsetgroup": "",
         "orientation": "v",
         "showlegend": false,
         "textposition": "auto",
         "type": "bar",
         "x": [
          2010,
          2011,
          2012,
          2013,
          2014,
          2015,
          2016
         ],
         "xaxis": "x",
         "y": [
          673.8019178082192,
          796.7092541856925,
          750.1429872495446,
          776.5423744292237,
          747.9652359208524,
          666.1523896499239,
          653.4387674559806
         ],
         "yaxis": "y"
        }
       ],
       "layout": {
        "barmode": "relative",
        "legend": {
         "tracegroupgap": 0
        },
        "template": {
         "data": {
          "bar": [
           {
            "error_x": {
             "color": "#2a3f5f"
            },
            "error_y": {
             "color": "#2a3f5f"
            },
            "marker": {
             "line": {
              "color": "#E5ECF6",
              "width": 0.5
             },
             "pattern": {
              "fillmode": "overlay",
              "size": 10,
              "solidity": 0.2
             }
            },
            "type": "bar"
           }
          ],
          "barpolar": [
           {
            "marker": {
             "line": {
              "color": "#E5ECF6",
              "width": 0.5
             },
             "pattern": {
              "fillmode": "overlay",
              "size": 10,
              "solidity": 0.2
             }
            },
            "type": "barpolar"
           }
          ],
          "carpet": [
           {
            "aaxis": {
             "endlinecolor": "#2a3f5f",
             "gridcolor": "white",
             "linecolor": "white",
             "minorgridcolor": "white",
             "startlinecolor": "#2a3f5f"
            },
            "baxis": {
             "endlinecolor": "#2a3f5f",
             "gridcolor": "white",
             "linecolor": "white",
             "minorgridcolor": "white",
             "startlinecolor": "#2a3f5f"
            },
            "type": "carpet"
           }
          ],
          "choropleth": [
           {
            "colorbar": {
             "outlinewidth": 0,
             "ticks": ""
            },
            "type": "choropleth"
           }
          ],
          "contour": [
           {
            "colorbar": {
             "outlinewidth": 0,
             "ticks": ""
            },
            "colorscale": [
             [
              0,
              "#0d0887"
             ],
             [
              0.1111111111111111,
              "#46039f"
             ],
             [
              0.2222222222222222,
              "#7201a8"
             ],
             [
              0.3333333333333333,
              "#9c179e"
             ],
             [
              0.4444444444444444,
              "#bd3786"
             ],
             [
              0.5555555555555556,
              "#d8576b"
             ],
             [
              0.6666666666666666,
              "#ed7953"
             ],
             [
              0.7777777777777778,
              "#fb9f3a"
             ],
             [
              0.8888888888888888,
              "#fdca26"
             ],
             [
              1,
              "#f0f921"
             ]
            ],
            "type": "contour"
           }
          ],
          "contourcarpet": [
           {
            "colorbar": {
             "outlinewidth": 0,
             "ticks": ""
            },
            "type": "contourcarpet"
           }
          ],
          "heatmap": [
           {
            "colorbar": {
             "outlinewidth": 0,
             "ticks": ""
            },
            "colorscale": [
             [
              0,
              "#0d0887"
             ],
             [
              0.1111111111111111,
              "#46039f"
             ],
             [
              0.2222222222222222,
              "#7201a8"
             ],
             [
              0.3333333333333333,
              "#9c179e"
             ],
             [
              0.4444444444444444,
              "#bd3786"
             ],
             [
              0.5555555555555556,
              "#d8576b"
             ],
             [
              0.6666666666666666,
              "#ed7953"
             ],
             [
              0.7777777777777778,
              "#fb9f3a"
             ],
             [
              0.8888888888888888,
              "#fdca26"
             ],
             [
              1,
              "#f0f921"
             ]
            ],
            "type": "heatmap"
           }
          ],
          "heatmapgl": [
           {
            "colorbar": {
             "outlinewidth": 0,
             "ticks": ""
            },
            "colorscale": [
             [
              0,
              "#0d0887"
             ],
             [
              0.1111111111111111,
              "#46039f"
             ],
             [
              0.2222222222222222,
              "#7201a8"
             ],
             [
              0.3333333333333333,
              "#9c179e"
             ],
             [
              0.4444444444444444,
              "#bd3786"
             ],
             [
              0.5555555555555556,
              "#d8576b"
             ],
             [
              0.6666666666666666,
              "#ed7953"
             ],
             [
              0.7777777777777778,
              "#fb9f3a"
             ],
             [
              0.8888888888888888,
              "#fdca26"
             ],
             [
              1,
              "#f0f921"
             ]
            ],
            "type": "heatmapgl"
           }
          ],
          "histogram": [
           {
            "marker": {
             "pattern": {
              "fillmode": "overlay",
              "size": 10,
              "solidity": 0.2
             }
            },
            "type": "histogram"
           }
          ],
          "histogram2d": [
           {
            "colorbar": {
             "outlinewidth": 0,
             "ticks": ""
            },
            "colorscale": [
             [
              0,
              "#0d0887"
             ],
             [
              0.1111111111111111,
              "#46039f"
             ],
             [
              0.2222222222222222,
              "#7201a8"
             ],
             [
              0.3333333333333333,
              "#9c179e"
             ],
             [
              0.4444444444444444,
              "#bd3786"
             ],
             [
              0.5555555555555556,
              "#d8576b"
             ],
             [
              0.6666666666666666,
              "#ed7953"
             ],
             [
              0.7777777777777778,
              "#fb9f3a"
             ],
             [
              0.8888888888888888,
              "#fdca26"
             ],
             [
              1,
              "#f0f921"
             ]
            ],
            "type": "histogram2d"
           }
          ],
          "histogram2dcontour": [
           {
            "colorbar": {
             "outlinewidth": 0,
             "ticks": ""
            },
            "colorscale": [
             [
              0,
              "#0d0887"
             ],
             [
              0.1111111111111111,
              "#46039f"
             ],
             [
              0.2222222222222222,
              "#7201a8"
             ],
             [
              0.3333333333333333,
              "#9c179e"
             ],
             [
              0.4444444444444444,
              "#bd3786"
             ],
             [
              0.5555555555555556,
              "#d8576b"
             ],
             [
              0.6666666666666666,
              "#ed7953"
             ],
             [
              0.7777777777777778,
              "#fb9f3a"
             ],
             [
              0.8888888888888888,
              "#fdca26"
             ],
             [
              1,
              "#f0f921"
             ]
            ],
            "type": "histogram2dcontour"
           }
          ],
          "mesh3d": [
           {
            "colorbar": {
             "outlinewidth": 0,
             "ticks": ""
            },
            "type": "mesh3d"
           }
          ],
          "parcoords": [
           {
            "line": {
             "colorbar": {
              "outlinewidth": 0,
              "ticks": ""
             }
            },
            "type": "parcoords"
           }
          ],
          "pie": [
           {
            "automargin": true,
            "type": "pie"
           }
          ],
          "scatter": [
           {
            "fillpattern": {
             "fillmode": "overlay",
             "size": 10,
             "solidity": 0.2
            },
            "type": "scatter"
           }
          ],
          "scatter3d": [
           {
            "line": {
             "colorbar": {
              "outlinewidth": 0,
              "ticks": ""
             }
            },
            "marker": {
             "colorbar": {
              "outlinewidth": 0,
              "ticks": ""
             }
            },
            "type": "scatter3d"
           }
          ],
          "scattercarpet": [
           {
            "marker": {
             "colorbar": {
              "outlinewidth": 0,
              "ticks": ""
             }
            },
            "type": "scattercarpet"
           }
          ],
          "scattergeo": [
           {
            "marker": {
             "colorbar": {
              "outlinewidth": 0,
              "ticks": ""
             }
            },
            "type": "scattergeo"
           }
          ],
          "scattergl": [
           {
            "marker": {
             "colorbar": {
              "outlinewidth": 0,
              "ticks": ""
             }
            },
            "type": "scattergl"
           }
          ],
          "scattermapbox": [
           {
            "marker": {
             "colorbar": {
              "outlinewidth": 0,
              "ticks": ""
             }
            },
            "type": "scattermapbox"
           }
          ],
          "scatterpolar": [
           {
            "marker": {
             "colorbar": {
              "outlinewidth": 0,
              "ticks": ""
             }
            },
            "type": "scatterpolar"
           }
          ],
          "scatterpolargl": [
           {
            "marker": {
             "colorbar": {
              "outlinewidth": 0,
              "ticks": ""
             }
            },
            "type": "scatterpolargl"
           }
          ],
          "scatterternary": [
           {
            "marker": {
             "colorbar": {
              "outlinewidth": 0,
              "ticks": ""
             }
            },
            "type": "scatterternary"
           }
          ],
          "surface": [
           {
            "colorbar": {
             "outlinewidth": 0,
             "ticks": ""
            },
            "colorscale": [
             [
              0,
              "#0d0887"
             ],
             [
              0.1111111111111111,
              "#46039f"
             ],
             [
              0.2222222222222222,
              "#7201a8"
             ],
             [
              0.3333333333333333,
              "#9c179e"
             ],
             [
              0.4444444444444444,
              "#bd3786"
             ],
             [
              0.5555555555555556,
              "#d8576b"
             ],
             [
              0.6666666666666666,
              "#ed7953"
             ],
             [
              0.7777777777777778,
              "#fb9f3a"
             ],
             [
              0.8888888888888888,
              "#fdca26"
             ],
             [
              1,
              "#f0f921"
             ]
            ],
            "type": "surface"
           }
          ],
          "table": [
           {
            "cells": {
             "fill": {
              "color": "#EBF0F8"
             },
             "line": {
              "color": "white"
             }
            },
            "header": {
             "fill": {
              "color": "#C8D4E3"
             },
             "line": {
              "color": "white"
             }
            },
            "type": "table"
           }
          ]
         },
         "layout": {
          "annotationdefaults": {
           "arrowcolor": "#2a3f5f",
           "arrowhead": 0,
           "arrowwidth": 1
          },
          "autotypenumbers": "strict",
          "coloraxis": {
           "colorbar": {
            "outlinewidth": 0,
            "ticks": ""
           }
          },
          "colorscale": {
           "diverging": [
            [
             0,
             "#8e0152"
            ],
            [
             0.1,
             "#c51b7d"
            ],
            [
             0.2,
             "#de77ae"
            ],
            [
             0.3,
             "#f1b6da"
            ],
            [
             0.4,
             "#fde0ef"
            ],
            [
             0.5,
             "#f7f7f7"
            ],
            [
             0.6,
             "#e6f5d0"
            ],
            [
             0.7,
             "#b8e186"
            ],
            [
             0.8,
             "#7fbc41"
            ],
            [
             0.9,
             "#4d9221"
            ],
            [
             1,
             "#276419"
            ]
           ],
           "sequential": [
            [
             0,
             "#0d0887"
            ],
            [
             0.1111111111111111,
             "#46039f"
            ],
            [
             0.2222222222222222,
             "#7201a8"
            ],
            [
             0.3333333333333333,
             "#9c179e"
            ],
            [
             0.4444444444444444,
             "#bd3786"
            ],
            [
             0.5555555555555556,
             "#d8576b"
            ],
            [
             0.6666666666666666,
             "#ed7953"
            ],
            [
             0.7777777777777778,
             "#fb9f3a"
            ],
            [
             0.8888888888888888,
             "#fdca26"
            ],
            [
             1,
             "#f0f921"
            ]
           ],
           "sequentialminus": [
            [
             0,
             "#0d0887"
            ],
            [
             0.1111111111111111,
             "#46039f"
            ],
            [
             0.2222222222222222,
             "#7201a8"
            ],
            [
             0.3333333333333333,
             "#9c179e"
            ],
            [
             0.4444444444444444,
             "#bd3786"
            ],
            [
             0.5555555555555556,
             "#d8576b"
            ],
            [
             0.6666666666666666,
             "#ed7953"
            ],
            [
             0.7777777777777778,
             "#fb9f3a"
            ],
            [
             0.8888888888888888,
             "#fdca26"
            ],
            [
             1,
             "#f0f921"
            ]
           ]
          },
          "colorway": [
           "#636efa",
           "#EF553B",
           "#00cc96",
           "#ab63fa",
           "#FFA15A",
           "#19d3f3",
           "#FF6692",
           "#B6E880",
           "#FF97FF",
           "#FECB52"
          ],
          "font": {
           "color": "#2a3f5f"
          },
          "geo": {
           "bgcolor": "white",
           "lakecolor": "white",
           "landcolor": "#E5ECF6",
           "showlakes": true,
           "showland": true,
           "subunitcolor": "white"
          },
          "hoverlabel": {
           "align": "left"
          },
          "hovermode": "closest",
          "mapbox": {
           "style": "light"
          },
          "paper_bgcolor": "white",
          "plot_bgcolor": "#E5ECF6",
          "polar": {
           "angularaxis": {
            "gridcolor": "white",
            "linecolor": "white",
            "ticks": ""
           },
           "bgcolor": "#E5ECF6",
           "radialaxis": {
            "gridcolor": "white",
            "linecolor": "white",
            "ticks": ""
           }
          },
          "scene": {
           "xaxis": {
            "backgroundcolor": "#E5ECF6",
            "gridcolor": "white",
            "gridwidth": 2,
            "linecolor": "white",
            "showbackground": true,
            "ticks": "",
            "zerolinecolor": "white"
           },
           "yaxis": {
            "backgroundcolor": "#E5ECF6",
            "gridcolor": "white",
            "gridwidth": 2,
            "linecolor": "white",
            "showbackground": true,
            "ticks": "",
            "zerolinecolor": "white"
           },
           "zaxis": {
            "backgroundcolor": "#E5ECF6",
            "gridcolor": "white",
            "gridwidth": 2,
            "linecolor": "white",
            "showbackground": true,
            "ticks": "",
            "zerolinecolor": "white"
           }
          },
          "shapedefaults": {
           "line": {
            "color": "#2a3f5f"
           }
          },
          "ternary": {
           "aaxis": {
            "gridcolor": "white",
            "linecolor": "white",
            "ticks": ""
           },
           "baxis": {
            "gridcolor": "white",
            "linecolor": "white",
            "ticks": ""
           },
           "bgcolor": "#E5ECF6",
           "caxis": {
            "gridcolor": "white",
            "linecolor": "white",
            "ticks": ""
           }
          },
          "title": {
           "x": 0.05
          },
          "xaxis": {
           "automargin": true,
           "gridcolor": "white",
           "linecolor": "white",
           "ticks": "",
           "title": {
            "standoff": 15
           },
           "zerolinecolor": "white",
           "zerolinewidth": 2
          },
          "yaxis": {
           "automargin": true,
           "gridcolor": "white",
           "linecolor": "white",
           "ticks": "",
           "title": {
            "standoff": 15
           },
           "zerolinecolor": "white",
           "zerolinewidth": 2
          }
         }
        },
        "title": {
         "text": "Average Sales by Year"
        },
        "xaxis": {
         "anchor": "y",
         "domain": [
          0,
          1
         ],
         "title": {
          "text": "year"
         }
        },
        "yaxis": {
         "anchor": "x",
         "domain": [
          0,
          1
         ],
         "title": {
          "text": "y"
         }
        }
       }
      }
     },
     "metadata": {},
     "output_type": "display_data"
    }
   ],
   "source": [
    "# plot avg sales by month on a bar graph with plotly\n",
    "\n",
    "avg_sales_by_month = train.groupby('year')['num_sold'].mean()\n",
    "px.bar(avg_sales_by_month, x=avg_sales_by_month.index, y=avg_sales_by_month.values, title='Average Sales by Year')"
   ]
  },
  {
   "cell_type": "code",
   "execution_count": 124,
   "metadata": {},
   "outputs": [
    {
     "data": {
      "application/vnd.plotly.v1+json": {
       "config": {
        "plotlyServerURL": "https://plot.ly"
       },
       "data": [
        {
         "alignmentgroup": "True",
         "hovertemplate": "season=%{x}<br>y=%{y}<extra></extra>",
         "legendgroup": "",
         "marker": {
          "color": "#636efa",
          "pattern": {
           "shape": ""
          }
         },
         "name": "",
         "offsetgroup": "",
         "orientation": "v",
         "showlegend": false,
         "textposition": "auto",
         "type": "bar",
         "x": [
          "Autumn",
          "Spring",
          "Summer",
          "Winter"
         ],
         "xaxis": "x",
         "y": [
          708.8511425082854,
          733.3030365769496,
          711.2770186335404,
          740.8080168776371
         ],
         "yaxis": "y"
        }
       ],
       "layout": {
        "barmode": "relative",
        "legend": {
         "tracegroupgap": 0
        },
        "template": {
         "data": {
          "bar": [
           {
            "error_x": {
             "color": "#2a3f5f"
            },
            "error_y": {
             "color": "#2a3f5f"
            },
            "marker": {
             "line": {
              "color": "#E5ECF6",
              "width": 0.5
             },
             "pattern": {
              "fillmode": "overlay",
              "size": 10,
              "solidity": 0.2
             }
            },
            "type": "bar"
           }
          ],
          "barpolar": [
           {
            "marker": {
             "line": {
              "color": "#E5ECF6",
              "width": 0.5
             },
             "pattern": {
              "fillmode": "overlay",
              "size": 10,
              "solidity": 0.2
             }
            },
            "type": "barpolar"
           }
          ],
          "carpet": [
           {
            "aaxis": {
             "endlinecolor": "#2a3f5f",
             "gridcolor": "white",
             "linecolor": "white",
             "minorgridcolor": "white",
             "startlinecolor": "#2a3f5f"
            },
            "baxis": {
             "endlinecolor": "#2a3f5f",
             "gridcolor": "white",
             "linecolor": "white",
             "minorgridcolor": "white",
             "startlinecolor": "#2a3f5f"
            },
            "type": "carpet"
           }
          ],
          "choropleth": [
           {
            "colorbar": {
             "outlinewidth": 0,
             "ticks": ""
            },
            "type": "choropleth"
           }
          ],
          "contour": [
           {
            "colorbar": {
             "outlinewidth": 0,
             "ticks": ""
            },
            "colorscale": [
             [
              0,
              "#0d0887"
             ],
             [
              0.1111111111111111,
              "#46039f"
             ],
             [
              0.2222222222222222,
              "#7201a8"
             ],
             [
              0.3333333333333333,
              "#9c179e"
             ],
             [
              0.4444444444444444,
              "#bd3786"
             ],
             [
              0.5555555555555556,
              "#d8576b"
             ],
             [
              0.6666666666666666,
              "#ed7953"
             ],
             [
              0.7777777777777778,
              "#fb9f3a"
             ],
             [
              0.8888888888888888,
              "#fdca26"
             ],
             [
              1,
              "#f0f921"
             ]
            ],
            "type": "contour"
           }
          ],
          "contourcarpet": [
           {
            "colorbar": {
             "outlinewidth": 0,
             "ticks": ""
            },
            "type": "contourcarpet"
           }
          ],
          "heatmap": [
           {
            "colorbar": {
             "outlinewidth": 0,
             "ticks": ""
            },
            "colorscale": [
             [
              0,
              "#0d0887"
             ],
             [
              0.1111111111111111,
              "#46039f"
             ],
             [
              0.2222222222222222,
              "#7201a8"
             ],
             [
              0.3333333333333333,
              "#9c179e"
             ],
             [
              0.4444444444444444,
              "#bd3786"
             ],
             [
              0.5555555555555556,
              "#d8576b"
             ],
             [
              0.6666666666666666,
              "#ed7953"
             ],
             [
              0.7777777777777778,
              "#fb9f3a"
             ],
             [
              0.8888888888888888,
              "#fdca26"
             ],
             [
              1,
              "#f0f921"
             ]
            ],
            "type": "heatmap"
           }
          ],
          "heatmapgl": [
           {
            "colorbar": {
             "outlinewidth": 0,
             "ticks": ""
            },
            "colorscale": [
             [
              0,
              "#0d0887"
             ],
             [
              0.1111111111111111,
              "#46039f"
             ],
             [
              0.2222222222222222,
              "#7201a8"
             ],
             [
              0.3333333333333333,
              "#9c179e"
             ],
             [
              0.4444444444444444,
              "#bd3786"
             ],
             [
              0.5555555555555556,
              "#d8576b"
             ],
             [
              0.6666666666666666,
              "#ed7953"
             ],
             [
              0.7777777777777778,
              "#fb9f3a"
             ],
             [
              0.8888888888888888,
              "#fdca26"
             ],
             [
              1,
              "#f0f921"
             ]
            ],
            "type": "heatmapgl"
           }
          ],
          "histogram": [
           {
            "marker": {
             "pattern": {
              "fillmode": "overlay",
              "size": 10,
              "solidity": 0.2
             }
            },
            "type": "histogram"
           }
          ],
          "histogram2d": [
           {
            "colorbar": {
             "outlinewidth": 0,
             "ticks": ""
            },
            "colorscale": [
             [
              0,
              "#0d0887"
             ],
             [
              0.1111111111111111,
              "#46039f"
             ],
             [
              0.2222222222222222,
              "#7201a8"
             ],
             [
              0.3333333333333333,
              "#9c179e"
             ],
             [
              0.4444444444444444,
              "#bd3786"
             ],
             [
              0.5555555555555556,
              "#d8576b"
             ],
             [
              0.6666666666666666,
              "#ed7953"
             ],
             [
              0.7777777777777778,
              "#fb9f3a"
             ],
             [
              0.8888888888888888,
              "#fdca26"
             ],
             [
              1,
              "#f0f921"
             ]
            ],
            "type": "histogram2d"
           }
          ],
          "histogram2dcontour": [
           {
            "colorbar": {
             "outlinewidth": 0,
             "ticks": ""
            },
            "colorscale": [
             [
              0,
              "#0d0887"
             ],
             [
              0.1111111111111111,
              "#46039f"
             ],
             [
              0.2222222222222222,
              "#7201a8"
             ],
             [
              0.3333333333333333,
              "#9c179e"
             ],
             [
              0.4444444444444444,
              "#bd3786"
             ],
             [
              0.5555555555555556,
              "#d8576b"
             ],
             [
              0.6666666666666666,
              "#ed7953"
             ],
             [
              0.7777777777777778,
              "#fb9f3a"
             ],
             [
              0.8888888888888888,
              "#fdca26"
             ],
             [
              1,
              "#f0f921"
             ]
            ],
            "type": "histogram2dcontour"
           }
          ],
          "mesh3d": [
           {
            "colorbar": {
             "outlinewidth": 0,
             "ticks": ""
            },
            "type": "mesh3d"
           }
          ],
          "parcoords": [
           {
            "line": {
             "colorbar": {
              "outlinewidth": 0,
              "ticks": ""
             }
            },
            "type": "parcoords"
           }
          ],
          "pie": [
           {
            "automargin": true,
            "type": "pie"
           }
          ],
          "scatter": [
           {
            "fillpattern": {
             "fillmode": "overlay",
             "size": 10,
             "solidity": 0.2
            },
            "type": "scatter"
           }
          ],
          "scatter3d": [
           {
            "line": {
             "colorbar": {
              "outlinewidth": 0,
              "ticks": ""
             }
            },
            "marker": {
             "colorbar": {
              "outlinewidth": 0,
              "ticks": ""
             }
            },
            "type": "scatter3d"
           }
          ],
          "scattercarpet": [
           {
            "marker": {
             "colorbar": {
              "outlinewidth": 0,
              "ticks": ""
             }
            },
            "type": "scattercarpet"
           }
          ],
          "scattergeo": [
           {
            "marker": {
             "colorbar": {
              "outlinewidth": 0,
              "ticks": ""
             }
            },
            "type": "scattergeo"
           }
          ],
          "scattergl": [
           {
            "marker": {
             "colorbar": {
              "outlinewidth": 0,
              "ticks": ""
             }
            },
            "type": "scattergl"
           }
          ],
          "scattermapbox": [
           {
            "marker": {
             "colorbar": {
              "outlinewidth": 0,
              "ticks": ""
             }
            },
            "type": "scattermapbox"
           }
          ],
          "scatterpolar": [
           {
            "marker": {
             "colorbar": {
              "outlinewidth": 0,
              "ticks": ""
             }
            },
            "type": "scatterpolar"
           }
          ],
          "scatterpolargl": [
           {
            "marker": {
             "colorbar": {
              "outlinewidth": 0,
              "ticks": ""
             }
            },
            "type": "scatterpolargl"
           }
          ],
          "scatterternary": [
           {
            "marker": {
             "colorbar": {
              "outlinewidth": 0,
              "ticks": ""
             }
            },
            "type": "scatterternary"
           }
          ],
          "surface": [
           {
            "colorbar": {
             "outlinewidth": 0,
             "ticks": ""
            },
            "colorscale": [
             [
              0,
              "#0d0887"
             ],
             [
              0.1111111111111111,
              "#46039f"
             ],
             [
              0.2222222222222222,
              "#7201a8"
             ],
             [
              0.3333333333333333,
              "#9c179e"
             ],
             [
              0.4444444444444444,
              "#bd3786"
             ],
             [
              0.5555555555555556,
              "#d8576b"
             ],
             [
              0.6666666666666666,
              "#ed7953"
             ],
             [
              0.7777777777777778,
              "#fb9f3a"
             ],
             [
              0.8888888888888888,
              "#fdca26"
             ],
             [
              1,
              "#f0f921"
             ]
            ],
            "type": "surface"
           }
          ],
          "table": [
           {
            "cells": {
             "fill": {
              "color": "#EBF0F8"
             },
             "line": {
              "color": "white"
             }
            },
            "header": {
             "fill": {
              "color": "#C8D4E3"
             },
             "line": {
              "color": "white"
             }
            },
            "type": "table"
           }
          ]
         },
         "layout": {
          "annotationdefaults": {
           "arrowcolor": "#2a3f5f",
           "arrowhead": 0,
           "arrowwidth": 1
          },
          "autotypenumbers": "strict",
          "coloraxis": {
           "colorbar": {
            "outlinewidth": 0,
            "ticks": ""
           }
          },
          "colorscale": {
           "diverging": [
            [
             0,
             "#8e0152"
            ],
            [
             0.1,
             "#c51b7d"
            ],
            [
             0.2,
             "#de77ae"
            ],
            [
             0.3,
             "#f1b6da"
            ],
            [
             0.4,
             "#fde0ef"
            ],
            [
             0.5,
             "#f7f7f7"
            ],
            [
             0.6,
             "#e6f5d0"
            ],
            [
             0.7,
             "#b8e186"
            ],
            [
             0.8,
             "#7fbc41"
            ],
            [
             0.9,
             "#4d9221"
            ],
            [
             1,
             "#276419"
            ]
           ],
           "sequential": [
            [
             0,
             "#0d0887"
            ],
            [
             0.1111111111111111,
             "#46039f"
            ],
            [
             0.2222222222222222,
             "#7201a8"
            ],
            [
             0.3333333333333333,
             "#9c179e"
            ],
            [
             0.4444444444444444,
             "#bd3786"
            ],
            [
             0.5555555555555556,
             "#d8576b"
            ],
            [
             0.6666666666666666,
             "#ed7953"
            ],
            [
             0.7777777777777778,
             "#fb9f3a"
            ],
            [
             0.8888888888888888,
             "#fdca26"
            ],
            [
             1,
             "#f0f921"
            ]
           ],
           "sequentialminus": [
            [
             0,
             "#0d0887"
            ],
            [
             0.1111111111111111,
             "#46039f"
            ],
            [
             0.2222222222222222,
             "#7201a8"
            ],
            [
             0.3333333333333333,
             "#9c179e"
            ],
            [
             0.4444444444444444,
             "#bd3786"
            ],
            [
             0.5555555555555556,
             "#d8576b"
            ],
            [
             0.6666666666666666,
             "#ed7953"
            ],
            [
             0.7777777777777778,
             "#fb9f3a"
            ],
            [
             0.8888888888888888,
             "#fdca26"
            ],
            [
             1,
             "#f0f921"
            ]
           ]
          },
          "colorway": [
           "#636efa",
           "#EF553B",
           "#00cc96",
           "#ab63fa",
           "#FFA15A",
           "#19d3f3",
           "#FF6692",
           "#B6E880",
           "#FF97FF",
           "#FECB52"
          ],
          "font": {
           "color": "#2a3f5f"
          },
          "geo": {
           "bgcolor": "white",
           "lakecolor": "white",
           "landcolor": "#E5ECF6",
           "showlakes": true,
           "showland": true,
           "subunitcolor": "white"
          },
          "hoverlabel": {
           "align": "left"
          },
          "hovermode": "closest",
          "mapbox": {
           "style": "light"
          },
          "paper_bgcolor": "white",
          "plot_bgcolor": "#E5ECF6",
          "polar": {
           "angularaxis": {
            "gridcolor": "white",
            "linecolor": "white",
            "ticks": ""
           },
           "bgcolor": "#E5ECF6",
           "radialaxis": {
            "gridcolor": "white",
            "linecolor": "white",
            "ticks": ""
           }
          },
          "scene": {
           "xaxis": {
            "backgroundcolor": "#E5ECF6",
            "gridcolor": "white",
            "gridwidth": 2,
            "linecolor": "white",
            "showbackground": true,
            "ticks": "",
            "zerolinecolor": "white"
           },
           "yaxis": {
            "backgroundcolor": "#E5ECF6",
            "gridcolor": "white",
            "gridwidth": 2,
            "linecolor": "white",
            "showbackground": true,
            "ticks": "",
            "zerolinecolor": "white"
           },
           "zaxis": {
            "backgroundcolor": "#E5ECF6",
            "gridcolor": "white",
            "gridwidth": 2,
            "linecolor": "white",
            "showbackground": true,
            "ticks": "",
            "zerolinecolor": "white"
           }
          },
          "shapedefaults": {
           "line": {
            "color": "#2a3f5f"
           }
          },
          "ternary": {
           "aaxis": {
            "gridcolor": "white",
            "linecolor": "white",
            "ticks": ""
           },
           "baxis": {
            "gridcolor": "white",
            "linecolor": "white",
            "ticks": ""
           },
           "bgcolor": "#E5ECF6",
           "caxis": {
            "gridcolor": "white",
            "linecolor": "white",
            "ticks": ""
           }
          },
          "title": {
           "x": 0.05
          },
          "xaxis": {
           "automargin": true,
           "gridcolor": "white",
           "linecolor": "white",
           "ticks": "",
           "title": {
            "standoff": 15
           },
           "zerolinecolor": "white",
           "zerolinewidth": 2
          },
          "yaxis": {
           "automargin": true,
           "gridcolor": "white",
           "linecolor": "white",
           "ticks": "",
           "title": {
            "standoff": 15
           },
           "zerolinecolor": "white",
           "zerolinewidth": 2
          }
         }
        },
        "title": {
         "text": "Average Sales by season"
        },
        "xaxis": {
         "anchor": "y",
         "domain": [
          0,
          1
         ],
         "title": {
          "text": "season"
         }
        },
        "yaxis": {
         "anchor": "x",
         "domain": [
          0,
          1
         ],
         "title": {
          "text": "y"
         }
        }
       }
      }
     },
     "metadata": {},
     "output_type": "display_data"
    }
   ],
   "source": [
    "# plot avg sales by month on a bar graph with plotly\n",
    "\n",
    "avg_sales_by_month = train.groupby('season')['num_sold'].mean()\n",
    "px.bar(avg_sales_by_month, x=avg_sales_by_month.index, y=avg_sales_by_month.values, title='Average Sales by season')"
   ]
  },
  {
   "cell_type": "code",
   "execution_count": 125,
   "metadata": {},
   "outputs": [
    {
     "data": {
      "text/html": [
       "<style type=\"text/css\">\n",
       "#T_1e78c_row0_col0 {\n",
       "  background-color: #95d6bb;\n",
       "  color: #000000;\n",
       "}\n",
       "#T_1e78c_row0_col1 {\n",
       "  background-color: #7cccc4;\n",
       "  color: #000000;\n",
       "}\n",
       "#T_1e78c_row0_col2 {\n",
       "  background-color: #a6dcb6;\n",
       "  color: #000000;\n",
       "}\n",
       "#T_1e78c_row0_col3, #T_1e78c_row3_col3 {\n",
       "  background-color: #3b9dc7;\n",
       "  color: #f1f1f1;\n",
       "}\n",
       "#T_1e78c_row1_col0 {\n",
       "  background-color: #b1e0b9;\n",
       "  color: #000000;\n",
       "}\n",
       "#T_1e78c_row1_col1 {\n",
       "  background-color: #5dbbce;\n",
       "  color: #000000;\n",
       "}\n",
       "#T_1e78c_row1_col2 {\n",
       "  background-color: #a0dab8;\n",
       "  color: #000000;\n",
       "}\n",
       "#T_1e78c_row1_col3, #T_1e78c_row4_col1 {\n",
       "  background-color: #40a4cb;\n",
       "  color: #f1f1f1;\n",
       "}\n",
       "#T_1e78c_row2_col0 {\n",
       "  background-color: #a9ddb5;\n",
       "  color: #000000;\n",
       "}\n",
       "#T_1e78c_row2_col1 {\n",
       "  background-color: #6bc3c9;\n",
       "  color: #000000;\n",
       "}\n",
       "#T_1e78c_row2_col2 {\n",
       "  background-color: #99d7ba;\n",
       "  color: #000000;\n",
       "}\n",
       "#T_1e78c_row2_col3 {\n",
       "  background-color: #42a6cc;\n",
       "  color: #f1f1f1;\n",
       "}\n",
       "#T_1e78c_row3_col0 {\n",
       "  background-color: #97d6bb;\n",
       "  color: #000000;\n",
       "}\n",
       "#T_1e78c_row3_col1 {\n",
       "  background-color: #70c6c8;\n",
       "  color: #000000;\n",
       "}\n",
       "#T_1e78c_row3_col2 {\n",
       "  background-color: #addfb7;\n",
       "  color: #000000;\n",
       "}\n",
       "#T_1e78c_row4_col0 {\n",
       "  background-color: #b4e2ba;\n",
       "  color: #000000;\n",
       "}\n",
       "#T_1e78c_row4_col2 {\n",
       "  background-color: #a3dbb7;\n",
       "  color: #000000;\n",
       "}\n",
       "#T_1e78c_row4_col3 {\n",
       "  background-color: #56b7d0;\n",
       "  color: #f1f1f1;\n",
       "}\n",
       "#T_1e78c_row5_col0 {\n",
       "  background-color: #9bd8b9;\n",
       "  color: #000000;\n",
       "}\n",
       "#T_1e78c_row5_col1 {\n",
       "  background-color: #6cc4c9;\n",
       "  color: #000000;\n",
       "}\n",
       "#T_1e78c_row5_col2 {\n",
       "  background-color: #9fdab8;\n",
       "  color: #000000;\n",
       "}\n",
       "#T_1e78c_row5_col3 {\n",
       "  background-color: #47abcf;\n",
       "  color: #f1f1f1;\n",
       "}\n",
       "</style>\n",
       "<table id=\"T_1e78c\">\n",
       "  <thead>\n",
       "    <tr>\n",
       "      <th class=\"index_name level0\" >season</th>\n",
       "      <th id=\"T_1e78c_level0_col0\" class=\"col_heading level0 col0\" >Autumn</th>\n",
       "      <th id=\"T_1e78c_level0_col1\" class=\"col_heading level0 col1\" >Spring</th>\n",
       "      <th id=\"T_1e78c_level0_col2\" class=\"col_heading level0 col2\" >Summer</th>\n",
       "      <th id=\"T_1e78c_level0_col3\" class=\"col_heading level0 col3\" >Winter</th>\n",
       "    </tr>\n",
       "    <tr>\n",
       "      <th class=\"index_name level0\" >country</th>\n",
       "      <th class=\"blank col0\" >&nbsp;</th>\n",
       "      <th class=\"blank col1\" >&nbsp;</th>\n",
       "      <th class=\"blank col2\" >&nbsp;</th>\n",
       "      <th class=\"blank col3\" >&nbsp;</th>\n",
       "    </tr>\n",
       "  </thead>\n",
       "  <tbody>\n",
       "    <tr>\n",
       "      <th id=\"T_1e78c_level0_row0\" class=\"row_heading level0 row0\" >Canada</th>\n",
       "      <td id=\"T_1e78c_row0_col0\" class=\"data row0 col0\" >0.247068</td>\n",
       "      <td id=\"T_1e78c_row0_col1\" class=\"data row0 col1\" >0.249876</td>\n",
       "      <td id=\"T_1e78c_row0_col2\" class=\"data row0 col2\" >0.245269</td>\n",
       "      <td id=\"T_1e78c_row0_col3\" class=\"data row0 col3\" >0.257786</td>\n",
       "    </tr>\n",
       "    <tr>\n",
       "      <th id=\"T_1e78c_level0_row1\" class=\"row_heading level0 row1\" >Finland</th>\n",
       "      <td id=\"T_1e78c_row1_col0\" class=\"data row1 col0\" >0.243833</td>\n",
       "      <td id=\"T_1e78c_row1_col1\" class=\"data row1 col1\" >0.253330</td>\n",
       "      <td id=\"T_1e78c_row1_col2\" class=\"data row1 col2\" >0.245874</td>\n",
       "      <td id=\"T_1e78c_row1_col3\" class=\"data row1 col3\" >0.256963</td>\n",
       "    </tr>\n",
       "    <tr>\n",
       "      <th id=\"T_1e78c_level0_row2\" class=\"row_heading level0 row2\" >Italy</th>\n",
       "      <td id=\"T_1e78c_row2_col0\" class=\"data row2 col0\" >0.244992</td>\n",
       "      <td id=\"T_1e78c_row2_col1\" class=\"data row2 col1\" >0.251731</td>\n",
       "      <td id=\"T_1e78c_row2_col2\" class=\"data row2 col2\" >0.246567</td>\n",
       "      <td id=\"T_1e78c_row2_col3\" class=\"data row2 col3\" >0.256709</td>\n",
       "    </tr>\n",
       "    <tr>\n",
       "      <th id=\"T_1e78c_level0_row3\" class=\"row_heading level0 row3\" >Kenya</th>\n",
       "      <td id=\"T_1e78c_row3_col0\" class=\"data row3 col0\" >0.246957</td>\n",
       "      <td id=\"T_1e78c_row3_col1\" class=\"data row3 col1\" >0.251111</td>\n",
       "      <td id=\"T_1e78c_row3_col2\" class=\"data row3 col2\" >0.244228</td>\n",
       "      <td id=\"T_1e78c_row3_col3\" class=\"data row3 col3\" >0.257704</td>\n",
       "    </tr>\n",
       "    <tr>\n",
       "      <th id=\"T_1e78c_level0_row4\" class=\"row_heading level0 row4\" >Norway</th>\n",
       "      <td id=\"T_1e78c_row4_col0\" class=\"data row4 col0\" >0.243394</td>\n",
       "      <td id=\"T_1e78c_row4_col1\" class=\"data row4 col1\" >0.256942</td>\n",
       "      <td id=\"T_1e78c_row4_col2\" class=\"data row4 col2\" >0.245519</td>\n",
       "      <td id=\"T_1e78c_row4_col3\" class=\"data row4 col3\" >0.254146</td>\n",
       "    </tr>\n",
       "    <tr>\n",
       "      <th id=\"T_1e78c_level0_row5\" class=\"row_heading level0 row5\" >Singapore</th>\n",
       "      <td id=\"T_1e78c_row5_col0\" class=\"data row5 col0\" >0.246421</td>\n",
       "      <td id=\"T_1e78c_row5_col1\" class=\"data row5 col1\" >0.251601</td>\n",
       "      <td id=\"T_1e78c_row5_col2\" class=\"data row5 col2\" >0.245989</td>\n",
       "      <td id=\"T_1e78c_row5_col3\" class=\"data row5 col3\" >0.255990</td>\n",
       "    </tr>\n",
       "  </tbody>\n",
       "</table>\n"
      ],
      "text/plain": [
       "<pandas.io.formats.style.Styler at 0x28745cb60>"
      ]
     },
     "execution_count": 125,
     "metadata": {},
     "output_type": "execute_result"
    }
   ],
   "source": [
    "# grouped bar chart for each country for each season \n",
    "grouped_df = train.groupby(['country', 'season'])['num_sold'].mean() / train.groupby(['country', 'season'])['num_sold'].mean().unstack().sum(axis=1)\n",
    "grouped_df.unstack().style.background_gradient(axis=None, vmin=.23, vmax=0.27, cmap=\"GnBu\")"
   ]
  },
  {
   "cell_type": "markdown",
   "metadata": {},
   "source": [
    "### All country level seasonality is consistent around 25% per season"
   ]
  },
  {
   "cell_type": "code",
   "execution_count": 126,
   "metadata": {},
   "outputs": [
    {
     "data": {
      "text/html": [
       "<style type=\"text/css\">\n",
       "#T_2e24c_row0_col0 {\n",
       "  background-color: #4fb3d3;\n",
       "  color: #f1f1f1;\n",
       "}\n",
       "#T_2e24c_row0_col1, #T_2e24c_row0_col2, #T_2e24c_row3_col9 {\n",
       "  background-color: #a3dbb7;\n",
       "  color: #000000;\n",
       "}\n",
       "#T_2e24c_row0_col3, #T_2e24c_row5_col10 {\n",
       "  background-color: #b7e3bc;\n",
       "  color: #000000;\n",
       "}\n",
       "#T_2e24c_row0_col4, #T_2e24c_row2_col1, #T_2e24c_row3_col1, #T_2e24c_row4_col1, #T_2e24c_row5_col7 {\n",
       "  background-color: #c4e8c1;\n",
       "  color: #000000;\n",
       "}\n",
       "#T_2e24c_row0_col5, #T_2e24c_row5_col5 {\n",
       "  background-color: #dbf1d5;\n",
       "  color: #000000;\n",
       "}\n",
       "#T_2e24c_row0_col6 {\n",
       "  background-color: #c8eac3;\n",
       "  color: #000000;\n",
       "}\n",
       "#T_2e24c_row0_col7 {\n",
       "  background-color: #e3f4de;\n",
       "  color: #000000;\n",
       "}\n",
       "#T_2e24c_row0_col8 {\n",
       "  background-color: #cfecc8;\n",
       "  color: #000000;\n",
       "}\n",
       "#T_2e24c_row0_col9 {\n",
       "  background-color: #d3eecd;\n",
       "  color: #000000;\n",
       "}\n",
       "#T_2e24c_row0_col10 {\n",
       "  background-color: #c5e8c2;\n",
       "  color: #000000;\n",
       "}\n",
       "#T_2e24c_row0_col11 {\n",
       "  background-color: #2a8bbe;\n",
       "  color: #f1f1f1;\n",
       "}\n",
       "#T_2e24c_row1_col0 {\n",
       "  background-color: #62becc;\n",
       "  color: #000000;\n",
       "}\n",
       "#T_2e24c_row1_col1, #T_2e24c_row3_col5 {\n",
       "  background-color: #cbeac4;\n",
       "  color: #000000;\n",
       "}\n",
       "#T_2e24c_row1_col2 {\n",
       "  background-color: #bfe6bf;\n",
       "  color: #000000;\n",
       "}\n",
       "#T_2e24c_row1_col3 {\n",
       "  background-color: #69c2ca;\n",
       "  color: #000000;\n",
       "}\n",
       "#T_2e24c_row1_col4 {\n",
       "  background-color: #7cccc4;\n",
       "  color: #000000;\n",
       "}\n",
       "#T_2e24c_row1_col5, #T_2e24c_row2_col4 {\n",
       "  background-color: #9cd9b9;\n",
       "  color: #000000;\n",
       "}\n",
       "#T_2e24c_row1_col6 {\n",
       "  background-color: #dff3da;\n",
       "  color: #000000;\n",
       "}\n",
       "#T_2e24c_row1_col7 {\n",
       "  background-color: #edf8e7;\n",
       "  color: #000000;\n",
       "}\n",
       "#T_2e24c_row1_col8 {\n",
       "  background-color: #eef9e8;\n",
       "  color: #000000;\n",
       "}\n",
       "#T_2e24c_row1_col9 {\n",
       "  background-color: #e9f6e3;\n",
       "  color: #000000;\n",
       "}\n",
       "#T_2e24c_row1_col10 {\n",
       "  background-color: #c9eac4;\n",
       "  color: #000000;\n",
       "}\n",
       "#T_2e24c_row1_col11 {\n",
       "  background-color: #1070b0;\n",
       "  color: #f1f1f1;\n",
       "}\n",
       "#T_2e24c_row2_col0 {\n",
       "  background-color: #54b6d1;\n",
       "  color: #f1f1f1;\n",
       "}\n",
       "#T_2e24c_row2_col2 {\n",
       "  background-color: #b9e3bc;\n",
       "  color: #000000;\n",
       "}\n",
       "#T_2e24c_row2_col3 {\n",
       "  background-color: #8bd2bf;\n",
       "  color: #000000;\n",
       "}\n",
       "#T_2e24c_row2_col5 {\n",
       "  background-color: #c3e7c1;\n",
       "  color: #000000;\n",
       "}\n",
       "#T_2e24c_row2_col6 {\n",
       "  background-color: #dcf1d7;\n",
       "  color: #000000;\n",
       "}\n",
       "#T_2e24c_row2_col7 {\n",
       "  background-color: #d0ecc9;\n",
       "  color: #000000;\n",
       "}\n",
       "#T_2e24c_row2_col8, #T_2e24c_row3_col7 {\n",
       "  background-color: #e7f6e2;\n",
       "  color: #000000;\n",
       "}\n",
       "#T_2e24c_row2_col9 {\n",
       "  background-color: #e1f4dc;\n",
       "  color: #000000;\n",
       "}\n",
       "#T_2e24c_row2_col10, #T_2e24c_row3_col2, #T_2e24c_row5_col2 {\n",
       "  background-color: #bee6bf;\n",
       "  color: #000000;\n",
       "}\n",
       "#T_2e24c_row2_col11 {\n",
       "  background-color: #2687bb;\n",
       "  color: #f1f1f1;\n",
       "}\n",
       "#T_2e24c_row3_col0 {\n",
       "  background-color: #4db2d3;\n",
       "  color: #f1f1f1;\n",
       "}\n",
       "#T_2e24c_row3_col3 {\n",
       "  background-color: #87d1c0;\n",
       "  color: #000000;\n",
       "}\n",
       "#T_2e24c_row3_col4 {\n",
       "  background-color: #aedfb8;\n",
       "  color: #000000;\n",
       "}\n",
       "#T_2e24c_row3_col6 {\n",
       "  background-color: #e6f6e1;\n",
       "  color: #000000;\n",
       "}\n",
       "#T_2e24c_row3_col8 {\n",
       "  background-color: #e5f5e0;\n",
       "  color: #000000;\n",
       "}\n",
       "#T_2e24c_row3_col10 {\n",
       "  background-color: #d3eecc;\n",
       "  color: #000000;\n",
       "}\n",
       "#T_2e24c_row3_col11 {\n",
       "  background-color: #1171b1;\n",
       "  color: #f1f1f1;\n",
       "}\n",
       "#T_2e24c_row4_col0 {\n",
       "  background-color: #7fcdc3;\n",
       "  color: #000000;\n",
       "}\n",
       "#T_2e24c_row4_col2 {\n",
       "  background-color: #b2e1b9;\n",
       "  color: #000000;\n",
       "}\n",
       "#T_2e24c_row4_col3 {\n",
       "  background-color: #3ea1c9;\n",
       "  color: #f1f1f1;\n",
       "}\n",
       "#T_2e24c_row4_col4 {\n",
       "  background-color: #3fa2ca;\n",
       "  color: #f1f1f1;\n",
       "}\n",
       "#T_2e24c_row4_col5 {\n",
       "  background-color: #bde5be;\n",
       "  color: #000000;\n",
       "}\n",
       "#T_2e24c_row4_col6 {\n",
       "  background-color: #dcf1d6;\n",
       "  color: #000000;\n",
       "}\n",
       "#T_2e24c_row4_col7 {\n",
       "  background-color: #e4f5df;\n",
       "  color: #000000;\n",
       "}\n",
       "#T_2e24c_row4_col8 {\n",
       "  background-color: #ebf7e5;\n",
       "  color: #000000;\n",
       "}\n",
       "#T_2e24c_row4_col9 {\n",
       "  background-color: #e4f4de;\n",
       "  color: #000000;\n",
       "}\n",
       "#T_2e24c_row4_col10 {\n",
       "  background-color: #daf0d4;\n",
       "  color: #000000;\n",
       "}\n",
       "#T_2e24c_row4_col11 {\n",
       "  background-color: #4cb1d2;\n",
       "  color: #f1f1f1;\n",
       "}\n",
       "#T_2e24c_row5_col0 {\n",
       "  background-color: #81cec2;\n",
       "  color: #000000;\n",
       "}\n",
       "#T_2e24c_row5_col1 {\n",
       "  background-color: #76c9c6;\n",
       "  color: #000000;\n",
       "}\n",
       "#T_2e24c_row5_col3 {\n",
       "  background-color: #a5dcb6;\n",
       "  color: #000000;\n",
       "}\n",
       "#T_2e24c_row5_col4 {\n",
       "  background-color: #83cfc1;\n",
       "  color: #000000;\n",
       "}\n",
       "#T_2e24c_row5_col6 {\n",
       "  background-color: #daf1d5;\n",
       "  color: #000000;\n",
       "}\n",
       "#T_2e24c_row5_col8 {\n",
       "  background-color: #dff2da;\n",
       "  color: #000000;\n",
       "}\n",
       "#T_2e24c_row5_col9 {\n",
       "  background-color: #d7efd1;\n",
       "  color: #000000;\n",
       "}\n",
       "#T_2e24c_row5_col11 {\n",
       "  background-color: #57b8d0;\n",
       "  color: #000000;\n",
       "}\n",
       "</style>\n",
       "<table id=\"T_2e24c\">\n",
       "  <thead>\n",
       "    <tr>\n",
       "      <th class=\"index_name level0\" >month</th>\n",
       "      <th id=\"T_2e24c_level0_col0\" class=\"col_heading level0 col0\" >1</th>\n",
       "      <th id=\"T_2e24c_level0_col1\" class=\"col_heading level0 col1\" >2</th>\n",
       "      <th id=\"T_2e24c_level0_col2\" class=\"col_heading level0 col2\" >3</th>\n",
       "      <th id=\"T_2e24c_level0_col3\" class=\"col_heading level0 col3\" >4</th>\n",
       "      <th id=\"T_2e24c_level0_col4\" class=\"col_heading level0 col4\" >5</th>\n",
       "      <th id=\"T_2e24c_level0_col5\" class=\"col_heading level0 col5\" >6</th>\n",
       "      <th id=\"T_2e24c_level0_col6\" class=\"col_heading level0 col6\" >7</th>\n",
       "      <th id=\"T_2e24c_level0_col7\" class=\"col_heading level0 col7\" >8</th>\n",
       "      <th id=\"T_2e24c_level0_col8\" class=\"col_heading level0 col8\" >9</th>\n",
       "      <th id=\"T_2e24c_level0_col9\" class=\"col_heading level0 col9\" >10</th>\n",
       "      <th id=\"T_2e24c_level0_col10\" class=\"col_heading level0 col10\" >11</th>\n",
       "      <th id=\"T_2e24c_level0_col11\" class=\"col_heading level0 col11\" >12</th>\n",
       "    </tr>\n",
       "    <tr>\n",
       "      <th class=\"index_name level0\" >country</th>\n",
       "      <th class=\"blank col0\" >&nbsp;</th>\n",
       "      <th class=\"blank col1\" >&nbsp;</th>\n",
       "      <th class=\"blank col2\" >&nbsp;</th>\n",
       "      <th class=\"blank col3\" >&nbsp;</th>\n",
       "      <th class=\"blank col4\" >&nbsp;</th>\n",
       "      <th class=\"blank col5\" >&nbsp;</th>\n",
       "      <th class=\"blank col6\" >&nbsp;</th>\n",
       "      <th class=\"blank col7\" >&nbsp;</th>\n",
       "      <th class=\"blank col8\" >&nbsp;</th>\n",
       "      <th class=\"blank col9\" >&nbsp;</th>\n",
       "      <th class=\"blank col10\" >&nbsp;</th>\n",
       "      <th class=\"blank col11\" >&nbsp;</th>\n",
       "    </tr>\n",
       "  </thead>\n",
       "  <tbody>\n",
       "    <tr>\n",
       "      <th id=\"T_2e24c_level0_row0\" class=\"row_heading level0 row0\" >Canada</th>\n",
       "      <td id=\"T_2e24c_row0_col0\" class=\"data row0 col0\" >0.086227</td>\n",
       "      <td id=\"T_2e24c_row0_col1\" class=\"data row0 col1\" >0.083895</td>\n",
       "      <td id=\"T_2e24c_row0_col2\" class=\"data row0 col2\" >0.083883</td>\n",
       "      <td id=\"T_2e24c_row0_col3\" class=\"data row0 col3\" >0.083234</td>\n",
       "      <td id=\"T_2e24c_row0_col4\" class=\"data row0 col4\" >0.082802</td>\n",
       "      <td id=\"T_2e24c_row0_col5\" class=\"data row0 col5\" >0.081563</td>\n",
       "      <td id=\"T_2e24c_row0_col6\" class=\"data row0 col6\" >0.082625</td>\n",
       "      <td id=\"T_2e24c_row0_col7\" class=\"data row0 col7\" >0.081117</td>\n",
       "      <td id=\"T_2e24c_row0_col8\" class=\"data row0 col8\" >0.082319</td>\n",
       "      <td id=\"T_2e24c_row0_col9\" class=\"data row0 col9\" >0.082037</td>\n",
       "      <td id=\"T_2e24c_row0_col10\" class=\"data row0 col10\" >0.082767</td>\n",
       "      <td id=\"T_2e24c_row0_col11\" class=\"data row0 col11\" >0.087531</td>\n",
       "    </tr>\n",
       "    <tr>\n",
       "      <th id=\"T_2e24c_level0_row1\" class=\"row_heading level0 row1\" >Finland</th>\n",
       "      <td id=\"T_2e24c_row1_col0\" class=\"data row1 col0\" >0.085699</td>\n",
       "      <td id=\"T_2e24c_row1_col1\" class=\"data row1 col1\" >0.082569</td>\n",
       "      <td id=\"T_2e24c_row1_col2\" class=\"data row1 col2\" >0.082955</td>\n",
       "      <td id=\"T_2e24c_row1_col3\" class=\"data row1 col3\" >0.085485</td>\n",
       "      <td id=\"T_2e24c_row1_col4\" class=\"data row1 col4\" >0.084962</td>\n",
       "      <td id=\"T_2e24c_row1_col5\" class=\"data row1 col5\" >0.084090</td>\n",
       "      <td id=\"T_2e24c_row1_col6\" class=\"data row1 col6\" >0.081319</td>\n",
       "      <td id=\"T_2e24c_row1_col7\" class=\"data row1 col7\" >0.080570</td>\n",
       "      <td id=\"T_2e24c_row1_col8\" class=\"data row1 col8\" >0.080499</td>\n",
       "      <td id=\"T_2e24c_row1_col9\" class=\"data row1 col9\" >0.080785</td>\n",
       "      <td id=\"T_2e24c_row1_col10\" class=\"data row1 col10\" >0.082603</td>\n",
       "      <td id=\"T_2e24c_row1_col11\" class=\"data row1 col11\" >0.088463</td>\n",
       "    </tr>\n",
       "    <tr>\n",
       "      <th id=\"T_2e24c_level0_row2\" class=\"row_heading level0 row2\" >Italy</th>\n",
       "      <td id=\"T_2e24c_row2_col0\" class=\"data row2 col0\" >0.086070</td>\n",
       "      <td id=\"T_2e24c_row2_col1\" class=\"data row2 col1\" >0.082786</td>\n",
       "      <td id=\"T_2e24c_row2_col2\" class=\"data row2 col2\" >0.083193</td>\n",
       "      <td id=\"T_2e24c_row2_col3\" class=\"data row2 col3\" >0.084540</td>\n",
       "      <td id=\"T_2e24c_row2_col4\" class=\"data row2 col4\" >0.084067</td>\n",
       "      <td id=\"T_2e24c_row2_col5\" class=\"data row2 col5\" >0.082845</td>\n",
       "      <td id=\"T_2e24c_row2_col6\" class=\"data row2 col6\" >0.081507</td>\n",
       "      <td id=\"T_2e24c_row2_col7\" class=\"data row2 col7\" >0.082282</td>\n",
       "      <td id=\"T_2e24c_row2_col8\" class=\"data row2 col8\" >0.080873</td>\n",
       "      <td id=\"T_2e24c_row2_col9\" class=\"data row2 col9\" >0.081205</td>\n",
       "      <td id=\"T_2e24c_row2_col10\" class=\"data row2 col10\" >0.082976</td>\n",
       "      <td id=\"T_2e24c_row2_col11\" class=\"data row2 col11\" >0.087657</td>\n",
       "    </tr>\n",
       "    <tr>\n",
       "      <th id=\"T_2e24c_level0_row3\" class=\"row_heading level0 row3\" >Kenya</th>\n",
       "      <td id=\"T_2e24c_row3_col0\" class=\"data row3 col0\" >0.086263</td>\n",
       "      <td id=\"T_2e24c_row3_col1\" class=\"data row3 col1\" >0.082808</td>\n",
       "      <td id=\"T_2e24c_row3_col2\" class=\"data row3 col2\" >0.082999</td>\n",
       "      <td id=\"T_2e24c_row3_col3\" class=\"data row3 col3\" >0.084661</td>\n",
       "      <td id=\"T_2e24c_row3_col4\" class=\"data row3 col4\" >0.083545</td>\n",
       "      <td id=\"T_2e24c_row3_col5\" class=\"data row3 col5\" >0.082542</td>\n",
       "      <td id=\"T_2e24c_row3_col6\" class=\"data row3 col6\" >0.080910</td>\n",
       "      <td id=\"T_2e24c_row3_col7\" class=\"data row3 col7\" >0.080874</td>\n",
       "      <td id=\"T_2e24c_row3_col8\" class=\"data row3 col8\" >0.080983</td>\n",
       "      <td id=\"T_2e24c_row3_col9\" class=\"data row3 col9\" >0.083899</td>\n",
       "      <td id=\"T_2e24c_row3_col10\" class=\"data row3 col10\" >0.082087</td>\n",
       "      <td id=\"T_2e24c_row3_col11\" class=\"data row3 col11\" >0.088428</td>\n",
       "    </tr>\n",
       "    <tr>\n",
       "      <th id=\"T_2e24c_level0_row4\" class=\"row_heading level0 row4\" >Norway</th>\n",
       "      <td id=\"T_2e24c_row4_col0\" class=\"data row4 col0\" >0.084887</td>\n",
       "      <td id=\"T_2e24c_row4_col1\" class=\"data row4 col1\" >0.082784</td>\n",
       "      <td id=\"T_2e24c_row4_col2\" class=\"data row4 col2\" >0.083415</td>\n",
       "      <td id=\"T_2e24c_row4_col3\" class=\"data row4 col3\" >0.086816</td>\n",
       "      <td id=\"T_2e24c_row4_col4\" class=\"data row4 col4\" >0.086772</td>\n",
       "      <td id=\"T_2e24c_row4_col5\" class=\"data row4 col5\" >0.083012</td>\n",
       "      <td id=\"T_2e24c_row4_col6\" class=\"data row4 col6\" >0.081528</td>\n",
       "      <td id=\"T_2e24c_row4_col7\" class=\"data row4 col7\" >0.081039</td>\n",
       "      <td id=\"T_2e24c_row4_col8\" class=\"data row4 col8\" >0.080695</td>\n",
       "      <td id=\"T_2e24c_row4_col9\" class=\"data row4 col9\" >0.081057</td>\n",
       "      <td id=\"T_2e24c_row4_col10\" class=\"data row4 col10\" >0.081667</td>\n",
       "      <td id=\"T_2e24c_row4_col11\" class=\"data row4 col11\" >0.086328</td>\n",
       "    </tr>\n",
       "    <tr>\n",
       "      <th id=\"T_2e24c_level0_row5\" class=\"row_heading level0 row5\" >Singapore</th>\n",
       "      <td id=\"T_2e24c_row5_col0\" class=\"data row5 col0\" >0.084841</td>\n",
       "      <td id=\"T_2e24c_row5_col1\" class=\"data row5 col1\" >0.085154</td>\n",
       "      <td id=\"T_2e24c_row5_col2\" class=\"data row5 col2\" >0.082992</td>\n",
       "      <td id=\"T_2e24c_row5_col3\" class=\"data row5 col3\" >0.083840</td>\n",
       "      <td id=\"T_2e24c_row5_col4\" class=\"data row5 col4\" >0.084773</td>\n",
       "      <td id=\"T_2e24c_row5_col5\" class=\"data row5 col5\" >0.081588</td>\n",
       "      <td id=\"T_2e24c_row5_col6\" class=\"data row5 col6\" >0.081606</td>\n",
       "      <td id=\"T_2e24c_row5_col7\" class=\"data row5 col7\" >0.082786</td>\n",
       "      <td id=\"T_2e24c_row5_col8\" class=\"data row5 col8\" >0.081353</td>\n",
       "      <td id=\"T_2e24c_row5_col9\" class=\"data row5 col9\" >0.081860</td>\n",
       "      <td id=\"T_2e24c_row5_col10\" class=\"data row5 col10\" >0.083222</td>\n",
       "      <td id=\"T_2e24c_row5_col11\" class=\"data row5 col11\" >0.085984</td>\n",
       "    </tr>\n",
       "  </tbody>\n",
       "</table>\n"
      ],
      "text/plain": [
       "<pandas.io.formats.style.Styler at 0x28747f740>"
      ]
     },
     "execution_count": 126,
     "metadata": {},
     "output_type": "execute_result"
    }
   ],
   "source": [
    "# grouped bar chart for each country for each season \n",
    "grouped_df = train.groupby(['country', 'month'])['num_sold'].mean() / train.groupby(['country', 'month'])['num_sold'].mean().unstack().sum(axis=1)\n",
    "grouped_df.unstack().style.background_gradient(axis=None, vmin=.08, vmax=0.09, cmap=\"GnBu\")"
   ]
  },
  {
   "cell_type": "code",
   "execution_count": 127,
   "metadata": {},
   "outputs": [
    {
     "data": {
      "text/html": [
       "<style type=\"text/css\">\n",
       "#T_f9c72_row0_col0 {\n",
       "  background-color: #5fbdcd;\n",
       "  color: #000000;\n",
       "}\n",
       "#T_f9c72_row0_col1 {\n",
       "  background-color: #98d7ba;\n",
       "  color: #000000;\n",
       "}\n",
       "#T_f9c72_row0_col2 {\n",
       "  background-color: #e5f5e0;\n",
       "  color: #000000;\n",
       "}\n",
       "#T_f9c72_row0_col3 {\n",
       "  background-color: #085ea1;\n",
       "  color: #f1f1f1;\n",
       "}\n",
       "#T_f9c72_row1_col0 {\n",
       "  background-color: #84cfc1;\n",
       "  color: #000000;\n",
       "}\n",
       "#T_f9c72_row1_col1 {\n",
       "  background-color: #79cbc5;\n",
       "  color: #000000;\n",
       "}\n",
       "#T_f9c72_row1_col2, #T_f9c72_row2_col2 {\n",
       "  background-color: #83cfc1;\n",
       "  color: #000000;\n",
       "}\n",
       "#T_f9c72_row1_col3 {\n",
       "  background-color: #6ec5c8;\n",
       "  color: #000000;\n",
       "}\n",
       "#T_f9c72_row2_col0 {\n",
       "  background-color: #8ad2bf;\n",
       "  color: #000000;\n",
       "}\n",
       "#T_f9c72_row2_col1 {\n",
       "  background-color: #73c8c7;\n",
       "  color: #000000;\n",
       "}\n",
       "#T_f9c72_row2_col3 {\n",
       "  background-color: #6cc4c9;\n",
       "  color: #000000;\n",
       "}\n",
       "#T_f9c72_row3_col0 {\n",
       "  background-color: #1272b1;\n",
       "  color: #f1f1f1;\n",
       "}\n",
       "#T_f9c72_row3_col1 {\n",
       "  background-color: #def2d9;\n",
       "  color: #000000;\n",
       "}\n",
       "#T_f9c72_row3_col2 {\n",
       "  background-color: #5ebcce;\n",
       "  color: #000000;\n",
       "}\n",
       "#T_f9c72_row3_col3 {\n",
       "  background-color: #8fd4bd;\n",
       "  color: #000000;\n",
       "}\n",
       "#T_f9c72_row4_col0 {\n",
       "  background-color: #f3fbed;\n",
       "  color: #000000;\n",
       "}\n",
       "#T_f9c72_row4_col1 {\n",
       "  background-color: #08498a;\n",
       "  color: #f1f1f1;\n",
       "}\n",
       "#T_f9c72_row4_col2 {\n",
       "  background-color: #abdeb6;\n",
       "  color: #000000;\n",
       "}\n",
       "#T_f9c72_row4_col3 {\n",
       "  background-color: #48accf;\n",
       "  color: #f1f1f1;\n",
       "}\n",
       "</style>\n",
       "<table id=\"T_f9c72\">\n",
       "  <thead>\n",
       "    <tr>\n",
       "      <th class=\"index_name level0\" >season</th>\n",
       "      <th id=\"T_f9c72_level0_col0\" class=\"col_heading level0 col0\" >Autumn</th>\n",
       "      <th id=\"T_f9c72_level0_col1\" class=\"col_heading level0 col1\" >Spring</th>\n",
       "      <th id=\"T_f9c72_level0_col2\" class=\"col_heading level0 col2\" >Summer</th>\n",
       "      <th id=\"T_f9c72_level0_col3\" class=\"col_heading level0 col3\" >Winter</th>\n",
       "    </tr>\n",
       "    <tr>\n",
       "      <th class=\"index_name level0\" >product</th>\n",
       "      <th class=\"blank col0\" >&nbsp;</th>\n",
       "      <th class=\"blank col1\" >&nbsp;</th>\n",
       "      <th class=\"blank col2\" >&nbsp;</th>\n",
       "      <th class=\"blank col3\" >&nbsp;</th>\n",
       "    </tr>\n",
       "  </thead>\n",
       "  <tbody>\n",
       "    <tr>\n",
       "      <th id=\"T_f9c72_level0_row0\" class=\"row_heading level0 row0\" >Holographic Goose</th>\n",
       "      <td id=\"T_f9c72_row0_col0\" class=\"data row0 col0\" >0.257641</td>\n",
       "      <td id=\"T_f9c72_row0_col1\" class=\"data row0 col1\" >0.241819</td>\n",
       "      <td id=\"T_f9c72_row0_col2\" class=\"data row0 col2\" >0.210009</td>\n",
       "      <td id=\"T_f9c72_row0_col3\" class=\"data row0 col3\" >0.290531</td>\n",
       "    </tr>\n",
       "    <tr>\n",
       "      <th id=\"T_f9c72_level0_row1\" class=\"row_heading level0 row1\" >Kaggle</th>\n",
       "      <td id=\"T_f9c72_row1_col0\" class=\"data row1 col0\" >0.247590</td>\n",
       "      <td id=\"T_f9c72_row1_col1\" class=\"data row1 col1\" >0.250630</td>\n",
       "      <td id=\"T_f9c72_row1_col2\" class=\"data row1 col2\" >0.248016</td>\n",
       "      <td id=\"T_f9c72_row1_col3\" class=\"data row1 col3\" >0.253765</td>\n",
       "    </tr>\n",
       "    <tr>\n",
       "      <th id=\"T_f9c72_level0_row2\" class=\"row_heading level0 row2\" >Kaggle Tiers</th>\n",
       "      <td id=\"T_f9c72_row2_col0\" class=\"data row2 col0\" >0.245709</td>\n",
       "      <td id=\"T_f9c72_row2_col1\" class=\"data row2 col1\" >0.252208</td>\n",
       "      <td id=\"T_f9c72_row2_col2\" class=\"data row2 col2\" >0.247913</td>\n",
       "      <td id=\"T_f9c72_row2_col3\" class=\"data row2 col3\" >0.254170</td>\n",
       "    </tr>\n",
       "    <tr>\n",
       "      <th id=\"T_f9c72_level0_row3\" class=\"row_heading level0 row3\" >Kerneler</th>\n",
       "      <td id=\"T_f9c72_row3_col0\" class=\"data row3 col0\" >0.283966</td>\n",
       "      <td id=\"T_f9c72_row3_col1\" class=\"data row3 col1\" >0.213853</td>\n",
       "      <td id=\"T_f9c72_row3_col2\" class=\"data row3 col2\" >0.257966</td>\n",
       "      <td id=\"T_f9c72_row3_col3\" class=\"data row3 col3\" >0.244215</td>\n",
       "    </tr>\n",
       "    <tr>\n",
       "      <th id=\"T_f9c72_level0_row4\" class=\"row_heading level0 row4\" >Kerneler Dark Mode</th>\n",
       "      <td id=\"T_f9c72_row4_col0\" class=\"data row4 col0\" >0.202122</td>\n",
       "      <td id=\"T_f9c72_row4_col1\" class=\"data row4 col1\" >0.296967</td>\n",
       "      <td id=\"T_f9c72_row4_col2\" class=\"data row4 col2\" >0.236447</td>\n",
       "      <td id=\"T_f9c72_row4_col3\" class=\"data row4 col3\" >0.264464</td>\n",
       "    </tr>\n",
       "  </tbody>\n",
       "</table>\n"
      ],
      "text/plain": [
       "<pandas.io.formats.style.Styler at 0x28745de80>"
      ]
     },
     "execution_count": 127,
     "metadata": {},
     "output_type": "execute_result"
    }
   ],
   "source": [
    "# grouped bar chart for each country for each season \n",
    "grouped_df = train.groupby(['product', 'season'])['num_sold'].mean() / train.groupby(['product', 'season'])['num_sold'].mean().unstack().sum(axis=1)\n",
    "grouped_df.unstack().style.background_gradient(axis=None, vmin=.2, vmax=0.3, cmap=\"GnBu\")"
   ]
  },
  {
   "cell_type": "markdown",
   "metadata": {},
   "source": [
    "### There is definitely seasonality at the product level for each of the sticker types. "
   ]
  },
  {
   "cell_type": "code",
   "execution_count": 128,
   "metadata": {},
   "outputs": [
    {
     "data": {
      "text/html": [
       "<div>\n",
       "<style scoped>\n",
       "    .dataframe tbody tr th:only-of-type {\n",
       "        vertical-align: middle;\n",
       "    }\n",
       "\n",
       "    .dataframe tbody tr th {\n",
       "        vertical-align: top;\n",
       "    }\n",
       "\n",
       "    .dataframe thead th {\n",
       "        text-align: right;\n",
       "    }\n",
       "</style>\n",
       "<table border=\"1\" class=\"dataframe\">\n",
       "  <thead>\n",
       "    <tr style=\"text-align: right;\">\n",
       "      <th>month</th>\n",
       "      <th>1</th>\n",
       "      <th>2</th>\n",
       "      <th>3</th>\n",
       "      <th>4</th>\n",
       "      <th>5</th>\n",
       "      <th>6</th>\n",
       "      <th>7</th>\n",
       "      <th>8</th>\n",
       "      <th>9</th>\n",
       "      <th>10</th>\n",
       "      <th>11</th>\n",
       "      <th>12</th>\n",
       "    </tr>\n",
       "    <tr>\n",
       "      <th>product</th>\n",
       "      <th></th>\n",
       "      <th></th>\n",
       "      <th></th>\n",
       "      <th></th>\n",
       "      <th></th>\n",
       "      <th></th>\n",
       "      <th></th>\n",
       "      <th></th>\n",
       "      <th></th>\n",
       "      <th></th>\n",
       "      <th></th>\n",
       "      <th></th>\n",
       "    </tr>\n",
       "  </thead>\n",
       "  <tbody>\n",
       "    <tr>\n",
       "      <th>Holographic Goose</th>\n",
       "      <td>0.017567</td>\n",
       "      <td>0.011718</td>\n",
       "      <td>0.006033</td>\n",
       "      <td>0.001139</td>\n",
       "      <td>-0.005222</td>\n",
       "      <td>-0.010864</td>\n",
       "      <td>-0.011344</td>\n",
       "      <td>-0.007713</td>\n",
       "      <td>-0.001124</td>\n",
       "      <td>0.006163</td>\n",
       "      <td>0.012717</td>\n",
       "      <td>0.020931</td>\n",
       "    </tr>\n",
       "    <tr>\n",
       "      <th>Kaggle</th>\n",
       "      <td>0.004348</td>\n",
       "      <td>0.002257</td>\n",
       "      <td>0.001985</td>\n",
       "      <td>0.004116</td>\n",
       "      <td>0.004591</td>\n",
       "      <td>0.002862</td>\n",
       "      <td>0.002513</td>\n",
       "      <td>0.002690</td>\n",
       "      <td>0.002276</td>\n",
       "      <td>0.002326</td>\n",
       "      <td>0.003038</td>\n",
       "      <td>0.006999</td>\n",
       "    </tr>\n",
       "    <tr>\n",
       "      <th>Kaggle Tiers</th>\n",
       "      <td>0.005196</td>\n",
       "      <td>0.002860</td>\n",
       "      <td>0.002636</td>\n",
       "      <td>0.004628</td>\n",
       "      <td>0.004993</td>\n",
       "      <td>0.003117</td>\n",
       "      <td>0.002503</td>\n",
       "      <td>0.002338</td>\n",
       "      <td>0.001868</td>\n",
       "      <td>0.001682</td>\n",
       "      <td>0.002197</td>\n",
       "      <td>0.005981</td>\n",
       "    </tr>\n",
       "    <tr>\n",
       "      <th>Kerneler</th>\n",
       "      <td>0.000768</td>\n",
       "      <td>-0.007526</td>\n",
       "      <td>-0.011128</td>\n",
       "      <td>-0.009391</td>\n",
       "      <td>-0.005425</td>\n",
       "      <td>-0.000641</td>\n",
       "      <td>0.006010</td>\n",
       "      <td>0.012654</td>\n",
       "      <td>0.015714</td>\n",
       "      <td>0.015706</td>\n",
       "      <td>0.012817</td>\n",
       "      <td>0.010442</td>\n",
       "    </tr>\n",
       "    <tr>\n",
       "      <th>Kerneler Dark Mode</th>\n",
       "      <td>0.008686</td>\n",
       "      <td>0.013740</td>\n",
       "      <td>0.018478</td>\n",
       "      <td>0.020947</td>\n",
       "      <td>0.017340</td>\n",
       "      <td>0.007599</td>\n",
       "      <td>-0.001618</td>\n",
       "      <td>-0.009462</td>\n",
       "      <td>-0.014274</td>\n",
       "      <td>-0.014338</td>\n",
       "      <td>-0.009394</td>\n",
       "      <td>0.002296</td>\n",
       "    </tr>\n",
       "  </tbody>\n",
       "</table>\n",
       "</div>"
      ],
      "text/plain": [
       "month                     1         2         3         4         5   \\\n",
       "product                                                                \n",
       "Holographic Goose   0.017567  0.011718  0.006033  0.001139 -0.005222   \n",
       "Kaggle              0.004348  0.002257  0.001985  0.004116  0.004591   \n",
       "Kaggle Tiers        0.005196  0.002860  0.002636  0.004628  0.004993   \n",
       "Kerneler            0.000768 -0.007526 -0.011128 -0.009391 -0.005425   \n",
       "Kerneler Dark Mode  0.008686  0.013740  0.018478  0.020947  0.017340   \n",
       "\n",
       "month                     6         7         8         9         10  \\\n",
       "product                                                                \n",
       "Holographic Goose  -0.010864 -0.011344 -0.007713 -0.001124  0.006163   \n",
       "Kaggle              0.002862  0.002513  0.002690  0.002276  0.002326   \n",
       "Kaggle Tiers        0.003117  0.002503  0.002338  0.001868  0.001682   \n",
       "Kerneler           -0.000641  0.006010  0.012654  0.015714  0.015706   \n",
       "Kerneler Dark Mode  0.007599 -0.001618 -0.009462 -0.014274 -0.014338   \n",
       "\n",
       "month                     11        12  \n",
       "product                                 \n",
       "Holographic Goose   0.012717  0.020931  \n",
       "Kaggle              0.003038  0.006999  \n",
       "Kaggle Tiers        0.002197  0.005981  \n",
       "Kerneler            0.012817  0.010442  \n",
       "Kerneler Dark Mode -0.009394  0.002296  "
      ]
     },
     "execution_count": 128,
     "metadata": {},
     "output_type": "execute_result"
    }
   ],
   "source": [
    "# grouped bar chart for each country for each season \n",
    "grouped_df = train.groupby(['product', 'month'])['num_sold'].mean() / train.groupby(['product', 'month'])['num_sold'].mean().unstack().sum(axis=1)\n",
    "grouped_df = grouped_df.unstack()\n",
    "grouped_df = grouped_df - 0.08\n",
    "grouped_df"
   ]
  },
  {
   "cell_type": "code",
   "execution_count": 129,
   "metadata": {},
   "outputs": [
    {
     "data": {
      "text/plain": [
       "np.float64(0.008847689781955648)"
      ]
     },
     "execution_count": 129,
     "metadata": {},
     "output_type": "execute_result"
    }
   ],
   "source": [
    "grouped_df.std().mean()"
   ]
  },
  {
   "cell_type": "code",
   "execution_count": 130,
   "metadata": {},
   "outputs": [
    {
     "data": {
      "text/html": [
       "<style type=\"text/css\">\n",
       "#T_9404a_row0_col0, #T_9404a_row0_col1, #T_9404a_row0_col10, #T_9404a_row0_col11, #T_9404a_row3_col7, #T_9404a_row3_col8, #T_9404a_row3_col9, #T_9404a_row3_col10, #T_9404a_row3_col11, #T_9404a_row4_col1, #T_9404a_row4_col2, #T_9404a_row4_col3, #T_9404a_row4_col4 {\n",
       "  background-color: #084081;\n",
       "  color: #f1f1f1;\n",
       "}\n",
       "#T_9404a_row0_col2 {\n",
       "  background-color: #1c7cb6;\n",
       "  color: #f1f1f1;\n",
       "}\n",
       "#T_9404a_row0_col3 {\n",
       "  background-color: #67c1cb;\n",
       "  color: #000000;\n",
       "}\n",
       "#T_9404a_row0_col4 {\n",
       "  background-color: #ceecc7;\n",
       "  color: #000000;\n",
       "}\n",
       "#T_9404a_row0_col5, #T_9404a_row0_col6, #T_9404a_row3_col2, #T_9404a_row4_col8, #T_9404a_row4_col9 {\n",
       "  background-color: #f7fcf0;\n",
       "  color: #000000;\n",
       "}\n",
       "#T_9404a_row0_col7 {\n",
       "  background-color: #e2f4dd;\n",
       "  color: #000000;\n",
       "}\n",
       "#T_9404a_row0_col8 {\n",
       "  background-color: #8fd4bd;\n",
       "  color: #000000;\n",
       "}\n",
       "#T_9404a_row0_col9 {\n",
       "  background-color: #1b7bb6;\n",
       "  color: #f1f1f1;\n",
       "}\n",
       "#T_9404a_row1_col0 {\n",
       "  background-color: #3496c3;\n",
       "  color: #f1f1f1;\n",
       "}\n",
       "#T_9404a_row1_col1, #T_9404a_row2_col10 {\n",
       "  background-color: #53b6d1;\n",
       "  color: #f1f1f1;\n",
       "}\n",
       "#T_9404a_row1_col2 {\n",
       "  background-color: #57b8d0;\n",
       "  color: #000000;\n",
       "}\n",
       "#T_9404a_row1_col3 {\n",
       "  background-color: #379ac5;\n",
       "  color: #f1f1f1;\n",
       "}\n",
       "#T_9404a_row1_col4 {\n",
       "  background-color: #3192c1;\n",
       "  color: #f1f1f1;\n",
       "}\n",
       "#T_9404a_row1_col5, #T_9404a_row2_col1 {\n",
       "  background-color: #49add0;\n",
       "  color: #f1f1f1;\n",
       "}\n",
       "#T_9404a_row1_col6, #T_9404a_row2_col6 {\n",
       "  background-color: #4db2d3;\n",
       "  color: #f1f1f1;\n",
       "}\n",
       "#T_9404a_row1_col7 {\n",
       "  background-color: #4bb0d1;\n",
       "  color: #f1f1f1;\n",
       "}\n",
       "#T_9404a_row1_col8, #T_9404a_row1_col9, #T_9404a_row2_col7, #T_9404a_row4_col11 {\n",
       "  background-color: #51b5d2;\n",
       "  color: #f1f1f1;\n",
       "}\n",
       "#T_9404a_row1_col10 {\n",
       "  background-color: #47abcf;\n",
       "  color: #f1f1f1;\n",
       "}\n",
       "#T_9404a_row1_col11 {\n",
       "  background-color: #0f6faf;\n",
       "  color: #f1f1f1;\n",
       "}\n",
       "#T_9404a_row2_col0 {\n",
       "  background-color: #2889bc;\n",
       "  color: #f1f1f1;\n",
       "}\n",
       "#T_9404a_row2_col2 {\n",
       "  background-color: #4cb1d2;\n",
       "  color: #f1f1f1;\n",
       "}\n",
       "#T_9404a_row2_col3 {\n",
       "  background-color: #3091c1;\n",
       "  color: #f1f1f1;\n",
       "}\n",
       "#T_9404a_row2_col4 {\n",
       "  background-color: #2b8cbe;\n",
       "  color: #f1f1f1;\n",
       "}\n",
       "#T_9404a_row2_col5 {\n",
       "  background-color: #46aace;\n",
       "  color: #f1f1f1;\n",
       "}\n",
       "#T_9404a_row2_col8 {\n",
       "  background-color: #5abacf;\n",
       "  color: #000000;\n",
       "}\n",
       "#T_9404a_row2_col9 {\n",
       "  background-color: #5dbbce;\n",
       "  color: #000000;\n",
       "}\n",
       "#T_9404a_row2_col11, #T_9404a_row3_col6 {\n",
       "  background-color: #1d7eb7;\n",
       "  color: #f1f1f1;\n",
       "}\n",
       "#T_9404a_row3_col0 {\n",
       "  background-color: #6ec5c8;\n",
       "  color: #000000;\n",
       "}\n",
       "#T_9404a_row3_col1 {\n",
       "  background-color: #e1f3dc;\n",
       "  color: #000000;\n",
       "}\n",
       "#T_9404a_row3_col3, #T_9404a_row4_col10 {\n",
       "  background-color: #f2faeb;\n",
       "  color: #000000;\n",
       "}\n",
       "#T_9404a_row3_col4 {\n",
       "  background-color: #d0ecc9;\n",
       "  color: #000000;\n",
       "}\n",
       "#T_9404a_row3_col5 {\n",
       "  background-color: #87d1c0;\n",
       "  color: #000000;\n",
       "}\n",
       "#T_9404a_row4_col0 {\n",
       "  background-color: #085497;\n",
       "  color: #f1f1f1;\n",
       "}\n",
       "#T_9404a_row4_col5 {\n",
       "  background-color: #0866a9;\n",
       "  color: #f1f1f1;\n",
       "}\n",
       "#T_9404a_row4_col6 {\n",
       "  background-color: #98d7ba;\n",
       "  color: #000000;\n",
       "}\n",
       "#T_9404a_row4_col7 {\n",
       "  background-color: #f3faec;\n",
       "  color: #000000;\n",
       "}\n",
       "</style>\n",
       "<table id=\"T_9404a\">\n",
       "  <thead>\n",
       "    <tr>\n",
       "      <th class=\"index_name level0\" >month</th>\n",
       "      <th id=\"T_9404a_level0_col0\" class=\"col_heading level0 col0\" >1</th>\n",
       "      <th id=\"T_9404a_level0_col1\" class=\"col_heading level0 col1\" >2</th>\n",
       "      <th id=\"T_9404a_level0_col2\" class=\"col_heading level0 col2\" >3</th>\n",
       "      <th id=\"T_9404a_level0_col3\" class=\"col_heading level0 col3\" >4</th>\n",
       "      <th id=\"T_9404a_level0_col4\" class=\"col_heading level0 col4\" >5</th>\n",
       "      <th id=\"T_9404a_level0_col5\" class=\"col_heading level0 col5\" >6</th>\n",
       "      <th id=\"T_9404a_level0_col6\" class=\"col_heading level0 col6\" >7</th>\n",
       "      <th id=\"T_9404a_level0_col7\" class=\"col_heading level0 col7\" >8</th>\n",
       "      <th id=\"T_9404a_level0_col8\" class=\"col_heading level0 col8\" >9</th>\n",
       "      <th id=\"T_9404a_level0_col9\" class=\"col_heading level0 col9\" >10</th>\n",
       "      <th id=\"T_9404a_level0_col10\" class=\"col_heading level0 col10\" >11</th>\n",
       "      <th id=\"T_9404a_level0_col11\" class=\"col_heading level0 col11\" >12</th>\n",
       "    </tr>\n",
       "    <tr>\n",
       "      <th class=\"index_name level0\" >product</th>\n",
       "      <th class=\"blank col0\" >&nbsp;</th>\n",
       "      <th class=\"blank col1\" >&nbsp;</th>\n",
       "      <th class=\"blank col2\" >&nbsp;</th>\n",
       "      <th class=\"blank col3\" >&nbsp;</th>\n",
       "      <th class=\"blank col4\" >&nbsp;</th>\n",
       "      <th class=\"blank col5\" >&nbsp;</th>\n",
       "      <th class=\"blank col6\" >&nbsp;</th>\n",
       "      <th class=\"blank col7\" >&nbsp;</th>\n",
       "      <th class=\"blank col8\" >&nbsp;</th>\n",
       "      <th class=\"blank col9\" >&nbsp;</th>\n",
       "      <th class=\"blank col10\" >&nbsp;</th>\n",
       "      <th class=\"blank col11\" >&nbsp;</th>\n",
       "    </tr>\n",
       "  </thead>\n",
       "  <tbody>\n",
       "    <tr>\n",
       "      <th id=\"T_9404a_level0_row0\" class=\"row_heading level0 row0\" >Holographic Goose</th>\n",
       "      <td id=\"T_9404a_row0_col0\" class=\"data row0 col0\" >0.017567</td>\n",
       "      <td id=\"T_9404a_row0_col1\" class=\"data row0 col1\" >0.011718</td>\n",
       "      <td id=\"T_9404a_row0_col2\" class=\"data row0 col2\" >0.006033</td>\n",
       "      <td id=\"T_9404a_row0_col3\" class=\"data row0 col3\" >0.001139</td>\n",
       "      <td id=\"T_9404a_row0_col4\" class=\"data row0 col4\" >-0.005222</td>\n",
       "      <td id=\"T_9404a_row0_col5\" class=\"data row0 col5\" >-0.010864</td>\n",
       "      <td id=\"T_9404a_row0_col6\" class=\"data row0 col6\" >-0.011344</td>\n",
       "      <td id=\"T_9404a_row0_col7\" class=\"data row0 col7\" >-0.007713</td>\n",
       "      <td id=\"T_9404a_row0_col8\" class=\"data row0 col8\" >-0.001124</td>\n",
       "      <td id=\"T_9404a_row0_col9\" class=\"data row0 col9\" >0.006163</td>\n",
       "      <td id=\"T_9404a_row0_col10\" class=\"data row0 col10\" >0.012717</td>\n",
       "      <td id=\"T_9404a_row0_col11\" class=\"data row0 col11\" >0.020931</td>\n",
       "    </tr>\n",
       "    <tr>\n",
       "      <th id=\"T_9404a_level0_row1\" class=\"row_heading level0 row1\" >Kaggle</th>\n",
       "      <td id=\"T_9404a_row1_col0\" class=\"data row1 col0\" >0.004348</td>\n",
       "      <td id=\"T_9404a_row1_col1\" class=\"data row1 col1\" >0.002257</td>\n",
       "      <td id=\"T_9404a_row1_col2\" class=\"data row1 col2\" >0.001985</td>\n",
       "      <td id=\"T_9404a_row1_col3\" class=\"data row1 col3\" >0.004116</td>\n",
       "      <td id=\"T_9404a_row1_col4\" class=\"data row1 col4\" >0.004591</td>\n",
       "      <td id=\"T_9404a_row1_col5\" class=\"data row1 col5\" >0.002862</td>\n",
       "      <td id=\"T_9404a_row1_col6\" class=\"data row1 col6\" >0.002513</td>\n",
       "      <td id=\"T_9404a_row1_col7\" class=\"data row1 col7\" >0.002690</td>\n",
       "      <td id=\"T_9404a_row1_col8\" class=\"data row1 col8\" >0.002276</td>\n",
       "      <td id=\"T_9404a_row1_col9\" class=\"data row1 col9\" >0.002326</td>\n",
       "      <td id=\"T_9404a_row1_col10\" class=\"data row1 col10\" >0.003038</td>\n",
       "      <td id=\"T_9404a_row1_col11\" class=\"data row1 col11\" >0.006999</td>\n",
       "    </tr>\n",
       "    <tr>\n",
       "      <th id=\"T_9404a_level0_row2\" class=\"row_heading level0 row2\" >Kaggle Tiers</th>\n",
       "      <td id=\"T_9404a_row2_col0\" class=\"data row2 col0\" >0.005196</td>\n",
       "      <td id=\"T_9404a_row2_col1\" class=\"data row2 col1\" >0.002860</td>\n",
       "      <td id=\"T_9404a_row2_col2\" class=\"data row2 col2\" >0.002636</td>\n",
       "      <td id=\"T_9404a_row2_col3\" class=\"data row2 col3\" >0.004628</td>\n",
       "      <td id=\"T_9404a_row2_col4\" class=\"data row2 col4\" >0.004993</td>\n",
       "      <td id=\"T_9404a_row2_col5\" class=\"data row2 col5\" >0.003117</td>\n",
       "      <td id=\"T_9404a_row2_col6\" class=\"data row2 col6\" >0.002503</td>\n",
       "      <td id=\"T_9404a_row2_col7\" class=\"data row2 col7\" >0.002338</td>\n",
       "      <td id=\"T_9404a_row2_col8\" class=\"data row2 col8\" >0.001868</td>\n",
       "      <td id=\"T_9404a_row2_col9\" class=\"data row2 col9\" >0.001682</td>\n",
       "      <td id=\"T_9404a_row2_col10\" class=\"data row2 col10\" >0.002197</td>\n",
       "      <td id=\"T_9404a_row2_col11\" class=\"data row2 col11\" >0.005981</td>\n",
       "    </tr>\n",
       "    <tr>\n",
       "      <th id=\"T_9404a_level0_row3\" class=\"row_heading level0 row3\" >Kerneler</th>\n",
       "      <td id=\"T_9404a_row3_col0\" class=\"data row3 col0\" >0.000768</td>\n",
       "      <td id=\"T_9404a_row3_col1\" class=\"data row3 col1\" >-0.007526</td>\n",
       "      <td id=\"T_9404a_row3_col2\" class=\"data row3 col2\" >-0.011128</td>\n",
       "      <td id=\"T_9404a_row3_col3\" class=\"data row3 col3\" >-0.009391</td>\n",
       "      <td id=\"T_9404a_row3_col4\" class=\"data row3 col4\" >-0.005425</td>\n",
       "      <td id=\"T_9404a_row3_col5\" class=\"data row3 col5\" >-0.000641</td>\n",
       "      <td id=\"T_9404a_row3_col6\" class=\"data row3 col6\" >0.006010</td>\n",
       "      <td id=\"T_9404a_row3_col7\" class=\"data row3 col7\" >0.012654</td>\n",
       "      <td id=\"T_9404a_row3_col8\" class=\"data row3 col8\" >0.015714</td>\n",
       "      <td id=\"T_9404a_row3_col9\" class=\"data row3 col9\" >0.015706</td>\n",
       "      <td id=\"T_9404a_row3_col10\" class=\"data row3 col10\" >0.012817</td>\n",
       "      <td id=\"T_9404a_row3_col11\" class=\"data row3 col11\" >0.010442</td>\n",
       "    </tr>\n",
       "    <tr>\n",
       "      <th id=\"T_9404a_level0_row4\" class=\"row_heading level0 row4\" >Kerneler Dark Mode</th>\n",
       "      <td id=\"T_9404a_row4_col0\" class=\"data row4 col0\" >0.008686</td>\n",
       "      <td id=\"T_9404a_row4_col1\" class=\"data row4 col1\" >0.013740</td>\n",
       "      <td id=\"T_9404a_row4_col2\" class=\"data row4 col2\" >0.018478</td>\n",
       "      <td id=\"T_9404a_row4_col3\" class=\"data row4 col3\" >0.020947</td>\n",
       "      <td id=\"T_9404a_row4_col4\" class=\"data row4 col4\" >0.017340</td>\n",
       "      <td id=\"T_9404a_row4_col5\" class=\"data row4 col5\" >0.007599</td>\n",
       "      <td id=\"T_9404a_row4_col6\" class=\"data row4 col6\" >-0.001618</td>\n",
       "      <td id=\"T_9404a_row4_col7\" class=\"data row4 col7\" >-0.009462</td>\n",
       "      <td id=\"T_9404a_row4_col8\" class=\"data row4 col8\" >-0.014274</td>\n",
       "      <td id=\"T_9404a_row4_col9\" class=\"data row4 col9\" >-0.014338</td>\n",
       "      <td id=\"T_9404a_row4_col10\" class=\"data row4 col10\" >-0.009394</td>\n",
       "      <td id=\"T_9404a_row4_col11\" class=\"data row4 col11\" >0.002296</td>\n",
       "    </tr>\n",
       "  </tbody>\n",
       "</table>\n"
      ],
      "text/plain": [
       "<pandas.io.formats.style.Styler at 0x287454380>"
      ]
     },
     "execution_count": 130,
     "metadata": {},
     "output_type": "execute_result"
    }
   ],
   "source": [
    "def highlight_values_upper_lower(val, upper_threshold=0.008, lower_threshold=-0.008):\n",
    "    if val > upper_threshold:\n",
    "        return 'background-color: yellow'  # Highlight values above upper_threshold\n",
    "    elif val < lower_threshold:\n",
    "        return 'background-color: lightblue'  # Highlight values below lower_threshold\n",
    "    return ''\n",
    "\n",
    "grouped_df.style.background_gradient(axis=None, vmin=-.01, vmax=0.01, cmap=\"GnBu\")"
   ]
  },
  {
   "cell_type": "markdown",
   "metadata": {},
   "source": [
    "### There is indications of seasonality for the Holographic Goose, Kerneler, and Kerneler Dark Mode stickers"
   ]
  },
  {
   "cell_type": "code",
   "execution_count": 131,
   "metadata": {},
   "outputs": [
    {
     "data": {
      "text/html": [
       "<style type=\"text/css\">\n",
       "#T_2bea3_row0_col0 {\n",
       "  background-color: #8ed3be;\n",
       "  color: #000000;\n",
       "}\n",
       "#T_2bea3_row0_col1 {\n",
       "  background-color: #6ec5c8;\n",
       "  color: #000000;\n",
       "}\n",
       "#T_2bea3_row0_col2 {\n",
       "  background-color: #88d1c0;\n",
       "  color: #000000;\n",
       "}\n",
       "#T_2bea3_row0_col3 {\n",
       "  background-color: #67c1cb;\n",
       "  color: #000000;\n",
       "}\n",
       "#T_2bea3_row1_col0, #T_2bea3_row2_col0 {\n",
       "  background-color: #8dd3be;\n",
       "  color: #000000;\n",
       "}\n",
       "#T_2bea3_row1_col1, #T_2bea3_row2_col1 {\n",
       "  background-color: #6fc5c8;\n",
       "  color: #000000;\n",
       "}\n",
       "#T_2bea3_row1_col2 {\n",
       "  background-color: #8ad2bf;\n",
       "  color: #000000;\n",
       "}\n",
       "#T_2bea3_row1_col3, #T_2bea3_row2_col3 {\n",
       "  background-color: #65c0cb;\n",
       "  color: #000000;\n",
       "}\n",
       "#T_2bea3_row2_col2 {\n",
       "  background-color: #8bd2bf;\n",
       "  color: #000000;\n",
       "}\n",
       "</style>\n",
       "<table id=\"T_2bea3\">\n",
       "  <thead>\n",
       "    <tr>\n",
       "      <th class=\"index_name level0\" >season</th>\n",
       "      <th id=\"T_2bea3_level0_col0\" class=\"col_heading level0 col0\" >Autumn</th>\n",
       "      <th id=\"T_2bea3_level0_col1\" class=\"col_heading level0 col1\" >Spring</th>\n",
       "      <th id=\"T_2bea3_level0_col2\" class=\"col_heading level0 col2\" >Summer</th>\n",
       "      <th id=\"T_2bea3_level0_col3\" class=\"col_heading level0 col3\" >Winter</th>\n",
       "    </tr>\n",
       "    <tr>\n",
       "      <th class=\"index_name level0\" >store</th>\n",
       "      <th class=\"blank col0\" >&nbsp;</th>\n",
       "      <th class=\"blank col1\" >&nbsp;</th>\n",
       "      <th class=\"blank col2\" >&nbsp;</th>\n",
       "      <th class=\"blank col3\" >&nbsp;</th>\n",
       "    </tr>\n",
       "  </thead>\n",
       "  <tbody>\n",
       "    <tr>\n",
       "      <th id=\"T_2bea3_level0_row0\" class=\"row_heading level0 row0\" >Discount Stickers</th>\n",
       "      <td id=\"T_2bea3_row0_col0\" class=\"data row0 col0\" >0.244736</td>\n",
       "      <td id=\"T_2bea3_row0_col1\" class=\"data row0 col1\" >0.253657</td>\n",
       "      <td id=\"T_2bea3_row0_col2\" class=\"data row0 col2\" >0.246095</td>\n",
       "      <td id=\"T_2bea3_row0_col3\" class=\"data row0 col3\" >0.255511</td>\n",
       "    </tr>\n",
       "    <tr>\n",
       "      <th id=\"T_2bea3_level0_row1\" class=\"row_heading level0 row1\" >Premium Sticker Mart</th>\n",
       "      <td id=\"T_2bea3_row1_col0\" class=\"data row1 col0\" >0.244928</td>\n",
       "      <td id=\"T_2bea3_row1_col1\" class=\"data row1 col1\" >0.253320</td>\n",
       "      <td id=\"T_2bea3_row1_col2\" class=\"data row1 col2\" >0.245729</td>\n",
       "      <td id=\"T_2bea3_row1_col3\" class=\"data row1 col3\" >0.256024</td>\n",
       "    </tr>\n",
       "    <tr>\n",
       "      <th id=\"T_2bea3_level0_row2\" class=\"row_heading level0 row2\" >Stickers for Less</th>\n",
       "      <td id=\"T_2bea3_row2_col0\" class=\"data row2 col0\" >0.244996</td>\n",
       "      <td id=\"T_2bea3_row2_col1\" class=\"data row2 col1\" >0.253278</td>\n",
       "      <td id=\"T_2bea3_row2_col2\" class=\"data row2 col2\" >0.245622</td>\n",
       "      <td id=\"T_2bea3_row2_col3\" class=\"data row2 col3\" >0.256104</td>\n",
       "    </tr>\n",
       "  </tbody>\n",
       "</table>\n"
      ],
      "text/plain": [
       "<pandas.io.formats.style.Styler at 0x28747e630>"
      ]
     },
     "execution_count": 131,
     "metadata": {},
     "output_type": "execute_result"
    }
   ],
   "source": [
    "# grouped bar chart for each country for each season \n",
    "grouped_df = train.groupby(['store', 'season'])['num_sold'].mean() / train.groupby(['store', 'season'])['num_sold'].mean().unstack().sum(axis=1)\n",
    "grouped_df.unstack().style.background_gradient(axis=None, vmin=.2, vmax=0.3, cmap=\"GnBu\")"
   ]
  },
  {
   "cell_type": "markdown",
   "metadata": {},
   "source": [
    "### Good distribution at the store level "
   ]
  },
  {
   "cell_type": "markdown",
   "metadata": {},
   "source": [
    "# Stationarity "
   ]
  },
  {
   "cell_type": "code",
   "execution_count": 77,
   "metadata": {},
   "outputs": [
    {
     "data": {
      "image/png": "[encoded data removed]",
      "text/plain": [
       "<Figure size 640x480 with 1 Axes>"
      ]
     },
     "metadata": {},
     "output_type": "display_data"
    },
    {
     "name": "stdout",
     "output_type": "stream",
     "text": [
      "Results of Dickey-Fuller Test:\n",
      "Test Statistic                    -32.341769\n",
      "p-value                             0.000000\n",
      "#Lags Used                         84.000000\n",
      "Number of Observations Used    230045.000000\n",
      "Critical Value (1%)                -3.430378\n",
      "Critical Value (5%)                -2.861553\n",
      "Critical Value (10%)               -2.566777\n",
      "dtype: float64\n"
     ]
    },
    {
     "data": {
      "text/plain": [
       "(np.float64(-32.34176903360489),\n",
       " 0.0,\n",
       " 84,\n",
       " 230045,\n",
       " {'1%': np.float64(-3.430378426494685),\n",
       "  '5%': np.float64(-2.8615525641435626),\n",
       "  '10%': np.float64(-2.56677668744033)},\n",
       " np.float64(3200717.280282874))"
      ]
     },
     "execution_count": 77,
     "metadata": {},
     "output_type": "execute_result"
    }
   ],
   "source": [
    "# test for stationarity using ADF test\n",
    "\n",
    "from statsmodels.tsa.stattools import adfuller\n",
    "\n",
    "def test_stationarity(timeseries):\n",
    "    #Determing rolling statistics\n",
    "    rolmean = timeseries.rolling(window=7).mean()\n",
    "    rolstd = timeseries.rolling(window=7).std()\n",
    "\n",
    "    #Plot rolling statistics:\n",
    "    orig = plt.plot(timeseries, color='blue',label='Original')\n",
    "    mean = plt.plot(rolmean, color='red', label='Rolling Mean')\n",
    "    std = plt.plot(rolstd, color='black', label = 'Rolling Std')\n",
    "    plt.legend(loc='best')\n",
    "    plt.title('Rolling Mean & Standard Deviation')\n",
    "    plt.show(block=False)\n",
    "    \n",
    "    #Perform Dickey-Fuller test:\n",
    "    print('Results of Dickey-Fuller Test:')\n",
    "    dftest = adfuller(timeseries, autolag='AIC')\n",
    "    dfoutput = pd.Series(dftest[0:4], index=['Test Statistic', 'p-value', '#Lags Used', 'Number of Observations Used'])\n",
    "    for key, value in dftest[4].items():\n",
    "        dfoutput['Critical Value (%s)'%key] = value\n",
    "    print(dfoutput)\n",
    "    return dftest\n",
    "\n",
    "test_stationarity(train['num_sold'])"
   ]
  },
  {
   "cell_type": "markdown",
   "metadata": {},
   "source": []
  },
  {
   "cell_type": "code",
   "execution_count": 82,
   "metadata": {},
   "outputs": [
    {
     "name": "stdout",
     "output_type": "stream",
     "text": [
      "Holographic Goose\n",
      "(46026, 9)\n"
     ]
    },
    {
     "data": {
      "image/png": "[encoded data removed]",
      "text/plain": [
       "<Figure size 640x480 with 1 Axes>"
      ]
     },
     "metadata": {},
     "output_type": "display_data"
    },
    {
     "name": "stdout",
     "output_type": "stream",
     "text": [
      "Results of Dickey-Fuller Test:\n",
      "Test Statistic                -1.284548e+01\n",
      "p-value                        5.492072e-24\n",
      "#Lags Used                     5.400000e+01\n",
      "Number of Observations Used    4.597100e+04\n",
      "Critical Value (1%)           -3.430492e+00\n",
      "Critical Value (5%)           -2.861603e+00\n",
      "Critical Value (10%)          -2.566803e+00\n",
      "dtype: float64\n",
      "Kaggle\n",
      "(46026, 9)\n"
     ]
    },
    {
     "data": {
      "image/png": "[encoded data removed]",
      "text/plain": [
       "<Figure size 640x480 with 1 Axes>"
      ]
     },
     "metadata": {},
     "output_type": "display_data"
    },
    {
     "name": "stdout",
     "output_type": "stream",
     "text": [
      "Results of Dickey-Fuller Test:\n",
      "Test Statistic                -1.637281e+01\n",
      "p-value                        2.799647e-29\n",
      "#Lags Used                     5.600000e+01\n",
      "Number of Observations Used    4.596900e+04\n",
      "Critical Value (1%)           -3.430492e+00\n",
      "Critical Value (5%)           -2.861603e+00\n",
      "Critical Value (10%)          -2.566803e+00\n",
      "dtype: float64\n",
      "Kaggle Tiers\n",
      "(46026, 9)\n"
     ]
    },
    {
     "data": {
      "image/png": "[encoded data removed]",
      "text/plain": [
       "<Figure size 640x480 with 1 Axes>"
      ]
     },
     "metadata": {},
     "output_type": "display_data"
    },
    {
     "name": "stdout",
     "output_type": "stream",
     "text": [
      "Results of Dickey-Fuller Test:\n",
      "Test Statistic                -1.627491e+01\n",
      "p-value                        3.458250e-29\n",
      "#Lags Used                     5.600000e+01\n",
      "Number of Observations Used    4.596900e+04\n",
      "Critical Value (1%)           -3.430492e+00\n",
      "Critical Value (5%)           -2.861603e+00\n",
      "Critical Value (10%)          -2.566803e+00\n",
      "dtype: float64\n",
      "Kerneler\n",
      "(46026, 9)\n"
     ]
    },
    {
     "data": {
      "image/png": "[encoded data removed]",
      "text/plain": [
       "<Figure size 640x480 with 1 Axes>"
      ]
     },
     "metadata": {},
     "output_type": "display_data"
    },
    {
     "name": "stdout",
     "output_type": "stream",
     "text": [
      "Results of Dickey-Fuller Test:\n",
      "Test Statistic                -1.134085e+01\n",
      "p-value                        1.055522e-20\n",
      "#Lags Used                     5.600000e+01\n",
      "Number of Observations Used    4.596900e+04\n",
      "Critical Value (1%)           -3.430492e+00\n",
      "Critical Value (5%)           -2.861603e+00\n",
      "Critical Value (10%)          -2.566803e+00\n",
      "dtype: float64\n",
      "Kerneler Dark Mode\n",
      "(46026, 9)\n"
     ]
    },
    {
     "data": {
      "image/png": "[encoded data removed]",
      "text/plain": [
       "<Figure size 640x480 with 1 Axes>"
      ]
     },
     "metadata": {},
     "output_type": "display_data"
    },
    {
     "name": "stdout",
     "output_type": "stream",
     "text": [
      "Results of Dickey-Fuller Test:\n",
      "Test Statistic                -9.564357e+00\n",
      "p-value                        2.379010e-16\n",
      "#Lags Used                     5.600000e+01\n",
      "Number of Observations Used    4.596900e+04\n",
      "Critical Value (1%)           -3.430492e+00\n",
      "Critical Value (5%)           -2.861603e+00\n",
      "Critical Value (10%)          -2.566803e+00\n",
      "dtype: float64\n"
     ]
    }
   ],
   "source": [
    "for product in train['product'].unique():\n",
    "    print(product)\n",
    "    train_series = train.loc[train['product'] == product]\n",
    "    print(train_series.shape)\n",
    "    test_stationarity(train_series['num_sold'])"
   ]
  },
  {
   "cell_type": "markdown",
   "metadata": {},
   "source": [
    "### ADF Tests Have passed indicating no strong stationarity\n",
    "\n",
    "- In summary, we will add the month, year and season columns for potential dummy variables to account for minor seasonality. \n",
    "- We will also address the strong outliers with Kenya and Canada selling less stickers"
   ]
  },
  {
   "attachments": {
    "image.png": {
     "image/png": "[encoded data removed]"
    }
   },
   "cell_type": "markdown",
   "metadata": {},
   "source": [
    "![image.png](attachment:image.png)"
   ]
  },
  {
   "cell_type": "code",
   "execution_count": null,
   "metadata": {},
   "outputs": [
    {
     "data": {
      "text/html": [
       "<style type=\"text/css\">\n",
       "#T_a1ac1_row0_col2, #T_a1ac1_row3_col2 {\n",
       "  background-color: #084081;\n",
       "  color: #f1f1f1;\n",
       "}\n",
       "#T_a1ac1_row1_col2 {\n",
       "  background-color: #f7fcf0;\n",
       "  color: #000000;\n",
       "}\n",
       "#T_a1ac1_row2_col2 {\n",
       "  background-color: #95d6bb;\n",
       "  color: #000000;\n",
       "}\n",
       "#T_a1ac1_row4_col2 {\n",
       "  background-color: #e1f3dc;\n",
       "  color: #000000;\n",
       "}\n",
       "#T_a1ac1_row5_col2 {\n",
       "  background-color: #8dd3be;\n",
       "  color: #000000;\n",
       "}\n",
       "</style>\n",
       "<table id=\"T_a1ac1\">\n",
       "  <thead>\n",
       "    <tr>\n",
       "      <th class=\"index_name level0\" >product</th>\n",
       "      <th id=\"T_a1ac1_level0_col0\" class=\"col_heading level0 col0\" >country</th>\n",
       "      <th id=\"T_a1ac1_level0_col1\" class=\"col_heading level0 col1\" >store</th>\n",
       "      <th id=\"T_a1ac1_level0_col2\" class=\"col_heading level0 col2\" >Holographic Goose</th>\n",
       "    </tr>\n",
       "  </thead>\n",
       "  <tbody>\n",
       "    <tr>\n",
       "      <th id=\"T_a1ac1_level0_row0\" class=\"row_heading level0 row0\" >0</th>\n",
       "      <td id=\"T_a1ac1_row0_col0\" class=\"data row0 col0\" >Canada</td>\n",
       "      <td id=\"T_a1ac1_row0_col1\" class=\"data row0 col1\" >Discount Stickers</td>\n",
       "      <td id=\"T_a1ac1_row0_col2\" class=\"data row0 col2\" >2557</td>\n",
       "    </tr>\n",
       "    <tr>\n",
       "      <th id=\"T_a1ac1_level0_row1\" class=\"row_heading level0 row1\" >1</th>\n",
       "      <td id=\"T_a1ac1_row1_col0\" class=\"data row1 col0\" >Canada</td>\n",
       "      <td id=\"T_a1ac1_row1_col1\" class=\"data row1 col1\" >Premium Sticker Mart</td>\n",
       "      <td id=\"T_a1ac1_row1_col2\" class=\"data row1 col2\" >380</td>\n",
       "    </tr>\n",
       "    <tr>\n",
       "      <th id=\"T_a1ac1_level0_row2\" class=\"row_heading level0 row2\" >2</th>\n",
       "      <td id=\"T_a1ac1_row2_col0\" class=\"data row2 col0\" >Canada</td>\n",
       "      <td id=\"T_a1ac1_row2_col1\" class=\"data row2 col1\" >Stickers for Less</td>\n",
       "      <td id=\"T_a1ac1_row2_col2\" class=\"data row2 col2\" >1308</td>\n",
       "    </tr>\n",
       "    <tr>\n",
       "      <th id=\"T_a1ac1_level0_row3\" class=\"row_heading level0 row3\" >3</th>\n",
       "      <td id=\"T_a1ac1_row3_col0\" class=\"data row3 col0\" >Kenya</td>\n",
       "      <td id=\"T_a1ac1_row3_col1\" class=\"data row3 col1\" >Discount Stickers</td>\n",
       "      <td id=\"T_a1ac1_row3_col2\" class=\"data row3 col2\" >2557</td>\n",
       "    </tr>\n",
       "    <tr>\n",
       "      <th id=\"T_a1ac1_level0_row4\" class=\"row_heading level0 row4\" >4</th>\n",
       "      <td id=\"T_a1ac1_row4_col0\" class=\"data row4 col0\" >Kenya</td>\n",
       "      <td id=\"T_a1ac1_row4_col1\" class=\"data row4 col1\" >Premium Sticker Mart</td>\n",
       "      <td id=\"T_a1ac1_row4_col2\" class=\"data row4 col2\" >646</td>\n",
       "    </tr>\n",
       "    <tr>\n",
       "      <th id=\"T_a1ac1_level0_row5\" class=\"row_heading level0 row5\" >5</th>\n",
       "      <td id=\"T_a1ac1_row5_col0\" class=\"data row5 col0\" >Kenya</td>\n",
       "      <td id=\"T_a1ac1_row5_col1\" class=\"data row5 col1\" >Stickers for Less</td>\n",
       "      <td id=\"T_a1ac1_row5_col2\" class=\"data row5 col2\" >1358</td>\n",
       "    </tr>\n",
       "  </tbody>\n",
       "</table>\n"
      ],
      "text/plain": [
       "<pandas.io.formats.style.Styler at 0x28748ae70>"
      ]
     },
     "execution_count": 146,
     "metadata": {},
     "output_type": "execute_result"
    }
   ],
   "source": [
    "train.loc[(train['num_sold'] == 0)].groupby(['country', 'store', 'product'])['num_sold'].count().astype(int).unstack().reset_index().fillna(0).style.background_gradient(axis=None, cmap=\"GnBu\")"
   ]
  },
  {
   "cell_type": "code",
   "execution_count": 155,
   "metadata": {},
   "outputs": [
    {
     "data": {
      "text/html": [
       "<style type=\"text/css\">\n",
       "#T_8aa82_row0_col4, #T_8aa82_row1_col7, #T_8aa82_row2_col7, #T_8aa82_row24_col7, #T_8aa82_row25_col7, #T_8aa82_row27_col7, #T_8aa82_row31_col5 {\n",
       "  background-color: #f6fbef;\n",
       "  color: #000000;\n",
       "}\n",
       "#T_8aa82_row0_col5, #T_8aa82_row1_col4, #T_8aa82_row23_col7 {\n",
       "  background-color: #eff9e9;\n",
       "  color: #000000;\n",
       "}\n",
       "#T_8aa82_row0_col6 {\n",
       "  background-color: #ccebc5;\n",
       "  color: #000000;\n",
       "}\n",
       "#T_8aa82_row0_col7, #T_8aa82_row7_col4, #T_8aa82_row7_col5, #T_8aa82_row7_col7, #T_8aa82_row8_col4, #T_8aa82_row8_col5, #T_8aa82_row8_col7, #T_8aa82_row9_col7, #T_8aa82_row28_col7, #T_8aa82_row29_col4, #T_8aa82_row29_col7, #T_8aa82_row30_col4, #T_8aa82_row30_col7, #T_8aa82_row31_col4, #T_8aa82_row31_col7, #T_8aa82_row32_col4, #T_8aa82_row32_col5, #T_8aa82_row32_col7, #T_8aa82_row33_col7 {\n",
       "  background-color: #f7fcf0;\n",
       "  color: #000000;\n",
       "}\n",
       "#T_8aa82_row1_col5 {\n",
       "  background-color: #ceecc7;\n",
       "  color: #000000;\n",
       "}\n",
       "#T_8aa82_row1_col6 {\n",
       "  background-color: #68c1ca;\n",
       "  color: #000000;\n",
       "}\n",
       "#T_8aa82_row2_col4, #T_8aa82_row23_col4, #T_8aa82_row27_col4 {\n",
       "  background-color: #daf1d5;\n",
       "  color: #000000;\n",
       "}\n",
       "#T_8aa82_row2_col5 {\n",
       "  background-color: #addfb7;\n",
       "  color: #000000;\n",
       "}\n",
       "#T_8aa82_row2_col6, #T_8aa82_row28_col6 {\n",
       "  background-color: #3a9cc7;\n",
       "  color: #f1f1f1;\n",
       "}\n",
       "#T_8aa82_row3_col4 {\n",
       "  background-color: #8ed3be;\n",
       "  color: #000000;\n",
       "}\n",
       "#T_8aa82_row3_col5, #T_8aa82_row11_col5, #T_8aa82_row24_col6 {\n",
       "  background-color: #3496c3;\n",
       "  color: #f1f1f1;\n",
       "}\n",
       "#T_8aa82_row3_col6 {\n",
       "  background-color: #0969ad;\n",
       "  color: #f1f1f1;\n",
       "}\n",
       "#T_8aa82_row3_col7, #T_8aa82_row25_col4 {\n",
       "  background-color: #ddf2d8;\n",
       "  color: #000000;\n",
       "}\n",
       "#T_8aa82_row4_col4 {\n",
       "  background-color: #2d8fbf;\n",
       "  color: #f1f1f1;\n",
       "}\n",
       "#T_8aa82_row4_col5, #T_8aa82_row26_col5, #T_8aa82_row27_col6 {\n",
       "  background-color: #1c7cb6;\n",
       "  color: #f1f1f1;\n",
       "}\n",
       "#T_8aa82_row4_col6, #T_8aa82_row21_col6 {\n",
       "  background-color: #084a8c;\n",
       "  color: #f1f1f1;\n",
       "}\n",
       "#T_8aa82_row4_col7 {\n",
       "  background-color: #aadeb6;\n",
       "  color: #000000;\n",
       "}\n",
       "#T_8aa82_row5_col4, #T_8aa82_row26_col6 {\n",
       "  background-color: #085093;\n",
       "  color: #f1f1f1;\n",
       "}\n",
       "#T_8aa82_row5_col5, #T_8aa82_row11_col6 {\n",
       "  background-color: #08589b;\n",
       "  color: #f1f1f1;\n",
       "}\n",
       "#T_8aa82_row5_col6, #T_8aa82_row6_col5, #T_8aa82_row6_col6, #T_8aa82_row13_col5, #T_8aa82_row13_col6, #T_8aa82_row14_col5, #T_8aa82_row14_col6, #T_8aa82_row15_col5, #T_8aa82_row15_col6, #T_8aa82_row16_col5, #T_8aa82_row16_col6, #T_8aa82_row17_col5, #T_8aa82_row17_col6, #T_8aa82_row18_col5, #T_8aa82_row18_col6, #T_8aa82_row19_col5, #T_8aa82_row19_col6, #T_8aa82_row34_col5, #T_8aa82_row34_col6, #T_8aa82_row35_col5, #T_8aa82_row35_col6, #T_8aa82_row36_col5, #T_8aa82_row36_col6, #T_8aa82_row37_col5, #T_8aa82_row37_col6, #T_8aa82_row38_col5, #T_8aa82_row38_col6, #T_8aa82_row39_col5, #T_8aa82_row39_col6, #T_8aa82_row40_col5, #T_8aa82_row40_col6 {\n",
       "  background-color: #084081;\n",
       "  color: #f1f1f1;\n",
       "}\n",
       "#T_8aa82_row5_col7, #T_8aa82_row21_col4 {\n",
       "  background-color: #3192c1;\n",
       "  color: #f1f1f1;\n",
       "}\n",
       "#T_8aa82_row6_col4 {\n",
       "  background-color: #085497;\n",
       "  color: #f1f1f1;\n",
       "}\n",
       "#T_8aa82_row6_col7 {\n",
       "  background-color: #1e7fb7;\n",
       "  color: #f1f1f1;\n",
       "}\n",
       "#T_8aa82_row7_col6, #T_8aa82_row9_col4, #T_8aa82_row10_col7, #T_8aa82_row29_col5, #T_8aa82_row30_col5 {\n",
       "  background-color: #f3fbed;\n",
       "  color: #000000;\n",
       "}\n",
       "#T_8aa82_row8_col6, #T_8aa82_row10_col4 {\n",
       "  background-color: #e4f4de;\n",
       "  color: #000000;\n",
       "}\n",
       "#T_8aa82_row9_col5, #T_8aa82_row31_col6 {\n",
       "  background-color: #e1f4dc;\n",
       "  color: #000000;\n",
       "}\n",
       "#T_8aa82_row9_col6 {\n",
       "  background-color: #a6dcb6;\n",
       "  color: #000000;\n",
       "}\n",
       "#T_8aa82_row10_col5 {\n",
       "  background-color: #c9eac4;\n",
       "  color: #000000;\n",
       "}\n",
       "#T_8aa82_row10_col6 {\n",
       "  background-color: #54b6d1;\n",
       "  color: #f1f1f1;\n",
       "}\n",
       "#T_8aa82_row11_col4 {\n",
       "  background-color: #6bc3c9;\n",
       "  color: #000000;\n",
       "}\n",
       "#T_8aa82_row11_col7 {\n",
       "  background-color: #d8f0d3;\n",
       "  color: #000000;\n",
       "}\n",
       "#T_8aa82_row12_col4 {\n",
       "  background-color: #43a7cd;\n",
       "  color: #f1f1f1;\n",
       "}\n",
       "#T_8aa82_row12_col5 {\n",
       "  background-color: #0866a9;\n",
       "  color: #f1f1f1;\n",
       "}\n",
       "#T_8aa82_row12_col6, #T_8aa82_row13_col4, #T_8aa82_row13_col7, #T_8aa82_row14_col4, #T_8aa82_row15_col4, #T_8aa82_row16_col4, #T_8aa82_row17_col4, #T_8aa82_row17_col7, #T_8aa82_row18_col4, #T_8aa82_row19_col4, #T_8aa82_row34_col4, #T_8aa82_row34_col7, #T_8aa82_row35_col4, #T_8aa82_row36_col4, #T_8aa82_row37_col4, #T_8aa82_row38_col4, #T_8aa82_row38_col7, #T_8aa82_row39_col4, #T_8aa82_row40_col4 {\n",
       "  background-color: #084384;\n",
       "  color: #f1f1f1;\n",
       "}\n",
       "#T_8aa82_row12_col7 {\n",
       "  background-color: #83cfc1;\n",
       "  color: #000000;\n",
       "}\n",
       "#T_8aa82_row14_col7, #T_8aa82_row15_col7, #T_8aa82_row16_col7, #T_8aa82_row18_col7, #T_8aa82_row19_col7, #T_8aa82_row20_col6, #T_8aa82_row35_col7, #T_8aa82_row36_col7, #T_8aa82_row37_col7, #T_8aa82_row39_col7, #T_8aa82_row40_col7 {\n",
       "  background-color: #084688;\n",
       "  color: #f1f1f1;\n",
       "}\n",
       "#T_8aa82_row20_col4, #T_8aa82_row25_col6 {\n",
       "  background-color: #379ac5;\n",
       "  color: #f1f1f1;\n",
       "}\n",
       "#T_8aa82_row20_col5 {\n",
       "  background-color: #085c9f;\n",
       "  color: #f1f1f1;\n",
       "}\n",
       "#T_8aa82_row20_col7 {\n",
       "  background-color: #87d1c0;\n",
       "  color: #000000;\n",
       "}\n",
       "#T_8aa82_row21_col5 {\n",
       "  background-color: #0d6dae;\n",
       "  color: #f1f1f1;\n",
       "}\n",
       "#T_8aa82_row21_col7, #T_8aa82_row26_col4 {\n",
       "  background-color: #77cac5;\n",
       "  color: #000000;\n",
       "}\n",
       "#T_8aa82_row22_col4 {\n",
       "  background-color: #c6e9c2;\n",
       "  color: #000000;\n",
       "}\n",
       "#T_8aa82_row22_col5 {\n",
       "  background-color: #73c8c7;\n",
       "  color: #000000;\n",
       "}\n",
       "#T_8aa82_row22_col6 {\n",
       "  background-color: #1979b5;\n",
       "  color: #f1f1f1;\n",
       "}\n",
       "#T_8aa82_row22_col7, #T_8aa82_row32_col6 {\n",
       "  background-color: #f1faeb;\n",
       "  color: #000000;\n",
       "}\n",
       "#T_8aa82_row23_col5, #T_8aa82_row27_col5 {\n",
       "  background-color: #92d5bc;\n",
       "  color: #000000;\n",
       "}\n",
       "#T_8aa82_row23_col6 {\n",
       "  background-color: #2182b9;\n",
       "  color: #f1f1f1;\n",
       "}\n",
       "#T_8aa82_row24_col4, #T_8aa82_row28_col4 {\n",
       "  background-color: #dcf1d7;\n",
       "  color: #000000;\n",
       "}\n",
       "#T_8aa82_row24_col5 {\n",
       "  background-color: #97d6bb;\n",
       "  color: #000000;\n",
       "}\n",
       "#T_8aa82_row25_col5 {\n",
       "  background-color: #bde5be;\n",
       "  color: #000000;\n",
       "}\n",
       "#T_8aa82_row26_col7 {\n",
       "  background-color: #bfe6bf;\n",
       "  color: #000000;\n",
       "}\n",
       "#T_8aa82_row28_col5 {\n",
       "  background-color: #9fdab8;\n",
       "  color: #000000;\n",
       "}\n",
       "#T_8aa82_row29_col6 {\n",
       "  background-color: #d0ecc9;\n",
       "  color: #000000;\n",
       "}\n",
       "#T_8aa82_row30_col6, #T_8aa82_row33_col5 {\n",
       "  background-color: #d5eece;\n",
       "  color: #000000;\n",
       "}\n",
       "#T_8aa82_row33_col4 {\n",
       "  background-color: #ebf7e5;\n",
       "  color: #000000;\n",
       "}\n",
       "#T_8aa82_row33_col6 {\n",
       "  background-color: #5fbdcd;\n",
       "  color: #000000;\n",
       "}\n",
       "</style>\n",
       "<table id=\"T_8aa82\">\n",
       "  <thead>\n",
       "    <tr>\n",
       "      <th class=\"index_name level0\" >season</th>\n",
       "      <th id=\"T_8aa82_level0_col0\" class=\"col_heading level0 col0\" >country</th>\n",
       "      <th id=\"T_8aa82_level0_col1\" class=\"col_heading level0 col1\" >store</th>\n",
       "      <th id=\"T_8aa82_level0_col2\" class=\"col_heading level0 col2\" >product</th>\n",
       "      <th id=\"T_8aa82_level0_col3\" class=\"col_heading level0 col3\" >year</th>\n",
       "      <th id=\"T_8aa82_level0_col4\" class=\"col_heading level0 col4\" >Autumn</th>\n",
       "      <th id=\"T_8aa82_level0_col5\" class=\"col_heading level0 col5\" >Spring</th>\n",
       "      <th id=\"T_8aa82_level0_col6\" class=\"col_heading level0 col6\" >Summer</th>\n",
       "      <th id=\"T_8aa82_level0_col7\" class=\"col_heading level0 col7\" >Winter</th>\n",
       "    </tr>\n",
       "  </thead>\n",
       "  <tbody>\n",
       "    <tr>\n",
       "      <th id=\"T_8aa82_level0_row0\" class=\"row_heading level0 row0\" >40</th>\n",
       "      <td id=\"T_8aa82_row0_col0\" class=\"data row0 col0\" >Kenya</td>\n",
       "      <td id=\"T_8aa82_row0_col1\" class=\"data row0 col1\" >Stickers for Less</td>\n",
       "      <td id=\"T_8aa82_row0_col2\" class=\"data row0 col2\" >Holographic Goose</td>\n",
       "      <td id=\"T_8aa82_row0_col3\" class=\"data row0 col3\" >2016</td>\n",
       "      <td id=\"T_8aa82_row0_col4\" class=\"data row0 col4\" >1.000000</td>\n",
       "      <td id=\"T_8aa82_row0_col5\" class=\"data row0 col5\" >4.000000</td>\n",
       "      <td id=\"T_8aa82_row0_col6\" class=\"data row0 col6\" >23.000000</td>\n",
       "      <td id=\"T_8aa82_row0_col7\" class=\"data row0 col7\" >0.000000</td>\n",
       "    </tr>\n",
       "    <tr>\n",
       "      <th id=\"T_8aa82_level0_row1\" class=\"row_heading level0 row1\" >39</th>\n",
       "      <td id=\"T_8aa82_row1_col0\" class=\"data row1 col0\" >Kenya</td>\n",
       "      <td id=\"T_8aa82_row1_col1\" class=\"data row1 col1\" >Stickers for Less</td>\n",
       "      <td id=\"T_8aa82_row1_col2\" class=\"data row1 col2\" >Holographic Goose</td>\n",
       "      <td id=\"T_8aa82_row1_col3\" class=\"data row1 col3\" >2015</td>\n",
       "      <td id=\"T_8aa82_row1_col4\" class=\"data row1 col4\" >4.000000</td>\n",
       "      <td id=\"T_8aa82_row1_col5\" class=\"data row1 col5\" >22.000000</td>\n",
       "      <td id=\"T_8aa82_row1_col6\" class=\"data row1 col6\" >51.000000</td>\n",
       "      <td id=\"T_8aa82_row1_col7\" class=\"data row1 col7\" >1.000000</td>\n",
       "    </tr>\n",
       "    <tr>\n",
       "      <th id=\"T_8aa82_level0_row2\" class=\"row_heading level0 row2\" >38</th>\n",
       "      <td id=\"T_8aa82_row2_col0\" class=\"data row2 col0\" >Kenya</td>\n",
       "      <td id=\"T_8aa82_row2_col1\" class=\"data row2 col1\" >Stickers for Less</td>\n",
       "      <td id=\"T_8aa82_row2_col2\" class=\"data row2 col2\" >Holographic Goose</td>\n",
       "      <td id=\"T_8aa82_row2_col3\" class=\"data row2 col3\" >2014</td>\n",
       "      <td id=\"T_8aa82_row2_col4\" class=\"data row2 col4\" >15.000000</td>\n",
       "      <td id=\"T_8aa82_row2_col5\" class=\"data row2 col5\" >33.000000</td>\n",
       "      <td id=\"T_8aa82_row2_col6\" class=\"data row2 col6\" >64.000000</td>\n",
       "      <td id=\"T_8aa82_row2_col7\" class=\"data row2 col7\" >1.000000</td>\n",
       "    </tr>\n",
       "    <tr>\n",
       "      <th id=\"T_8aa82_level0_row3\" class=\"row_heading level0 row3\" >37</th>\n",
       "      <td id=\"T_8aa82_row3_col0\" class=\"data row3 col0\" >Kenya</td>\n",
       "      <td id=\"T_8aa82_row3_col1\" class=\"data row3 col1\" >Stickers for Less</td>\n",
       "      <td id=\"T_8aa82_row3_col2\" class=\"data row3 col2\" >Holographic Goose</td>\n",
       "      <td id=\"T_8aa82_row3_col3\" class=\"data row3 col3\" >2013</td>\n",
       "      <td id=\"T_8aa82_row3_col4\" class=\"data row3 col4\" >41.000000</td>\n",
       "      <td id=\"T_8aa82_row3_col5\" class=\"data row3 col5\" >66.000000</td>\n",
       "      <td id=\"T_8aa82_row3_col6\" class=\"data row3 col6\" >80.000000</td>\n",
       "      <td id=\"T_8aa82_row3_col7\" class=\"data row3 col7\" >13.000000</td>\n",
       "    </tr>\n",
       "    <tr>\n",
       "      <th id=\"T_8aa82_level0_row4\" class=\"row_heading level0 row4\" >36</th>\n",
       "      <td id=\"T_8aa82_row4_col0\" class=\"data row4 col0\" >Kenya</td>\n",
       "      <td id=\"T_8aa82_row4_col1\" class=\"data row4 col1\" >Stickers for Less</td>\n",
       "      <td id=\"T_8aa82_row4_col2\" class=\"data row4 col2\" >Holographic Goose</td>\n",
       "      <td id=\"T_8aa82_row4_col3\" class=\"data row4 col3\" >2012</td>\n",
       "      <td id=\"T_8aa82_row4_col4\" class=\"data row4 col4\" >68.000000</td>\n",
       "      <td id=\"T_8aa82_row4_col5\" class=\"data row4 col5\" >74.000000</td>\n",
       "      <td id=\"T_8aa82_row4_col6\" class=\"data row4 col6\" >89.000000</td>\n",
       "      <td id=\"T_8aa82_row4_col7\" class=\"data row4 col7\" >34.000000</td>\n",
       "    </tr>\n",
       "    <tr>\n",
       "      <th id=\"T_8aa82_level0_row5\" class=\"row_heading level0 row5\" >35</th>\n",
       "      <td id=\"T_8aa82_row5_col0\" class=\"data row5 col0\" >Kenya</td>\n",
       "      <td id=\"T_8aa82_row5_col1\" class=\"data row5 col1\" >Stickers for Less</td>\n",
       "      <td id=\"T_8aa82_row5_col2\" class=\"data row5 col2\" >Holographic Goose</td>\n",
       "      <td id=\"T_8aa82_row5_col3\" class=\"data row5 col3\" >2011</td>\n",
       "      <td id=\"T_8aa82_row5_col4\" class=\"data row5 col4\" >87.000000</td>\n",
       "      <td id=\"T_8aa82_row5_col5\" class=\"data row5 col5\" >85.000000</td>\n",
       "      <td id=\"T_8aa82_row5_col6\" class=\"data row5 col6\" >92.000000</td>\n",
       "      <td id=\"T_8aa82_row5_col7\" class=\"data row5 col7\" >67.000000</td>\n",
       "    </tr>\n",
       "    <tr>\n",
       "      <th id=\"T_8aa82_level0_row6\" class=\"row_heading level0 row6\" >34</th>\n",
       "      <td id=\"T_8aa82_row6_col0\" class=\"data row6 col0\" >Kenya</td>\n",
       "      <td id=\"T_8aa82_row6_col1\" class=\"data row6 col1\" >Stickers for Less</td>\n",
       "      <td id=\"T_8aa82_row6_col2\" class=\"data row6 col2\" >Holographic Goose</td>\n",
       "      <td id=\"T_8aa82_row6_col3\" class=\"data row6 col3\" >2010</td>\n",
       "      <td id=\"T_8aa82_row6_col4\" class=\"data row6 col4\" >86.000000</td>\n",
       "      <td id=\"T_8aa82_row6_col5\" class=\"data row6 col5\" >92.000000</td>\n",
       "      <td id=\"T_8aa82_row6_col6\" class=\"data row6 col6\" >92.000000</td>\n",
       "      <td id=\"T_8aa82_row6_col7\" class=\"data row6 col7\" >73.000000</td>\n",
       "    </tr>\n",
       "    <tr>\n",
       "      <th id=\"T_8aa82_level0_row7\" class=\"row_heading level0 row7\" >33</th>\n",
       "      <td id=\"T_8aa82_row7_col0\" class=\"data row7 col0\" >Kenya</td>\n",
       "      <td id=\"T_8aa82_row7_col1\" class=\"data row7 col1\" >Premium Sticker Mart</td>\n",
       "      <td id=\"T_8aa82_row7_col2\" class=\"data row7 col2\" >Holographic Goose</td>\n",
       "      <td id=\"T_8aa82_row7_col3\" class=\"data row7 col3\" >2015</td>\n",
       "      <td id=\"T_8aa82_row7_col4\" class=\"data row7 col4\" >0.000000</td>\n",
       "      <td id=\"T_8aa82_row7_col5\" class=\"data row7 col5\" >0.000000</td>\n",
       "      <td id=\"T_8aa82_row7_col6\" class=\"data row7 col6\" >2.000000</td>\n",
       "      <td id=\"T_8aa82_row7_col7\" class=\"data row7 col7\" >0.000000</td>\n",
       "    </tr>\n",
       "    <tr>\n",
       "      <th id=\"T_8aa82_level0_row8\" class=\"row_heading level0 row8\" >32</th>\n",
       "      <td id=\"T_8aa82_row8_col0\" class=\"data row8 col0\" >Kenya</td>\n",
       "      <td id=\"T_8aa82_row8_col1\" class=\"data row8 col1\" >Premium Sticker Mart</td>\n",
       "      <td id=\"T_8aa82_row8_col2\" class=\"data row8 col2\" >Holographic Goose</td>\n",
       "      <td id=\"T_8aa82_row8_col3\" class=\"data row8 col3\" >2014</td>\n",
       "      <td id=\"T_8aa82_row8_col4\" class=\"data row8 col4\" >0.000000</td>\n",
       "      <td id=\"T_8aa82_row8_col5\" class=\"data row8 col5\" >0.000000</td>\n",
       "      <td id=\"T_8aa82_row8_col6\" class=\"data row8 col6\" >10.000000</td>\n",
       "      <td id=\"T_8aa82_row8_col7\" class=\"data row8 col7\" >0.000000</td>\n",
       "    </tr>\n",
       "    <tr>\n",
       "      <th id=\"T_8aa82_level0_row9\" class=\"row_heading level0 row9\" >31</th>\n",
       "      <td id=\"T_8aa82_row9_col0\" class=\"data row9 col0\" >Kenya</td>\n",
       "      <td id=\"T_8aa82_row9_col1\" class=\"data row9 col1\" >Premium Sticker Mart</td>\n",
       "      <td id=\"T_8aa82_row9_col2\" class=\"data row9 col2\" >Holographic Goose</td>\n",
       "      <td id=\"T_8aa82_row9_col3\" class=\"data row9 col3\" >2013</td>\n",
       "      <td id=\"T_8aa82_row9_col4\" class=\"data row9 col4\" >2.000000</td>\n",
       "      <td id=\"T_8aa82_row9_col5\" class=\"data row9 col5\" >11.000000</td>\n",
       "      <td id=\"T_8aa82_row9_col6\" class=\"data row9 col6\" >35.000000</td>\n",
       "      <td id=\"T_8aa82_row9_col7\" class=\"data row9 col7\" >0.000000</td>\n",
       "    </tr>\n",
       "    <tr>\n",
       "      <th id=\"T_8aa82_level0_row10\" class=\"row_heading level0 row10\" >30</th>\n",
       "      <td id=\"T_8aa82_row10_col0\" class=\"data row10 col0\" >Kenya</td>\n",
       "      <td id=\"T_8aa82_row10_col1\" class=\"data row10 col1\" >Premium Sticker Mart</td>\n",
       "      <td id=\"T_8aa82_row10_col2\" class=\"data row10 col2\" >Holographic Goose</td>\n",
       "      <td id=\"T_8aa82_row10_col3\" class=\"data row10 col3\" >2012</td>\n",
       "      <td id=\"T_8aa82_row10_col4\" class=\"data row10 col4\" >10.000000</td>\n",
       "      <td id=\"T_8aa82_row10_col5\" class=\"data row10 col5\" >24.000000</td>\n",
       "      <td id=\"T_8aa82_row10_col6\" class=\"data row10 col6\" >56.000000</td>\n",
       "      <td id=\"T_8aa82_row10_col7\" class=\"data row10 col7\" >2.000000</td>\n",
       "    </tr>\n",
       "    <tr>\n",
       "      <th id=\"T_8aa82_level0_row11\" class=\"row_heading level0 row11\" >29</th>\n",
       "      <td id=\"T_8aa82_row11_col0\" class=\"data row11 col0\" >Kenya</td>\n",
       "      <td id=\"T_8aa82_row11_col1\" class=\"data row11 col1\" >Premium Sticker Mart</td>\n",
       "      <td id=\"T_8aa82_row11_col2\" class=\"data row11 col2\" >Holographic Goose</td>\n",
       "      <td id=\"T_8aa82_row11_col3\" class=\"data row11 col3\" >2011</td>\n",
       "      <td id=\"T_8aa82_row11_col4\" class=\"data row11 col4\" >50.000000</td>\n",
       "      <td id=\"T_8aa82_row11_col5\" class=\"data row11 col5\" >66.000000</td>\n",
       "      <td id=\"T_8aa82_row11_col6\" class=\"data row11 col6\" >85.000000</td>\n",
       "      <td id=\"T_8aa82_row11_col7\" class=\"data row11 col7\" >16.000000</td>\n",
       "    </tr>\n",
       "    <tr>\n",
       "      <th id=\"T_8aa82_level0_row12\" class=\"row_heading level0 row12\" >28</th>\n",
       "      <td id=\"T_8aa82_row12_col0\" class=\"data row12 col0\" >Kenya</td>\n",
       "      <td id=\"T_8aa82_row12_col1\" class=\"data row12 col1\" >Premium Sticker Mart</td>\n",
       "      <td id=\"T_8aa82_row12_col2\" class=\"data row12 col2\" >Holographic Goose</td>\n",
       "      <td id=\"T_8aa82_row12_col3\" class=\"data row12 col3\" >2010</td>\n",
       "      <td id=\"T_8aa82_row12_col4\" class=\"data row12 col4\" >61.000000</td>\n",
       "      <td id=\"T_8aa82_row12_col5\" class=\"data row12 col5\" >81.000000</td>\n",
       "      <td id=\"T_8aa82_row12_col6\" class=\"data row12 col6\" >91.000000</td>\n",
       "      <td id=\"T_8aa82_row12_col7\" class=\"data row12 col7\" >44.000000</td>\n",
       "    </tr>\n",
       "    <tr>\n",
       "      <th id=\"T_8aa82_level0_row13\" class=\"row_heading level0 row13\" >27</th>\n",
       "      <td id=\"T_8aa82_row13_col0\" class=\"data row13 col0\" >Kenya</td>\n",
       "      <td id=\"T_8aa82_row13_col1\" class=\"data row13 col1\" >Discount Stickers</td>\n",
       "      <td id=\"T_8aa82_row13_col2\" class=\"data row13 col2\" >Holographic Goose</td>\n",
       "      <td id=\"T_8aa82_row13_col3\" class=\"data row13 col3\" >2016</td>\n",
       "      <td id=\"T_8aa82_row13_col4\" class=\"data row13 col4\" >91.000000</td>\n",
       "      <td id=\"T_8aa82_row13_col5\" class=\"data row13 col5\" >92.000000</td>\n",
       "      <td id=\"T_8aa82_row13_col6\" class=\"data row13 col6\" >92.000000</td>\n",
       "      <td id=\"T_8aa82_row13_col7\" class=\"data row13 col7\" >91.000000</td>\n",
       "    </tr>\n",
       "    <tr>\n",
       "      <th id=\"T_8aa82_level0_row14\" class=\"row_heading level0 row14\" >26</th>\n",
       "      <td id=\"T_8aa82_row14_col0\" class=\"data row14 col0\" >Kenya</td>\n",
       "      <td id=\"T_8aa82_row14_col1\" class=\"data row14 col1\" >Discount Stickers</td>\n",
       "      <td id=\"T_8aa82_row14_col2\" class=\"data row14 col2\" >Holographic Goose</td>\n",
       "      <td id=\"T_8aa82_row14_col3\" class=\"data row14 col3\" >2015</td>\n",
       "      <td id=\"T_8aa82_row14_col4\" class=\"data row14 col4\" >91.000000</td>\n",
       "      <td id=\"T_8aa82_row14_col5\" class=\"data row14 col5\" >92.000000</td>\n",
       "      <td id=\"T_8aa82_row14_col6\" class=\"data row14 col6\" >92.000000</td>\n",
       "      <td id=\"T_8aa82_row14_col7\" class=\"data row14 col7\" >90.000000</td>\n",
       "    </tr>\n",
       "    <tr>\n",
       "      <th id=\"T_8aa82_level0_row15\" class=\"row_heading level0 row15\" >25</th>\n",
       "      <td id=\"T_8aa82_row15_col0\" class=\"data row15 col0\" >Kenya</td>\n",
       "      <td id=\"T_8aa82_row15_col1\" class=\"data row15 col1\" >Discount Stickers</td>\n",
       "      <td id=\"T_8aa82_row15_col2\" class=\"data row15 col2\" >Holographic Goose</td>\n",
       "      <td id=\"T_8aa82_row15_col3\" class=\"data row15 col3\" >2014</td>\n",
       "      <td id=\"T_8aa82_row15_col4\" class=\"data row15 col4\" >91.000000</td>\n",
       "      <td id=\"T_8aa82_row15_col5\" class=\"data row15 col5\" >92.000000</td>\n",
       "      <td id=\"T_8aa82_row15_col6\" class=\"data row15 col6\" >92.000000</td>\n",
       "      <td id=\"T_8aa82_row15_col7\" class=\"data row15 col7\" >90.000000</td>\n",
       "    </tr>\n",
       "    <tr>\n",
       "      <th id=\"T_8aa82_level0_row16\" class=\"row_heading level0 row16\" >24</th>\n",
       "      <td id=\"T_8aa82_row16_col0\" class=\"data row16 col0\" >Kenya</td>\n",
       "      <td id=\"T_8aa82_row16_col1\" class=\"data row16 col1\" >Discount Stickers</td>\n",
       "      <td id=\"T_8aa82_row16_col2\" class=\"data row16 col2\" >Holographic Goose</td>\n",
       "      <td id=\"T_8aa82_row16_col3\" class=\"data row16 col3\" >2013</td>\n",
       "      <td id=\"T_8aa82_row16_col4\" class=\"data row16 col4\" >91.000000</td>\n",
       "      <td id=\"T_8aa82_row16_col5\" class=\"data row16 col5\" >92.000000</td>\n",
       "      <td id=\"T_8aa82_row16_col6\" class=\"data row16 col6\" >92.000000</td>\n",
       "      <td id=\"T_8aa82_row16_col7\" class=\"data row16 col7\" >90.000000</td>\n",
       "    </tr>\n",
       "    <tr>\n",
       "      <th id=\"T_8aa82_level0_row17\" class=\"row_heading level0 row17\" >23</th>\n",
       "      <td id=\"T_8aa82_row17_col0\" class=\"data row17 col0\" >Kenya</td>\n",
       "      <td id=\"T_8aa82_row17_col1\" class=\"data row17 col1\" >Discount Stickers</td>\n",
       "      <td id=\"T_8aa82_row17_col2\" class=\"data row17 col2\" >Holographic Goose</td>\n",
       "      <td id=\"T_8aa82_row17_col3\" class=\"data row17 col3\" >2012</td>\n",
       "      <td id=\"T_8aa82_row17_col4\" class=\"data row17 col4\" >91.000000</td>\n",
       "      <td id=\"T_8aa82_row17_col5\" class=\"data row17 col5\" >92.000000</td>\n",
       "      <td id=\"T_8aa82_row17_col6\" class=\"data row17 col6\" >92.000000</td>\n",
       "      <td id=\"T_8aa82_row17_col7\" class=\"data row17 col7\" >91.000000</td>\n",
       "    </tr>\n",
       "    <tr>\n",
       "      <th id=\"T_8aa82_level0_row18\" class=\"row_heading level0 row18\" >22</th>\n",
       "      <td id=\"T_8aa82_row18_col0\" class=\"data row18 col0\" >Kenya</td>\n",
       "      <td id=\"T_8aa82_row18_col1\" class=\"data row18 col1\" >Discount Stickers</td>\n",
       "      <td id=\"T_8aa82_row18_col2\" class=\"data row18 col2\" >Holographic Goose</td>\n",
       "      <td id=\"T_8aa82_row18_col3\" class=\"data row18 col3\" >2011</td>\n",
       "      <td id=\"T_8aa82_row18_col4\" class=\"data row18 col4\" >91.000000</td>\n",
       "      <td id=\"T_8aa82_row18_col5\" class=\"data row18 col5\" >92.000000</td>\n",
       "      <td id=\"T_8aa82_row18_col6\" class=\"data row18 col6\" >92.000000</td>\n",
       "      <td id=\"T_8aa82_row18_col7\" class=\"data row18 col7\" >90.000000</td>\n",
       "    </tr>\n",
       "    <tr>\n",
       "      <th id=\"T_8aa82_level0_row19\" class=\"row_heading level0 row19\" >21</th>\n",
       "      <td id=\"T_8aa82_row19_col0\" class=\"data row19 col0\" >Kenya</td>\n",
       "      <td id=\"T_8aa82_row19_col1\" class=\"data row19 col1\" >Discount Stickers</td>\n",
       "      <td id=\"T_8aa82_row19_col2\" class=\"data row19 col2\" >Holographic Goose</td>\n",
       "      <td id=\"T_8aa82_row19_col3\" class=\"data row19 col3\" >2010</td>\n",
       "      <td id=\"T_8aa82_row19_col4\" class=\"data row19 col4\" >91.000000</td>\n",
       "      <td id=\"T_8aa82_row19_col5\" class=\"data row19 col5\" >92.000000</td>\n",
       "      <td id=\"T_8aa82_row19_col6\" class=\"data row19 col6\" >92.000000</td>\n",
       "      <td id=\"T_8aa82_row19_col7\" class=\"data row19 col7\" >90.000000</td>\n",
       "    </tr>\n",
       "    <tr>\n",
       "      <th id=\"T_8aa82_level0_row20\" class=\"row_heading level0 row20\" >20</th>\n",
       "      <td id=\"T_8aa82_row20_col0\" class=\"data row20 col0\" >Canada</td>\n",
       "      <td id=\"T_8aa82_row20_col1\" class=\"data row20 col1\" >Stickers for Less</td>\n",
       "      <td id=\"T_8aa82_row20_col2\" class=\"data row20 col2\" >Holographic Goose</td>\n",
       "      <td id=\"T_8aa82_row20_col3\" class=\"data row20 col3\" >2016</td>\n",
       "      <td id=\"T_8aa82_row20_col4\" class=\"data row20 col4\" >65.000000</td>\n",
       "      <td id=\"T_8aa82_row20_col5\" class=\"data row20 col5\" >84.000000</td>\n",
       "      <td id=\"T_8aa82_row20_col6\" class=\"data row20 col6\" >90.000000</td>\n",
       "      <td id=\"T_8aa82_row20_col7\" class=\"data row20 col7\" >43.000000</td>\n",
       "    </tr>\n",
       "    <tr>\n",
       "      <th id=\"T_8aa82_level0_row21\" class=\"row_heading level0 row21\" >19</th>\n",
       "      <td id=\"T_8aa82_row21_col0\" class=\"data row21 col0\" >Canada</td>\n",
       "      <td id=\"T_8aa82_row21_col1\" class=\"data row21 col1\" >Stickers for Less</td>\n",
       "      <td id=\"T_8aa82_row21_col2\" class=\"data row21 col2\" >Holographic Goose</td>\n",
       "      <td id=\"T_8aa82_row21_col3\" class=\"data row21 col3\" >2015</td>\n",
       "      <td id=\"T_8aa82_row21_col4\" class=\"data row21 col4\" >67.000000</td>\n",
       "      <td id=\"T_8aa82_row21_col5\" class=\"data row21 col5\" >79.000000</td>\n",
       "      <td id=\"T_8aa82_row21_col6\" class=\"data row21 col6\" >89.000000</td>\n",
       "      <td id=\"T_8aa82_row21_col7\" class=\"data row21 col7\" >47.000000</td>\n",
       "    </tr>\n",
       "    <tr>\n",
       "      <th id=\"T_8aa82_level0_row22\" class=\"row_heading level0 row22\" >18</th>\n",
       "      <td id=\"T_8aa82_row22_col0\" class=\"data row22 col0\" >Canada</td>\n",
       "      <td id=\"T_8aa82_row22_col1\" class=\"data row22 col1\" >Stickers for Less</td>\n",
       "      <td id=\"T_8aa82_row22_col2\" class=\"data row22 col2\" >Holographic Goose</td>\n",
       "      <td id=\"T_8aa82_row22_col3\" class=\"data row22 col3\" >2014</td>\n",
       "      <td id=\"T_8aa82_row22_col4\" class=\"data row22 col4\" >25.000000</td>\n",
       "      <td id=\"T_8aa82_row22_col5\" class=\"data row22 col5\" >48.000000</td>\n",
       "      <td id=\"T_8aa82_row22_col6\" class=\"data row22 col6\" >75.000000</td>\n",
       "      <td id=\"T_8aa82_row22_col7\" class=\"data row22 col7\" >3.000000</td>\n",
       "    </tr>\n",
       "    <tr>\n",
       "      <th id=\"T_8aa82_level0_row23\" class=\"row_heading level0 row23\" >17</th>\n",
       "      <td id=\"T_8aa82_row23_col0\" class=\"data row23 col0\" >Canada</td>\n",
       "      <td id=\"T_8aa82_row23_col1\" class=\"data row23 col1\" >Stickers for Less</td>\n",
       "      <td id=\"T_8aa82_row23_col2\" class=\"data row23 col2\" >Holographic Goose</td>\n",
       "      <td id=\"T_8aa82_row23_col3\" class=\"data row23 col3\" >2013</td>\n",
       "      <td id=\"T_8aa82_row23_col4\" class=\"data row23 col4\" >15.000000</td>\n",
       "      <td id=\"T_8aa82_row23_col5\" class=\"data row23 col5\" >40.000000</td>\n",
       "      <td id=\"T_8aa82_row23_col6\" class=\"data row23 col6\" >72.000000</td>\n",
       "      <td id=\"T_8aa82_row23_col7\" class=\"data row23 col7\" >4.000000</td>\n",
       "    </tr>\n",
       "    <tr>\n",
       "      <th id=\"T_8aa82_level0_row24\" class=\"row_heading level0 row24\" >16</th>\n",
       "      <td id=\"T_8aa82_row24_col0\" class=\"data row24 col0\" >Canada</td>\n",
       "      <td id=\"T_8aa82_row24_col1\" class=\"data row24 col1\" >Stickers for Less</td>\n",
       "      <td id=\"T_8aa82_row24_col2\" class=\"data row24 col2\" >Holographic Goose</td>\n",
       "      <td id=\"T_8aa82_row24_col3\" class=\"data row24 col3\" >2012</td>\n",
       "      <td id=\"T_8aa82_row24_col4\" class=\"data row24 col4\" >14.000000</td>\n",
       "      <td id=\"T_8aa82_row24_col5\" class=\"data row24 col5\" >39.000000</td>\n",
       "      <td id=\"T_8aa82_row24_col6\" class=\"data row24 col6\" >66.000000</td>\n",
       "      <td id=\"T_8aa82_row24_col7\" class=\"data row24 col7\" >1.000000</td>\n",
       "    </tr>\n",
       "    <tr>\n",
       "      <th id=\"T_8aa82_level0_row25\" class=\"row_heading level0 row25\" >15</th>\n",
       "      <td id=\"T_8aa82_row25_col0\" class=\"data row25 col0\" >Canada</td>\n",
       "      <td id=\"T_8aa82_row25_col1\" class=\"data row25 col1\" >Stickers for Less</td>\n",
       "      <td id=\"T_8aa82_row25_col2\" class=\"data row25 col2\" >Holographic Goose</td>\n",
       "      <td id=\"T_8aa82_row25_col3\" class=\"data row25 col3\" >2011</td>\n",
       "      <td id=\"T_8aa82_row25_col4\" class=\"data row25 col4\" >13.000000</td>\n",
       "      <td id=\"T_8aa82_row25_col5\" class=\"data row25 col5\" >28.000000</td>\n",
       "      <td id=\"T_8aa82_row25_col6\" class=\"data row25 col6\" >65.000000</td>\n",
       "      <td id=\"T_8aa82_row25_col7\" class=\"data row25 col7\" >1.000000</td>\n",
       "    </tr>\n",
       "    <tr>\n",
       "      <th id=\"T_8aa82_level0_row26\" class=\"row_heading level0 row26\" >14</th>\n",
       "      <td id=\"T_8aa82_row26_col0\" class=\"data row26 col0\" >Canada</td>\n",
       "      <td id=\"T_8aa82_row26_col1\" class=\"data row26 col1\" >Stickers for Less</td>\n",
       "      <td id=\"T_8aa82_row26_col2\" class=\"data row26 col2\" >Holographic Goose</td>\n",
       "      <td id=\"T_8aa82_row26_col3\" class=\"data row26 col3\" >2010</td>\n",
       "      <td id=\"T_8aa82_row26_col4\" class=\"data row26 col4\" >47.000000</td>\n",
       "      <td id=\"T_8aa82_row26_col5\" class=\"data row26 col5\" >74.000000</td>\n",
       "      <td id=\"T_8aa82_row26_col6\" class=\"data row26 col6\" >87.000000</td>\n",
       "      <td id=\"T_8aa82_row26_col7\" class=\"data row26 col7\" >27.000000</td>\n",
       "    </tr>\n",
       "    <tr>\n",
       "      <th id=\"T_8aa82_level0_row27\" class=\"row_heading level0 row27\" >13</th>\n",
       "      <td id=\"T_8aa82_row27_col0\" class=\"data row27 col0\" >Canada</td>\n",
       "      <td id=\"T_8aa82_row27_col1\" class=\"data row27 col1\" >Premium Sticker Mart</td>\n",
       "      <td id=\"T_8aa82_row27_col2\" class=\"data row27 col2\" >Holographic Goose</td>\n",
       "      <td id=\"T_8aa82_row27_col3\" class=\"data row27 col3\" >2016</td>\n",
       "      <td id=\"T_8aa82_row27_col4\" class=\"data row27 col4\" >15.000000</td>\n",
       "      <td id=\"T_8aa82_row27_col5\" class=\"data row27 col5\" >40.000000</td>\n",
       "      <td id=\"T_8aa82_row27_col6\" class=\"data row27 col6\" >74.000000</td>\n",
       "      <td id=\"T_8aa82_row27_col7\" class=\"data row27 col7\" >1.000000</td>\n",
       "    </tr>\n",
       "    <tr>\n",
       "      <th id=\"T_8aa82_level0_row28\" class=\"row_heading level0 row28\" >12</th>\n",
       "      <td id=\"T_8aa82_row28_col0\" class=\"data row28 col0\" >Canada</td>\n",
       "      <td id=\"T_8aa82_row28_col1\" class=\"data row28 col1\" >Premium Sticker Mart</td>\n",
       "      <td id=\"T_8aa82_row28_col2\" class=\"data row28 col2\" >Holographic Goose</td>\n",
       "      <td id=\"T_8aa82_row28_col3\" class=\"data row28 col3\" >2015</td>\n",
       "      <td id=\"T_8aa82_row28_col4\" class=\"data row28 col4\" >14.000000</td>\n",
       "      <td id=\"T_8aa82_row28_col5\" class=\"data row28 col5\" >37.000000</td>\n",
       "      <td id=\"T_8aa82_row28_col6\" class=\"data row28 col6\" >64.000000</td>\n",
       "      <td id=\"T_8aa82_row28_col7\" class=\"data row28 col7\" >0.000000</td>\n",
       "    </tr>\n",
       "    <tr>\n",
       "      <th id=\"T_8aa82_level0_row29\" class=\"row_heading level0 row29\" >11</th>\n",
       "      <td id=\"T_8aa82_row29_col0\" class=\"data row29 col0\" >Canada</td>\n",
       "      <td id=\"T_8aa82_row29_col1\" class=\"data row29 col1\" >Premium Sticker Mart</td>\n",
       "      <td id=\"T_8aa82_row29_col2\" class=\"data row29 col2\" >Holographic Goose</td>\n",
       "      <td id=\"T_8aa82_row29_col3\" class=\"data row29 col3\" >2014</td>\n",
       "      <td id=\"T_8aa82_row29_col4\" class=\"data row29 col4\" >0.000000</td>\n",
       "      <td id=\"T_8aa82_row29_col5\" class=\"data row29 col5\" >2.000000</td>\n",
       "      <td id=\"T_8aa82_row29_col6\" class=\"data row29 col6\" >21.000000</td>\n",
       "      <td id=\"T_8aa82_row29_col7\" class=\"data row29 col7\" >0.000000</td>\n",
       "    </tr>\n",
       "    <tr>\n",
       "      <th id=\"T_8aa82_level0_row30\" class=\"row_heading level0 row30\" >10</th>\n",
       "      <td id=\"T_8aa82_row30_col0\" class=\"data row30 col0\" >Canada</td>\n",
       "      <td id=\"T_8aa82_row30_col1\" class=\"data row30 col1\" >Premium Sticker Mart</td>\n",
       "      <td id=\"T_8aa82_row30_col2\" class=\"data row30 col2\" >Holographic Goose</td>\n",
       "      <td id=\"T_8aa82_row30_col3\" class=\"data row30 col3\" >2013</td>\n",
       "      <td id=\"T_8aa82_row30_col4\" class=\"data row30 col4\" >0.000000</td>\n",
       "      <td id=\"T_8aa82_row30_col5\" class=\"data row30 col5\" >2.000000</td>\n",
       "      <td id=\"T_8aa82_row30_col6\" class=\"data row30 col6\" >18.000000</td>\n",
       "      <td id=\"T_8aa82_row30_col7\" class=\"data row30 col7\" >0.000000</td>\n",
       "    </tr>\n",
       "    <tr>\n",
       "      <th id=\"T_8aa82_level0_row31\" class=\"row_heading level0 row31\" >9</th>\n",
       "      <td id=\"T_8aa82_row31_col0\" class=\"data row31 col0\" >Canada</td>\n",
       "      <td id=\"T_8aa82_row31_col1\" class=\"data row31 col1\" >Premium Sticker Mart</td>\n",
       "      <td id=\"T_8aa82_row31_col2\" class=\"data row31 col2\" >Holographic Goose</td>\n",
       "      <td id=\"T_8aa82_row31_col3\" class=\"data row31 col3\" >2012</td>\n",
       "      <td id=\"T_8aa82_row31_col4\" class=\"data row31 col4\" >0.000000</td>\n",
       "      <td id=\"T_8aa82_row31_col5\" class=\"data row31 col5\" >1.000000</td>\n",
       "      <td id=\"T_8aa82_row31_col6\" class=\"data row31 col6\" >11.000000</td>\n",
       "      <td id=\"T_8aa82_row31_col7\" class=\"data row31 col7\" >0.000000</td>\n",
       "    </tr>\n",
       "    <tr>\n",
       "      <th id=\"T_8aa82_level0_row32\" class=\"row_heading level0 row32\" >8</th>\n",
       "      <td id=\"T_8aa82_row32_col0\" class=\"data row32 col0\" >Canada</td>\n",
       "      <td id=\"T_8aa82_row32_col1\" class=\"data row32 col1\" >Premium Sticker Mart</td>\n",
       "      <td id=\"T_8aa82_row32_col2\" class=\"data row32 col2\" >Holographic Goose</td>\n",
       "      <td id=\"T_8aa82_row32_col3\" class=\"data row32 col3\" >2011</td>\n",
       "      <td id=\"T_8aa82_row32_col4\" class=\"data row32 col4\" >0.000000</td>\n",
       "      <td id=\"T_8aa82_row32_col5\" class=\"data row32 col5\" >0.000000</td>\n",
       "      <td id=\"T_8aa82_row32_col6\" class=\"data row32 col6\" >3.000000</td>\n",
       "      <td id=\"T_8aa82_row32_col7\" class=\"data row32 col7\" >0.000000</td>\n",
       "    </tr>\n",
       "    <tr>\n",
       "      <th id=\"T_8aa82_level0_row33\" class=\"row_heading level0 row33\" >7</th>\n",
       "      <td id=\"T_8aa82_row33_col0\" class=\"data row33 col0\" >Canada</td>\n",
       "      <td id=\"T_8aa82_row33_col1\" class=\"data row33 col1\" >Premium Sticker Mart</td>\n",
       "      <td id=\"T_8aa82_row33_col2\" class=\"data row33 col2\" >Holographic Goose</td>\n",
       "      <td id=\"T_8aa82_row33_col3\" class=\"data row33 col3\" >2010</td>\n",
       "      <td id=\"T_8aa82_row33_col4\" class=\"data row33 col4\" >6.000000</td>\n",
       "      <td id=\"T_8aa82_row33_col5\" class=\"data row33 col5\" >18.000000</td>\n",
       "      <td id=\"T_8aa82_row33_col6\" class=\"data row33 col6\" >53.000000</td>\n",
       "      <td id=\"T_8aa82_row33_col7\" class=\"data row33 col7\" >0.000000</td>\n",
       "    </tr>\n",
       "    <tr>\n",
       "      <th id=\"T_8aa82_level0_row34\" class=\"row_heading level0 row34\" >6</th>\n",
       "      <td id=\"T_8aa82_row34_col0\" class=\"data row34 col0\" >Canada</td>\n",
       "      <td id=\"T_8aa82_row34_col1\" class=\"data row34 col1\" >Discount Stickers</td>\n",
       "      <td id=\"T_8aa82_row34_col2\" class=\"data row34 col2\" >Holographic Goose</td>\n",
       "      <td id=\"T_8aa82_row34_col3\" class=\"data row34 col3\" >2016</td>\n",
       "      <td id=\"T_8aa82_row34_col4\" class=\"data row34 col4\" >91.000000</td>\n",
       "      <td id=\"T_8aa82_row34_col5\" class=\"data row34 col5\" >92.000000</td>\n",
       "      <td id=\"T_8aa82_row34_col6\" class=\"data row34 col6\" >92.000000</td>\n",
       "      <td id=\"T_8aa82_row34_col7\" class=\"data row34 col7\" >91.000000</td>\n",
       "    </tr>\n",
       "    <tr>\n",
       "      <th id=\"T_8aa82_level0_row35\" class=\"row_heading level0 row35\" >5</th>\n",
       "      <td id=\"T_8aa82_row35_col0\" class=\"data row35 col0\" >Canada</td>\n",
       "      <td id=\"T_8aa82_row35_col1\" class=\"data row35 col1\" >Discount Stickers</td>\n",
       "      <td id=\"T_8aa82_row35_col2\" class=\"data row35 col2\" >Holographic Goose</td>\n",
       "      <td id=\"T_8aa82_row35_col3\" class=\"data row35 col3\" >2015</td>\n",
       "      <td id=\"T_8aa82_row35_col4\" class=\"data row35 col4\" >91.000000</td>\n",
       "      <td id=\"T_8aa82_row35_col5\" class=\"data row35 col5\" >92.000000</td>\n",
       "      <td id=\"T_8aa82_row35_col6\" class=\"data row35 col6\" >92.000000</td>\n",
       "      <td id=\"T_8aa82_row35_col7\" class=\"data row35 col7\" >90.000000</td>\n",
       "    </tr>\n",
       "    <tr>\n",
       "      <th id=\"T_8aa82_level0_row36\" class=\"row_heading level0 row36\" >4</th>\n",
       "      <td id=\"T_8aa82_row36_col0\" class=\"data row36 col0\" >Canada</td>\n",
       "      <td id=\"T_8aa82_row36_col1\" class=\"data row36 col1\" >Discount Stickers</td>\n",
       "      <td id=\"T_8aa82_row36_col2\" class=\"data row36 col2\" >Holographic Goose</td>\n",
       "      <td id=\"T_8aa82_row36_col3\" class=\"data row36 col3\" >2014</td>\n",
       "      <td id=\"T_8aa82_row36_col4\" class=\"data row36 col4\" >91.000000</td>\n",
       "      <td id=\"T_8aa82_row36_col5\" class=\"data row36 col5\" >92.000000</td>\n",
       "      <td id=\"T_8aa82_row36_col6\" class=\"data row36 col6\" >92.000000</td>\n",
       "      <td id=\"T_8aa82_row36_col7\" class=\"data row36 col7\" >90.000000</td>\n",
       "    </tr>\n",
       "    <tr>\n",
       "      <th id=\"T_8aa82_level0_row37\" class=\"row_heading level0 row37\" >3</th>\n",
       "      <td id=\"T_8aa82_row37_col0\" class=\"data row37 col0\" >Canada</td>\n",
       "      <td id=\"T_8aa82_row37_col1\" class=\"data row37 col1\" >Discount Stickers</td>\n",
       "      <td id=\"T_8aa82_row37_col2\" class=\"data row37 col2\" >Holographic Goose</td>\n",
       "      <td id=\"T_8aa82_row37_col3\" class=\"data row37 col3\" >2013</td>\n",
       "      <td id=\"T_8aa82_row37_col4\" class=\"data row37 col4\" >91.000000</td>\n",
       "      <td id=\"T_8aa82_row37_col5\" class=\"data row37 col5\" >92.000000</td>\n",
       "      <td id=\"T_8aa82_row37_col6\" class=\"data row37 col6\" >92.000000</td>\n",
       "      <td id=\"T_8aa82_row37_col7\" class=\"data row37 col7\" >90.000000</td>\n",
       "    </tr>\n",
       "    <tr>\n",
       "      <th id=\"T_8aa82_level0_row38\" class=\"row_heading level0 row38\" >2</th>\n",
       "      <td id=\"T_8aa82_row38_col0\" class=\"data row38 col0\" >Canada</td>\n",
       "      <td id=\"T_8aa82_row38_col1\" class=\"data row38 col1\" >Discount Stickers</td>\n",
       "      <td id=\"T_8aa82_row38_col2\" class=\"data row38 col2\" >Holographic Goose</td>\n",
       "      <td id=\"T_8aa82_row38_col3\" class=\"data row38 col3\" >2012</td>\n",
       "      <td id=\"T_8aa82_row38_col4\" class=\"data row38 col4\" >91.000000</td>\n",
       "      <td id=\"T_8aa82_row38_col5\" class=\"data row38 col5\" >92.000000</td>\n",
       "      <td id=\"T_8aa82_row38_col6\" class=\"data row38 col6\" >92.000000</td>\n",
       "      <td id=\"T_8aa82_row38_col7\" class=\"data row38 col7\" >91.000000</td>\n",
       "    </tr>\n",
       "    <tr>\n",
       "      <th id=\"T_8aa82_level0_row39\" class=\"row_heading level0 row39\" >1</th>\n",
       "      <td id=\"T_8aa82_row39_col0\" class=\"data row39 col0\" >Canada</td>\n",
       "      <td id=\"T_8aa82_row39_col1\" class=\"data row39 col1\" >Discount Stickers</td>\n",
       "      <td id=\"T_8aa82_row39_col2\" class=\"data row39 col2\" >Holographic Goose</td>\n",
       "      <td id=\"T_8aa82_row39_col3\" class=\"data row39 col3\" >2011</td>\n",
       "      <td id=\"T_8aa82_row39_col4\" class=\"data row39 col4\" >91.000000</td>\n",
       "      <td id=\"T_8aa82_row39_col5\" class=\"data row39 col5\" >92.000000</td>\n",
       "      <td id=\"T_8aa82_row39_col6\" class=\"data row39 col6\" >92.000000</td>\n",
       "      <td id=\"T_8aa82_row39_col7\" class=\"data row39 col7\" >90.000000</td>\n",
       "    </tr>\n",
       "    <tr>\n",
       "      <th id=\"T_8aa82_level0_row40\" class=\"row_heading level0 row40\" >0</th>\n",
       "      <td id=\"T_8aa82_row40_col0\" class=\"data row40 col0\" >Canada</td>\n",
       "      <td id=\"T_8aa82_row40_col1\" class=\"data row40 col1\" >Discount Stickers</td>\n",
       "      <td id=\"T_8aa82_row40_col2\" class=\"data row40 col2\" >Holographic Goose</td>\n",
       "      <td id=\"T_8aa82_row40_col3\" class=\"data row40 col3\" >2010</td>\n",
       "      <td id=\"T_8aa82_row40_col4\" class=\"data row40 col4\" >91.000000</td>\n",
       "      <td id=\"T_8aa82_row40_col5\" class=\"data row40 col5\" >92.000000</td>\n",
       "      <td id=\"T_8aa82_row40_col6\" class=\"data row40 col6\" >92.000000</td>\n",
       "      <td id=\"T_8aa82_row40_col7\" class=\"data row40 col7\" >90.000000</td>\n",
       "    </tr>\n",
       "  </tbody>\n",
       "</table>\n"
      ],
      "text/plain": [
       "<pandas.io.formats.style.Styler at 0x287473860>"
      ]
     },
     "execution_count": 155,
     "metadata": {},
     "output_type": "execute_result"
    }
   ],
   "source": [
    "train['year'] = train.year.astype(str)\n",
    "display = train.loc[(train['num_sold'] == 0) & (train['product'] == 'Holographic Goose')].groupby(['country', 'store', 'product','year','season'])['num_sold'].count().astype(int).unstack().reset_index().fillna(0)\n",
    "display = display.sort_values(by=['country', 'store', 'product', 'year'], ascending=False)\n",
    "\n",
    "\n",
    "display.style.background_gradient(axis=None, cmap=\"GnBu\")"
   ]
  },
  {
   "cell_type": "markdown",
   "metadata": {},
   "source": [
    "### less demand for the holographic goose sticker in the summer \n",
    "### discount stickers does sell any Holographic Goose stickers "
   ]
  },
  {
   "cell_type": "markdown",
   "metadata": {},
   "source": []
  }
 ],
 "metadata": {
  "kernelspec": {
   "display_name": ".venv",
   "language": "python",
   "name": "python3"
  },
  "language_info": {
   "codemirror_mode": {
    "name": "ipython",
    "version": 3
   },
   "file_extension": ".py",
   "mimetype": "text/x-python",
   "name": "python",
   "nbconvert_exporter": "python",
   "pygments_lexer": "ipython3",
   "version": "3.12.2"
  }
 },
 "nbformat": 4,
 "nbformat_minor": 2
}
